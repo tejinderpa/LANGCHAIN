{
  "nbformat": 4,
  "nbformat_minor": 0,
  "metadata": {
    "colab": {
      "provenance": [],
      "authorship_tag": "ABX9TyMQ7DHzc6zqjJelTFeeyiOm",
      "include_colab_link": true
    },
    "kernelspec": {
      "name": "python3",
      "display_name": "Python 3"
    },
    "language_info": {
      "name": "python"
    },
    "widgets": {
      "application/vnd.jupyter.widget-state+json": {
        "8918f51bc99e44c4ace8c31c957066ed": {
          "model_module": "@jupyter-widgets/controls",
          "model_name": "HBoxModel",
          "model_module_version": "1.5.0",
          "state": {
            "_dom_classes": [],
            "_model_module": "@jupyter-widgets/controls",
            "_model_module_version": "1.5.0",
            "_model_name": "HBoxModel",
            "_view_count": null,
            "_view_module": "@jupyter-widgets/controls",
            "_view_module_version": "1.5.0",
            "_view_name": "HBoxView",
            "box_style": "",
            "children": [
              "IPY_MODEL_c11306b37acd4cb586dd823cefa92c6f",
              "IPY_MODEL_a44de14e3cb94c3dbe94d04feb3e2804",
              "IPY_MODEL_1997e2504a5141a8993a4fbf067154ad"
            ],
            "layout": "IPY_MODEL_fc674172876e468990a11f8c3ec8962d"
          }
        },
        "c11306b37acd4cb586dd823cefa92c6f": {
          "model_module": "@jupyter-widgets/controls",
          "model_name": "HTMLModel",
          "model_module_version": "1.5.0",
          "state": {
            "_dom_classes": [],
            "_model_module": "@jupyter-widgets/controls",
            "_model_module_version": "1.5.0",
            "_model_name": "HTMLModel",
            "_view_count": null,
            "_view_module": "@jupyter-widgets/controls",
            "_view_module_version": "1.5.0",
            "_view_name": "HTMLView",
            "description": "",
            "description_tooltip": null,
            "layout": "IPY_MODEL_753642a05f3e4a979978c03479c8de6b",
            "placeholder": "​",
            "style": "IPY_MODEL_3f5b9248c2c44bde871a9d073ce3bfbe",
            "value": "modules.json: 100%"
          }
        },
        "a44de14e3cb94c3dbe94d04feb3e2804": {
          "model_module": "@jupyter-widgets/controls",
          "model_name": "FloatProgressModel",
          "model_module_version": "1.5.0",
          "state": {
            "_dom_classes": [],
            "_model_module": "@jupyter-widgets/controls",
            "_model_module_version": "1.5.0",
            "_model_name": "FloatProgressModel",
            "_view_count": null,
            "_view_module": "@jupyter-widgets/controls",
            "_view_module_version": "1.5.0",
            "_view_name": "ProgressView",
            "bar_style": "success",
            "description": "",
            "description_tooltip": null,
            "layout": "IPY_MODEL_45a86b9068d7495f88c0900f74d78b3b",
            "max": 349,
            "min": 0,
            "orientation": "horizontal",
            "style": "IPY_MODEL_b274bc6f52ca4e4a830516652da54ebf",
            "value": 349
          }
        },
        "1997e2504a5141a8993a4fbf067154ad": {
          "model_module": "@jupyter-widgets/controls",
          "model_name": "HTMLModel",
          "model_module_version": "1.5.0",
          "state": {
            "_dom_classes": [],
            "_model_module": "@jupyter-widgets/controls",
            "_model_module_version": "1.5.0",
            "_model_name": "HTMLModel",
            "_view_count": null,
            "_view_module": "@jupyter-widgets/controls",
            "_view_module_version": "1.5.0",
            "_view_name": "HTMLView",
            "description": "",
            "description_tooltip": null,
            "layout": "IPY_MODEL_00f0070755e640cca3789f2e833a9432",
            "placeholder": "​",
            "style": "IPY_MODEL_48a824bf5ff94ce685dd37d739255396",
            "value": " 349/349 [00:00&lt;00:00, 21.6kB/s]"
          }
        },
        "fc674172876e468990a11f8c3ec8962d": {
          "model_module": "@jupyter-widgets/base",
          "model_name": "LayoutModel",
          "model_module_version": "1.2.0",
          "state": {
            "_model_module": "@jupyter-widgets/base",
            "_model_module_version": "1.2.0",
            "_model_name": "LayoutModel",
            "_view_count": null,
            "_view_module": "@jupyter-widgets/base",
            "_view_module_version": "1.2.0",
            "_view_name": "LayoutView",
            "align_content": null,
            "align_items": null,
            "align_self": null,
            "border": null,
            "bottom": null,
            "display": null,
            "flex": null,
            "flex_flow": null,
            "grid_area": null,
            "grid_auto_columns": null,
            "grid_auto_flow": null,
            "grid_auto_rows": null,
            "grid_column": null,
            "grid_gap": null,
            "grid_row": null,
            "grid_template_areas": null,
            "grid_template_columns": null,
            "grid_template_rows": null,
            "height": null,
            "justify_content": null,
            "justify_items": null,
            "left": null,
            "margin": null,
            "max_height": null,
            "max_width": null,
            "min_height": null,
            "min_width": null,
            "object_fit": null,
            "object_position": null,
            "order": null,
            "overflow": null,
            "overflow_x": null,
            "overflow_y": null,
            "padding": null,
            "right": null,
            "top": null,
            "visibility": null,
            "width": null
          }
        },
        "753642a05f3e4a979978c03479c8de6b": {
          "model_module": "@jupyter-widgets/base",
          "model_name": "LayoutModel",
          "model_module_version": "1.2.0",
          "state": {
            "_model_module": "@jupyter-widgets/base",
            "_model_module_version": "1.2.0",
            "_model_name": "LayoutModel",
            "_view_count": null,
            "_view_module": "@jupyter-widgets/base",
            "_view_module_version": "1.2.0",
            "_view_name": "LayoutView",
            "align_content": null,
            "align_items": null,
            "align_self": null,
            "border": null,
            "bottom": null,
            "display": null,
            "flex": null,
            "flex_flow": null,
            "grid_area": null,
            "grid_auto_columns": null,
            "grid_auto_flow": null,
            "grid_auto_rows": null,
            "grid_column": null,
            "grid_gap": null,
            "grid_row": null,
            "grid_template_areas": null,
            "grid_template_columns": null,
            "grid_template_rows": null,
            "height": null,
            "justify_content": null,
            "justify_items": null,
            "left": null,
            "margin": null,
            "max_height": null,
            "max_width": null,
            "min_height": null,
            "min_width": null,
            "object_fit": null,
            "object_position": null,
            "order": null,
            "overflow": null,
            "overflow_x": null,
            "overflow_y": null,
            "padding": null,
            "right": null,
            "top": null,
            "visibility": null,
            "width": null
          }
        },
        "3f5b9248c2c44bde871a9d073ce3bfbe": {
          "model_module": "@jupyter-widgets/controls",
          "model_name": "DescriptionStyleModel",
          "model_module_version": "1.5.0",
          "state": {
            "_model_module": "@jupyter-widgets/controls",
            "_model_module_version": "1.5.0",
            "_model_name": "DescriptionStyleModel",
            "_view_count": null,
            "_view_module": "@jupyter-widgets/base",
            "_view_module_version": "1.2.0",
            "_view_name": "StyleView",
            "description_width": ""
          }
        },
        "45a86b9068d7495f88c0900f74d78b3b": {
          "model_module": "@jupyter-widgets/base",
          "model_name": "LayoutModel",
          "model_module_version": "1.2.0",
          "state": {
            "_model_module": "@jupyter-widgets/base",
            "_model_module_version": "1.2.0",
            "_model_name": "LayoutModel",
            "_view_count": null,
            "_view_module": "@jupyter-widgets/base",
            "_view_module_version": "1.2.0",
            "_view_name": "LayoutView",
            "align_content": null,
            "align_items": null,
            "align_self": null,
            "border": null,
            "bottom": null,
            "display": null,
            "flex": null,
            "flex_flow": null,
            "grid_area": null,
            "grid_auto_columns": null,
            "grid_auto_flow": null,
            "grid_auto_rows": null,
            "grid_column": null,
            "grid_gap": null,
            "grid_row": null,
            "grid_template_areas": null,
            "grid_template_columns": null,
            "grid_template_rows": null,
            "height": null,
            "justify_content": null,
            "justify_items": null,
            "left": null,
            "margin": null,
            "max_height": null,
            "max_width": null,
            "min_height": null,
            "min_width": null,
            "object_fit": null,
            "object_position": null,
            "order": null,
            "overflow": null,
            "overflow_x": null,
            "overflow_y": null,
            "padding": null,
            "right": null,
            "top": null,
            "visibility": null,
            "width": null
          }
        },
        "b274bc6f52ca4e4a830516652da54ebf": {
          "model_module": "@jupyter-widgets/controls",
          "model_name": "ProgressStyleModel",
          "model_module_version": "1.5.0",
          "state": {
            "_model_module": "@jupyter-widgets/controls",
            "_model_module_version": "1.5.0",
            "_model_name": "ProgressStyleModel",
            "_view_count": null,
            "_view_module": "@jupyter-widgets/base",
            "_view_module_version": "1.2.0",
            "_view_name": "StyleView",
            "bar_color": null,
            "description_width": ""
          }
        },
        "00f0070755e640cca3789f2e833a9432": {
          "model_module": "@jupyter-widgets/base",
          "model_name": "LayoutModel",
          "model_module_version": "1.2.0",
          "state": {
            "_model_module": "@jupyter-widgets/base",
            "_model_module_version": "1.2.0",
            "_model_name": "LayoutModel",
            "_view_count": null,
            "_view_module": "@jupyter-widgets/base",
            "_view_module_version": "1.2.0",
            "_view_name": "LayoutView",
            "align_content": null,
            "align_items": null,
            "align_self": null,
            "border": null,
            "bottom": null,
            "display": null,
            "flex": null,
            "flex_flow": null,
            "grid_area": null,
            "grid_auto_columns": null,
            "grid_auto_flow": null,
            "grid_auto_rows": null,
            "grid_column": null,
            "grid_gap": null,
            "grid_row": null,
            "grid_template_areas": null,
            "grid_template_columns": null,
            "grid_template_rows": null,
            "height": null,
            "justify_content": null,
            "justify_items": null,
            "left": null,
            "margin": null,
            "max_height": null,
            "max_width": null,
            "min_height": null,
            "min_width": null,
            "object_fit": null,
            "object_position": null,
            "order": null,
            "overflow": null,
            "overflow_x": null,
            "overflow_y": null,
            "padding": null,
            "right": null,
            "top": null,
            "visibility": null,
            "width": null
          }
        },
        "48a824bf5ff94ce685dd37d739255396": {
          "model_module": "@jupyter-widgets/controls",
          "model_name": "DescriptionStyleModel",
          "model_module_version": "1.5.0",
          "state": {
            "_model_module": "@jupyter-widgets/controls",
            "_model_module_version": "1.5.0",
            "_model_name": "DescriptionStyleModel",
            "_view_count": null,
            "_view_module": "@jupyter-widgets/base",
            "_view_module_version": "1.2.0",
            "_view_name": "StyleView",
            "description_width": ""
          }
        },
        "882e7e3cefe14e8ca60bfdaa7fbd14b0": {
          "model_module": "@jupyter-widgets/controls",
          "model_name": "HBoxModel",
          "model_module_version": "1.5.0",
          "state": {
            "_dom_classes": [],
            "_model_module": "@jupyter-widgets/controls",
            "_model_module_version": "1.5.0",
            "_model_name": "HBoxModel",
            "_view_count": null,
            "_view_module": "@jupyter-widgets/controls",
            "_view_module_version": "1.5.0",
            "_view_name": "HBoxView",
            "box_style": "",
            "children": [
              "IPY_MODEL_96249e9aacac4c298dee017a7798b2c3",
              "IPY_MODEL_6cab72ccea8d4c20af4780011310f5af",
              "IPY_MODEL_cf5288c978d946a6842036cda87fdbaf"
            ],
            "layout": "IPY_MODEL_3841eea612b2417b907ed288a1d2751d"
          }
        },
        "96249e9aacac4c298dee017a7798b2c3": {
          "model_module": "@jupyter-widgets/controls",
          "model_name": "HTMLModel",
          "model_module_version": "1.5.0",
          "state": {
            "_dom_classes": [],
            "_model_module": "@jupyter-widgets/controls",
            "_model_module_version": "1.5.0",
            "_model_name": "HTMLModel",
            "_view_count": null,
            "_view_module": "@jupyter-widgets/controls",
            "_view_module_version": "1.5.0",
            "_view_name": "HTMLView",
            "description": "",
            "description_tooltip": null,
            "layout": "IPY_MODEL_0ecee715a4444f9ab02e63b1c35dc7a7",
            "placeholder": "​",
            "style": "IPY_MODEL_f0b5e425fcab4757b843399da2b5a19a",
            "value": "config_sentence_transformers.json: 100%"
          }
        },
        "6cab72ccea8d4c20af4780011310f5af": {
          "model_module": "@jupyter-widgets/controls",
          "model_name": "FloatProgressModel",
          "model_module_version": "1.5.0",
          "state": {
            "_dom_classes": [],
            "_model_module": "@jupyter-widgets/controls",
            "_model_module_version": "1.5.0",
            "_model_name": "FloatProgressModel",
            "_view_count": null,
            "_view_module": "@jupyter-widgets/controls",
            "_view_module_version": "1.5.0",
            "_view_name": "ProgressView",
            "bar_style": "success",
            "description": "",
            "description_tooltip": null,
            "layout": "IPY_MODEL_bbe6571f067c4a589f30aec7dd4fdcef",
            "max": 116,
            "min": 0,
            "orientation": "horizontal",
            "style": "IPY_MODEL_16ba809c1fb54e0483f1c9d5c8d4e095",
            "value": 116
          }
        },
        "cf5288c978d946a6842036cda87fdbaf": {
          "model_module": "@jupyter-widgets/controls",
          "model_name": "HTMLModel",
          "model_module_version": "1.5.0",
          "state": {
            "_dom_classes": [],
            "_model_module": "@jupyter-widgets/controls",
            "_model_module_version": "1.5.0",
            "_model_name": "HTMLModel",
            "_view_count": null,
            "_view_module": "@jupyter-widgets/controls",
            "_view_module_version": "1.5.0",
            "_view_name": "HTMLView",
            "description": "",
            "description_tooltip": null,
            "layout": "IPY_MODEL_80a37c79feb540ba8b6ba6b56dc181c4",
            "placeholder": "​",
            "style": "IPY_MODEL_52cc2b76ce6849c79a93e54fbd876ddc",
            "value": " 116/116 [00:00&lt;00:00, 6.98kB/s]"
          }
        },
        "3841eea612b2417b907ed288a1d2751d": {
          "model_module": "@jupyter-widgets/base",
          "model_name": "LayoutModel",
          "model_module_version": "1.2.0",
          "state": {
            "_model_module": "@jupyter-widgets/base",
            "_model_module_version": "1.2.0",
            "_model_name": "LayoutModel",
            "_view_count": null,
            "_view_module": "@jupyter-widgets/base",
            "_view_module_version": "1.2.0",
            "_view_name": "LayoutView",
            "align_content": null,
            "align_items": null,
            "align_self": null,
            "border": null,
            "bottom": null,
            "display": null,
            "flex": null,
            "flex_flow": null,
            "grid_area": null,
            "grid_auto_columns": null,
            "grid_auto_flow": null,
            "grid_auto_rows": null,
            "grid_column": null,
            "grid_gap": null,
            "grid_row": null,
            "grid_template_areas": null,
            "grid_template_columns": null,
            "grid_template_rows": null,
            "height": null,
            "justify_content": null,
            "justify_items": null,
            "left": null,
            "margin": null,
            "max_height": null,
            "max_width": null,
            "min_height": null,
            "min_width": null,
            "object_fit": null,
            "object_position": null,
            "order": null,
            "overflow": null,
            "overflow_x": null,
            "overflow_y": null,
            "padding": null,
            "right": null,
            "top": null,
            "visibility": null,
            "width": null
          }
        },
        "0ecee715a4444f9ab02e63b1c35dc7a7": {
          "model_module": "@jupyter-widgets/base",
          "model_name": "LayoutModel",
          "model_module_version": "1.2.0",
          "state": {
            "_model_module": "@jupyter-widgets/base",
            "_model_module_version": "1.2.0",
            "_model_name": "LayoutModel",
            "_view_count": null,
            "_view_module": "@jupyter-widgets/base",
            "_view_module_version": "1.2.0",
            "_view_name": "LayoutView",
            "align_content": null,
            "align_items": null,
            "align_self": null,
            "border": null,
            "bottom": null,
            "display": null,
            "flex": null,
            "flex_flow": null,
            "grid_area": null,
            "grid_auto_columns": null,
            "grid_auto_flow": null,
            "grid_auto_rows": null,
            "grid_column": null,
            "grid_gap": null,
            "grid_row": null,
            "grid_template_areas": null,
            "grid_template_columns": null,
            "grid_template_rows": null,
            "height": null,
            "justify_content": null,
            "justify_items": null,
            "left": null,
            "margin": null,
            "max_height": null,
            "max_width": null,
            "min_height": null,
            "min_width": null,
            "object_fit": null,
            "object_position": null,
            "order": null,
            "overflow": null,
            "overflow_x": null,
            "overflow_y": null,
            "padding": null,
            "right": null,
            "top": null,
            "visibility": null,
            "width": null
          }
        },
        "f0b5e425fcab4757b843399da2b5a19a": {
          "model_module": "@jupyter-widgets/controls",
          "model_name": "DescriptionStyleModel",
          "model_module_version": "1.5.0",
          "state": {
            "_model_module": "@jupyter-widgets/controls",
            "_model_module_version": "1.5.0",
            "_model_name": "DescriptionStyleModel",
            "_view_count": null,
            "_view_module": "@jupyter-widgets/base",
            "_view_module_version": "1.2.0",
            "_view_name": "StyleView",
            "description_width": ""
          }
        },
        "bbe6571f067c4a589f30aec7dd4fdcef": {
          "model_module": "@jupyter-widgets/base",
          "model_name": "LayoutModel",
          "model_module_version": "1.2.0",
          "state": {
            "_model_module": "@jupyter-widgets/base",
            "_model_module_version": "1.2.0",
            "_model_name": "LayoutModel",
            "_view_count": null,
            "_view_module": "@jupyter-widgets/base",
            "_view_module_version": "1.2.0",
            "_view_name": "LayoutView",
            "align_content": null,
            "align_items": null,
            "align_self": null,
            "border": null,
            "bottom": null,
            "display": null,
            "flex": null,
            "flex_flow": null,
            "grid_area": null,
            "grid_auto_columns": null,
            "grid_auto_flow": null,
            "grid_auto_rows": null,
            "grid_column": null,
            "grid_gap": null,
            "grid_row": null,
            "grid_template_areas": null,
            "grid_template_columns": null,
            "grid_template_rows": null,
            "height": null,
            "justify_content": null,
            "justify_items": null,
            "left": null,
            "margin": null,
            "max_height": null,
            "max_width": null,
            "min_height": null,
            "min_width": null,
            "object_fit": null,
            "object_position": null,
            "order": null,
            "overflow": null,
            "overflow_x": null,
            "overflow_y": null,
            "padding": null,
            "right": null,
            "top": null,
            "visibility": null,
            "width": null
          }
        },
        "16ba809c1fb54e0483f1c9d5c8d4e095": {
          "model_module": "@jupyter-widgets/controls",
          "model_name": "ProgressStyleModel",
          "model_module_version": "1.5.0",
          "state": {
            "_model_module": "@jupyter-widgets/controls",
            "_model_module_version": "1.5.0",
            "_model_name": "ProgressStyleModel",
            "_view_count": null,
            "_view_module": "@jupyter-widgets/base",
            "_view_module_version": "1.2.0",
            "_view_name": "StyleView",
            "bar_color": null,
            "description_width": ""
          }
        },
        "80a37c79feb540ba8b6ba6b56dc181c4": {
          "model_module": "@jupyter-widgets/base",
          "model_name": "LayoutModel",
          "model_module_version": "1.2.0",
          "state": {
            "_model_module": "@jupyter-widgets/base",
            "_model_module_version": "1.2.0",
            "_model_name": "LayoutModel",
            "_view_count": null,
            "_view_module": "@jupyter-widgets/base",
            "_view_module_version": "1.2.0",
            "_view_name": "LayoutView",
            "align_content": null,
            "align_items": null,
            "align_self": null,
            "border": null,
            "bottom": null,
            "display": null,
            "flex": null,
            "flex_flow": null,
            "grid_area": null,
            "grid_auto_columns": null,
            "grid_auto_flow": null,
            "grid_auto_rows": null,
            "grid_column": null,
            "grid_gap": null,
            "grid_row": null,
            "grid_template_areas": null,
            "grid_template_columns": null,
            "grid_template_rows": null,
            "height": null,
            "justify_content": null,
            "justify_items": null,
            "left": null,
            "margin": null,
            "max_height": null,
            "max_width": null,
            "min_height": null,
            "min_width": null,
            "object_fit": null,
            "object_position": null,
            "order": null,
            "overflow": null,
            "overflow_x": null,
            "overflow_y": null,
            "padding": null,
            "right": null,
            "top": null,
            "visibility": null,
            "width": null
          }
        },
        "52cc2b76ce6849c79a93e54fbd876ddc": {
          "model_module": "@jupyter-widgets/controls",
          "model_name": "DescriptionStyleModel",
          "model_module_version": "1.5.0",
          "state": {
            "_model_module": "@jupyter-widgets/controls",
            "_model_module_version": "1.5.0",
            "_model_name": "DescriptionStyleModel",
            "_view_count": null,
            "_view_module": "@jupyter-widgets/base",
            "_view_module_version": "1.2.0",
            "_view_name": "StyleView",
            "description_width": ""
          }
        },
        "efcae55468694f65b8adbefe85158cbc": {
          "model_module": "@jupyter-widgets/controls",
          "model_name": "HBoxModel",
          "model_module_version": "1.5.0",
          "state": {
            "_dom_classes": [],
            "_model_module": "@jupyter-widgets/controls",
            "_model_module_version": "1.5.0",
            "_model_name": "HBoxModel",
            "_view_count": null,
            "_view_module": "@jupyter-widgets/controls",
            "_view_module_version": "1.5.0",
            "_view_name": "HBoxView",
            "box_style": "",
            "children": [
              "IPY_MODEL_e1171918097a48b3ac368fc3a302fb0e",
              "IPY_MODEL_e4514615a8f7417fbc87fda602bd440e",
              "IPY_MODEL_22c8285d495141059c8b9932d2031fe8"
            ],
            "layout": "IPY_MODEL_08369e7abe1e40e8b40a60e344f85672"
          }
        },
        "e1171918097a48b3ac368fc3a302fb0e": {
          "model_module": "@jupyter-widgets/controls",
          "model_name": "HTMLModel",
          "model_module_version": "1.5.0",
          "state": {
            "_dom_classes": [],
            "_model_module": "@jupyter-widgets/controls",
            "_model_module_version": "1.5.0",
            "_model_name": "HTMLModel",
            "_view_count": null,
            "_view_module": "@jupyter-widgets/controls",
            "_view_module_version": "1.5.0",
            "_view_name": "HTMLView",
            "description": "",
            "description_tooltip": null,
            "layout": "IPY_MODEL_e9620a9550404c50807d73517a9fdec7",
            "placeholder": "​",
            "style": "IPY_MODEL_92b0cb6e09ec44d292d50bd249bd9196",
            "value": "README.md: "
          }
        },
        "e4514615a8f7417fbc87fda602bd440e": {
          "model_module": "@jupyter-widgets/controls",
          "model_name": "FloatProgressModel",
          "model_module_version": "1.5.0",
          "state": {
            "_dom_classes": [],
            "_model_module": "@jupyter-widgets/controls",
            "_model_module_version": "1.5.0",
            "_model_name": "FloatProgressModel",
            "_view_count": null,
            "_view_module": "@jupyter-widgets/controls",
            "_view_module_version": "1.5.0",
            "_view_name": "ProgressView",
            "bar_style": "success",
            "description": "",
            "description_tooltip": null,
            "layout": "IPY_MODEL_6890f1dc0ed24960b3cbe2bb2da33c01",
            "max": 1,
            "min": 0,
            "orientation": "horizontal",
            "style": "IPY_MODEL_203e6aacb7434e0ebe39a84a1ee68538",
            "value": 1
          }
        },
        "22c8285d495141059c8b9932d2031fe8": {
          "model_module": "@jupyter-widgets/controls",
          "model_name": "HTMLModel",
          "model_module_version": "1.5.0",
          "state": {
            "_dom_classes": [],
            "_model_module": "@jupyter-widgets/controls",
            "_model_module_version": "1.5.0",
            "_model_name": "HTMLModel",
            "_view_count": null,
            "_view_module": "@jupyter-widgets/controls",
            "_view_module_version": "1.5.0",
            "_view_name": "HTMLView",
            "description": "",
            "description_tooltip": null,
            "layout": "IPY_MODEL_e4dc337da0314dd19bef90579c93006c",
            "placeholder": "​",
            "style": "IPY_MODEL_bd8a8e53e72c4ab28007162ef54db9bc",
            "value": " 10.4k/? [00:00&lt;00:00, 489kB/s]"
          }
        },
        "08369e7abe1e40e8b40a60e344f85672": {
          "model_module": "@jupyter-widgets/base",
          "model_name": "LayoutModel",
          "model_module_version": "1.2.0",
          "state": {
            "_model_module": "@jupyter-widgets/base",
            "_model_module_version": "1.2.0",
            "_model_name": "LayoutModel",
            "_view_count": null,
            "_view_module": "@jupyter-widgets/base",
            "_view_module_version": "1.2.0",
            "_view_name": "LayoutView",
            "align_content": null,
            "align_items": null,
            "align_self": null,
            "border": null,
            "bottom": null,
            "display": null,
            "flex": null,
            "flex_flow": null,
            "grid_area": null,
            "grid_auto_columns": null,
            "grid_auto_flow": null,
            "grid_auto_rows": null,
            "grid_column": null,
            "grid_gap": null,
            "grid_row": null,
            "grid_template_areas": null,
            "grid_template_columns": null,
            "grid_template_rows": null,
            "height": null,
            "justify_content": null,
            "justify_items": null,
            "left": null,
            "margin": null,
            "max_height": null,
            "max_width": null,
            "min_height": null,
            "min_width": null,
            "object_fit": null,
            "object_position": null,
            "order": null,
            "overflow": null,
            "overflow_x": null,
            "overflow_y": null,
            "padding": null,
            "right": null,
            "top": null,
            "visibility": null,
            "width": null
          }
        },
        "e9620a9550404c50807d73517a9fdec7": {
          "model_module": "@jupyter-widgets/base",
          "model_name": "LayoutModel",
          "model_module_version": "1.2.0",
          "state": {
            "_model_module": "@jupyter-widgets/base",
            "_model_module_version": "1.2.0",
            "_model_name": "LayoutModel",
            "_view_count": null,
            "_view_module": "@jupyter-widgets/base",
            "_view_module_version": "1.2.0",
            "_view_name": "LayoutView",
            "align_content": null,
            "align_items": null,
            "align_self": null,
            "border": null,
            "bottom": null,
            "display": null,
            "flex": null,
            "flex_flow": null,
            "grid_area": null,
            "grid_auto_columns": null,
            "grid_auto_flow": null,
            "grid_auto_rows": null,
            "grid_column": null,
            "grid_gap": null,
            "grid_row": null,
            "grid_template_areas": null,
            "grid_template_columns": null,
            "grid_template_rows": null,
            "height": null,
            "justify_content": null,
            "justify_items": null,
            "left": null,
            "margin": null,
            "max_height": null,
            "max_width": null,
            "min_height": null,
            "min_width": null,
            "object_fit": null,
            "object_position": null,
            "order": null,
            "overflow": null,
            "overflow_x": null,
            "overflow_y": null,
            "padding": null,
            "right": null,
            "top": null,
            "visibility": null,
            "width": null
          }
        },
        "92b0cb6e09ec44d292d50bd249bd9196": {
          "model_module": "@jupyter-widgets/controls",
          "model_name": "DescriptionStyleModel",
          "model_module_version": "1.5.0",
          "state": {
            "_model_module": "@jupyter-widgets/controls",
            "_model_module_version": "1.5.0",
            "_model_name": "DescriptionStyleModel",
            "_view_count": null,
            "_view_module": "@jupyter-widgets/base",
            "_view_module_version": "1.2.0",
            "_view_name": "StyleView",
            "description_width": ""
          }
        },
        "6890f1dc0ed24960b3cbe2bb2da33c01": {
          "model_module": "@jupyter-widgets/base",
          "model_name": "LayoutModel",
          "model_module_version": "1.2.0",
          "state": {
            "_model_module": "@jupyter-widgets/base",
            "_model_module_version": "1.2.0",
            "_model_name": "LayoutModel",
            "_view_count": null,
            "_view_module": "@jupyter-widgets/base",
            "_view_module_version": "1.2.0",
            "_view_name": "LayoutView",
            "align_content": null,
            "align_items": null,
            "align_self": null,
            "border": null,
            "bottom": null,
            "display": null,
            "flex": null,
            "flex_flow": null,
            "grid_area": null,
            "grid_auto_columns": null,
            "grid_auto_flow": null,
            "grid_auto_rows": null,
            "grid_column": null,
            "grid_gap": null,
            "grid_row": null,
            "grid_template_areas": null,
            "grid_template_columns": null,
            "grid_template_rows": null,
            "height": null,
            "justify_content": null,
            "justify_items": null,
            "left": null,
            "margin": null,
            "max_height": null,
            "max_width": null,
            "min_height": null,
            "min_width": null,
            "object_fit": null,
            "object_position": null,
            "order": null,
            "overflow": null,
            "overflow_x": null,
            "overflow_y": null,
            "padding": null,
            "right": null,
            "top": null,
            "visibility": null,
            "width": "20px"
          }
        },
        "203e6aacb7434e0ebe39a84a1ee68538": {
          "model_module": "@jupyter-widgets/controls",
          "model_name": "ProgressStyleModel",
          "model_module_version": "1.5.0",
          "state": {
            "_model_module": "@jupyter-widgets/controls",
            "_model_module_version": "1.5.0",
            "_model_name": "ProgressStyleModel",
            "_view_count": null,
            "_view_module": "@jupyter-widgets/base",
            "_view_module_version": "1.2.0",
            "_view_name": "StyleView",
            "bar_color": null,
            "description_width": ""
          }
        },
        "e4dc337da0314dd19bef90579c93006c": {
          "model_module": "@jupyter-widgets/base",
          "model_name": "LayoutModel",
          "model_module_version": "1.2.0",
          "state": {
            "_model_module": "@jupyter-widgets/base",
            "_model_module_version": "1.2.0",
            "_model_name": "LayoutModel",
            "_view_count": null,
            "_view_module": "@jupyter-widgets/base",
            "_view_module_version": "1.2.0",
            "_view_name": "LayoutView",
            "align_content": null,
            "align_items": null,
            "align_self": null,
            "border": null,
            "bottom": null,
            "display": null,
            "flex": null,
            "flex_flow": null,
            "grid_area": null,
            "grid_auto_columns": null,
            "grid_auto_flow": null,
            "grid_auto_rows": null,
            "grid_column": null,
            "grid_gap": null,
            "grid_row": null,
            "grid_template_areas": null,
            "grid_template_columns": null,
            "grid_template_rows": null,
            "height": null,
            "justify_content": null,
            "justify_items": null,
            "left": null,
            "margin": null,
            "max_height": null,
            "max_width": null,
            "min_height": null,
            "min_width": null,
            "object_fit": null,
            "object_position": null,
            "order": null,
            "overflow": null,
            "overflow_x": null,
            "overflow_y": null,
            "padding": null,
            "right": null,
            "top": null,
            "visibility": null,
            "width": null
          }
        },
        "bd8a8e53e72c4ab28007162ef54db9bc": {
          "model_module": "@jupyter-widgets/controls",
          "model_name": "DescriptionStyleModel",
          "model_module_version": "1.5.0",
          "state": {
            "_model_module": "@jupyter-widgets/controls",
            "_model_module_version": "1.5.0",
            "_model_name": "DescriptionStyleModel",
            "_view_count": null,
            "_view_module": "@jupyter-widgets/base",
            "_view_module_version": "1.2.0",
            "_view_name": "StyleView",
            "description_width": ""
          }
        },
        "c4e7f8a988b04b85b18997e434cc102c": {
          "model_module": "@jupyter-widgets/controls",
          "model_name": "HBoxModel",
          "model_module_version": "1.5.0",
          "state": {
            "_dom_classes": [],
            "_model_module": "@jupyter-widgets/controls",
            "_model_module_version": "1.5.0",
            "_model_name": "HBoxModel",
            "_view_count": null,
            "_view_module": "@jupyter-widgets/controls",
            "_view_module_version": "1.5.0",
            "_view_name": "HBoxView",
            "box_style": "",
            "children": [
              "IPY_MODEL_d435428db23844119168e65b5137d502",
              "IPY_MODEL_109bbee66b23499590aa18b0687216e5",
              "IPY_MODEL_332067f0605047899b19fb65a210bf54"
            ],
            "layout": "IPY_MODEL_68d3258e4d044804b2fbcc711daf80bc"
          }
        },
        "d435428db23844119168e65b5137d502": {
          "model_module": "@jupyter-widgets/controls",
          "model_name": "HTMLModel",
          "model_module_version": "1.5.0",
          "state": {
            "_dom_classes": [],
            "_model_module": "@jupyter-widgets/controls",
            "_model_module_version": "1.5.0",
            "_model_name": "HTMLModel",
            "_view_count": null,
            "_view_module": "@jupyter-widgets/controls",
            "_view_module_version": "1.5.0",
            "_view_name": "HTMLView",
            "description": "",
            "description_tooltip": null,
            "layout": "IPY_MODEL_8cd8a158712d46a8979edc43898ccc27",
            "placeholder": "​",
            "style": "IPY_MODEL_2cae68118c384a70aef643bff1a59d0a",
            "value": "sentence_bert_config.json: 100%"
          }
        },
        "109bbee66b23499590aa18b0687216e5": {
          "model_module": "@jupyter-widgets/controls",
          "model_name": "FloatProgressModel",
          "model_module_version": "1.5.0",
          "state": {
            "_dom_classes": [],
            "_model_module": "@jupyter-widgets/controls",
            "_model_module_version": "1.5.0",
            "_model_name": "FloatProgressModel",
            "_view_count": null,
            "_view_module": "@jupyter-widgets/controls",
            "_view_module_version": "1.5.0",
            "_view_name": "ProgressView",
            "bar_style": "success",
            "description": "",
            "description_tooltip": null,
            "layout": "IPY_MODEL_3804441b251d4aada737c90d52864230",
            "max": 53,
            "min": 0,
            "orientation": "horizontal",
            "style": "IPY_MODEL_e982813ca0b247ebb8636d5d4161c2ae",
            "value": 53
          }
        },
        "332067f0605047899b19fb65a210bf54": {
          "model_module": "@jupyter-widgets/controls",
          "model_name": "HTMLModel",
          "model_module_version": "1.5.0",
          "state": {
            "_dom_classes": [],
            "_model_module": "@jupyter-widgets/controls",
            "_model_module_version": "1.5.0",
            "_model_name": "HTMLModel",
            "_view_count": null,
            "_view_module": "@jupyter-widgets/controls",
            "_view_module_version": "1.5.0",
            "_view_name": "HTMLView",
            "description": "",
            "description_tooltip": null,
            "layout": "IPY_MODEL_2d6986974436456280f1c6c3d6e3e74a",
            "placeholder": "​",
            "style": "IPY_MODEL_7fcc05f9edb14364abc91e9b08bf15a2",
            "value": " 53.0/53.0 [00:00&lt;00:00, 4.01kB/s]"
          }
        },
        "68d3258e4d044804b2fbcc711daf80bc": {
          "model_module": "@jupyter-widgets/base",
          "model_name": "LayoutModel",
          "model_module_version": "1.2.0",
          "state": {
            "_model_module": "@jupyter-widgets/base",
            "_model_module_version": "1.2.0",
            "_model_name": "LayoutModel",
            "_view_count": null,
            "_view_module": "@jupyter-widgets/base",
            "_view_module_version": "1.2.0",
            "_view_name": "LayoutView",
            "align_content": null,
            "align_items": null,
            "align_self": null,
            "border": null,
            "bottom": null,
            "display": null,
            "flex": null,
            "flex_flow": null,
            "grid_area": null,
            "grid_auto_columns": null,
            "grid_auto_flow": null,
            "grid_auto_rows": null,
            "grid_column": null,
            "grid_gap": null,
            "grid_row": null,
            "grid_template_areas": null,
            "grid_template_columns": null,
            "grid_template_rows": null,
            "height": null,
            "justify_content": null,
            "justify_items": null,
            "left": null,
            "margin": null,
            "max_height": null,
            "max_width": null,
            "min_height": null,
            "min_width": null,
            "object_fit": null,
            "object_position": null,
            "order": null,
            "overflow": null,
            "overflow_x": null,
            "overflow_y": null,
            "padding": null,
            "right": null,
            "top": null,
            "visibility": null,
            "width": null
          }
        },
        "8cd8a158712d46a8979edc43898ccc27": {
          "model_module": "@jupyter-widgets/base",
          "model_name": "LayoutModel",
          "model_module_version": "1.2.0",
          "state": {
            "_model_module": "@jupyter-widgets/base",
            "_model_module_version": "1.2.0",
            "_model_name": "LayoutModel",
            "_view_count": null,
            "_view_module": "@jupyter-widgets/base",
            "_view_module_version": "1.2.0",
            "_view_name": "LayoutView",
            "align_content": null,
            "align_items": null,
            "align_self": null,
            "border": null,
            "bottom": null,
            "display": null,
            "flex": null,
            "flex_flow": null,
            "grid_area": null,
            "grid_auto_columns": null,
            "grid_auto_flow": null,
            "grid_auto_rows": null,
            "grid_column": null,
            "grid_gap": null,
            "grid_row": null,
            "grid_template_areas": null,
            "grid_template_columns": null,
            "grid_template_rows": null,
            "height": null,
            "justify_content": null,
            "justify_items": null,
            "left": null,
            "margin": null,
            "max_height": null,
            "max_width": null,
            "min_height": null,
            "min_width": null,
            "object_fit": null,
            "object_position": null,
            "order": null,
            "overflow": null,
            "overflow_x": null,
            "overflow_y": null,
            "padding": null,
            "right": null,
            "top": null,
            "visibility": null,
            "width": null
          }
        },
        "2cae68118c384a70aef643bff1a59d0a": {
          "model_module": "@jupyter-widgets/controls",
          "model_name": "DescriptionStyleModel",
          "model_module_version": "1.5.0",
          "state": {
            "_model_module": "@jupyter-widgets/controls",
            "_model_module_version": "1.5.0",
            "_model_name": "DescriptionStyleModel",
            "_view_count": null,
            "_view_module": "@jupyter-widgets/base",
            "_view_module_version": "1.2.0",
            "_view_name": "StyleView",
            "description_width": ""
          }
        },
        "3804441b251d4aada737c90d52864230": {
          "model_module": "@jupyter-widgets/base",
          "model_name": "LayoutModel",
          "model_module_version": "1.2.0",
          "state": {
            "_model_module": "@jupyter-widgets/base",
            "_model_module_version": "1.2.0",
            "_model_name": "LayoutModel",
            "_view_count": null,
            "_view_module": "@jupyter-widgets/base",
            "_view_module_version": "1.2.0",
            "_view_name": "LayoutView",
            "align_content": null,
            "align_items": null,
            "align_self": null,
            "border": null,
            "bottom": null,
            "display": null,
            "flex": null,
            "flex_flow": null,
            "grid_area": null,
            "grid_auto_columns": null,
            "grid_auto_flow": null,
            "grid_auto_rows": null,
            "grid_column": null,
            "grid_gap": null,
            "grid_row": null,
            "grid_template_areas": null,
            "grid_template_columns": null,
            "grid_template_rows": null,
            "height": null,
            "justify_content": null,
            "justify_items": null,
            "left": null,
            "margin": null,
            "max_height": null,
            "max_width": null,
            "min_height": null,
            "min_width": null,
            "object_fit": null,
            "object_position": null,
            "order": null,
            "overflow": null,
            "overflow_x": null,
            "overflow_y": null,
            "padding": null,
            "right": null,
            "top": null,
            "visibility": null,
            "width": null
          }
        },
        "e982813ca0b247ebb8636d5d4161c2ae": {
          "model_module": "@jupyter-widgets/controls",
          "model_name": "ProgressStyleModel",
          "model_module_version": "1.5.0",
          "state": {
            "_model_module": "@jupyter-widgets/controls",
            "_model_module_version": "1.5.0",
            "_model_name": "ProgressStyleModel",
            "_view_count": null,
            "_view_module": "@jupyter-widgets/base",
            "_view_module_version": "1.2.0",
            "_view_name": "StyleView",
            "bar_color": null,
            "description_width": ""
          }
        },
        "2d6986974436456280f1c6c3d6e3e74a": {
          "model_module": "@jupyter-widgets/base",
          "model_name": "LayoutModel",
          "model_module_version": "1.2.0",
          "state": {
            "_model_module": "@jupyter-widgets/base",
            "_model_module_version": "1.2.0",
            "_model_name": "LayoutModel",
            "_view_count": null,
            "_view_module": "@jupyter-widgets/base",
            "_view_module_version": "1.2.0",
            "_view_name": "LayoutView",
            "align_content": null,
            "align_items": null,
            "align_self": null,
            "border": null,
            "bottom": null,
            "display": null,
            "flex": null,
            "flex_flow": null,
            "grid_area": null,
            "grid_auto_columns": null,
            "grid_auto_flow": null,
            "grid_auto_rows": null,
            "grid_column": null,
            "grid_gap": null,
            "grid_row": null,
            "grid_template_areas": null,
            "grid_template_columns": null,
            "grid_template_rows": null,
            "height": null,
            "justify_content": null,
            "justify_items": null,
            "left": null,
            "margin": null,
            "max_height": null,
            "max_width": null,
            "min_height": null,
            "min_width": null,
            "object_fit": null,
            "object_position": null,
            "order": null,
            "overflow": null,
            "overflow_x": null,
            "overflow_y": null,
            "padding": null,
            "right": null,
            "top": null,
            "visibility": null,
            "width": null
          }
        },
        "7fcc05f9edb14364abc91e9b08bf15a2": {
          "model_module": "@jupyter-widgets/controls",
          "model_name": "DescriptionStyleModel",
          "model_module_version": "1.5.0",
          "state": {
            "_model_module": "@jupyter-widgets/controls",
            "_model_module_version": "1.5.0",
            "_model_name": "DescriptionStyleModel",
            "_view_count": null,
            "_view_module": "@jupyter-widgets/base",
            "_view_module_version": "1.2.0",
            "_view_name": "StyleView",
            "description_width": ""
          }
        },
        "60eb6145e775422bb4d71abf8fe3c9af": {
          "model_module": "@jupyter-widgets/controls",
          "model_name": "HBoxModel",
          "model_module_version": "1.5.0",
          "state": {
            "_dom_classes": [],
            "_model_module": "@jupyter-widgets/controls",
            "_model_module_version": "1.5.0",
            "_model_name": "HBoxModel",
            "_view_count": null,
            "_view_module": "@jupyter-widgets/controls",
            "_view_module_version": "1.5.0",
            "_view_name": "HBoxView",
            "box_style": "",
            "children": [
              "IPY_MODEL_c5167c13c3854599927d98e4e9c16db2",
              "IPY_MODEL_c4c01454d4ca4ea89f10fdd6c9f9f3cc",
              "IPY_MODEL_db1f1be3b2464c5f88e6d38aa5a750d3"
            ],
            "layout": "IPY_MODEL_a7b51a3450aa428780e8d7c047ff2506"
          }
        },
        "c5167c13c3854599927d98e4e9c16db2": {
          "model_module": "@jupyter-widgets/controls",
          "model_name": "HTMLModel",
          "model_module_version": "1.5.0",
          "state": {
            "_dom_classes": [],
            "_model_module": "@jupyter-widgets/controls",
            "_model_module_version": "1.5.0",
            "_model_name": "HTMLModel",
            "_view_count": null,
            "_view_module": "@jupyter-widgets/controls",
            "_view_module_version": "1.5.0",
            "_view_name": "HTMLView",
            "description": "",
            "description_tooltip": null,
            "layout": "IPY_MODEL_7a3608e0abed4f93bf7c8d10135b836a",
            "placeholder": "​",
            "style": "IPY_MODEL_032219023b7446a38271ab35d87b3523",
            "value": "config.json: 100%"
          }
        },
        "c4c01454d4ca4ea89f10fdd6c9f9f3cc": {
          "model_module": "@jupyter-widgets/controls",
          "model_name": "FloatProgressModel",
          "model_module_version": "1.5.0",
          "state": {
            "_dom_classes": [],
            "_model_module": "@jupyter-widgets/controls",
            "_model_module_version": "1.5.0",
            "_model_name": "FloatProgressModel",
            "_view_count": null,
            "_view_module": "@jupyter-widgets/controls",
            "_view_module_version": "1.5.0",
            "_view_name": "ProgressView",
            "bar_style": "success",
            "description": "",
            "description_tooltip": null,
            "layout": "IPY_MODEL_0822d4172fcd4d2085ef078be8b9e799",
            "max": 571,
            "min": 0,
            "orientation": "horizontal",
            "style": "IPY_MODEL_c670127b9a5b4cfb86065970791a8557",
            "value": 571
          }
        },
        "db1f1be3b2464c5f88e6d38aa5a750d3": {
          "model_module": "@jupyter-widgets/controls",
          "model_name": "HTMLModel",
          "model_module_version": "1.5.0",
          "state": {
            "_dom_classes": [],
            "_model_module": "@jupyter-widgets/controls",
            "_model_module_version": "1.5.0",
            "_model_name": "HTMLModel",
            "_view_count": null,
            "_view_module": "@jupyter-widgets/controls",
            "_view_module_version": "1.5.0",
            "_view_name": "HTMLView",
            "description": "",
            "description_tooltip": null,
            "layout": "IPY_MODEL_b4f91433b13b41e6bb9614b246387d6c",
            "placeholder": "​",
            "style": "IPY_MODEL_401c977f629f436c86ff5c63e31d79d7",
            "value": " 571/571 [00:00&lt;00:00, 39.0kB/s]"
          }
        },
        "a7b51a3450aa428780e8d7c047ff2506": {
          "model_module": "@jupyter-widgets/base",
          "model_name": "LayoutModel",
          "model_module_version": "1.2.0",
          "state": {
            "_model_module": "@jupyter-widgets/base",
            "_model_module_version": "1.2.0",
            "_model_name": "LayoutModel",
            "_view_count": null,
            "_view_module": "@jupyter-widgets/base",
            "_view_module_version": "1.2.0",
            "_view_name": "LayoutView",
            "align_content": null,
            "align_items": null,
            "align_self": null,
            "border": null,
            "bottom": null,
            "display": null,
            "flex": null,
            "flex_flow": null,
            "grid_area": null,
            "grid_auto_columns": null,
            "grid_auto_flow": null,
            "grid_auto_rows": null,
            "grid_column": null,
            "grid_gap": null,
            "grid_row": null,
            "grid_template_areas": null,
            "grid_template_columns": null,
            "grid_template_rows": null,
            "height": null,
            "justify_content": null,
            "justify_items": null,
            "left": null,
            "margin": null,
            "max_height": null,
            "max_width": null,
            "min_height": null,
            "min_width": null,
            "object_fit": null,
            "object_position": null,
            "order": null,
            "overflow": null,
            "overflow_x": null,
            "overflow_y": null,
            "padding": null,
            "right": null,
            "top": null,
            "visibility": null,
            "width": null
          }
        },
        "7a3608e0abed4f93bf7c8d10135b836a": {
          "model_module": "@jupyter-widgets/base",
          "model_name": "LayoutModel",
          "model_module_version": "1.2.0",
          "state": {
            "_model_module": "@jupyter-widgets/base",
            "_model_module_version": "1.2.0",
            "_model_name": "LayoutModel",
            "_view_count": null,
            "_view_module": "@jupyter-widgets/base",
            "_view_module_version": "1.2.0",
            "_view_name": "LayoutView",
            "align_content": null,
            "align_items": null,
            "align_self": null,
            "border": null,
            "bottom": null,
            "display": null,
            "flex": null,
            "flex_flow": null,
            "grid_area": null,
            "grid_auto_columns": null,
            "grid_auto_flow": null,
            "grid_auto_rows": null,
            "grid_column": null,
            "grid_gap": null,
            "grid_row": null,
            "grid_template_areas": null,
            "grid_template_columns": null,
            "grid_template_rows": null,
            "height": null,
            "justify_content": null,
            "justify_items": null,
            "left": null,
            "margin": null,
            "max_height": null,
            "max_width": null,
            "min_height": null,
            "min_width": null,
            "object_fit": null,
            "object_position": null,
            "order": null,
            "overflow": null,
            "overflow_x": null,
            "overflow_y": null,
            "padding": null,
            "right": null,
            "top": null,
            "visibility": null,
            "width": null
          }
        },
        "032219023b7446a38271ab35d87b3523": {
          "model_module": "@jupyter-widgets/controls",
          "model_name": "DescriptionStyleModel",
          "model_module_version": "1.5.0",
          "state": {
            "_model_module": "@jupyter-widgets/controls",
            "_model_module_version": "1.5.0",
            "_model_name": "DescriptionStyleModel",
            "_view_count": null,
            "_view_module": "@jupyter-widgets/base",
            "_view_module_version": "1.2.0",
            "_view_name": "StyleView",
            "description_width": ""
          }
        },
        "0822d4172fcd4d2085ef078be8b9e799": {
          "model_module": "@jupyter-widgets/base",
          "model_name": "LayoutModel",
          "model_module_version": "1.2.0",
          "state": {
            "_model_module": "@jupyter-widgets/base",
            "_model_module_version": "1.2.0",
            "_model_name": "LayoutModel",
            "_view_count": null,
            "_view_module": "@jupyter-widgets/base",
            "_view_module_version": "1.2.0",
            "_view_name": "LayoutView",
            "align_content": null,
            "align_items": null,
            "align_self": null,
            "border": null,
            "bottom": null,
            "display": null,
            "flex": null,
            "flex_flow": null,
            "grid_area": null,
            "grid_auto_columns": null,
            "grid_auto_flow": null,
            "grid_auto_rows": null,
            "grid_column": null,
            "grid_gap": null,
            "grid_row": null,
            "grid_template_areas": null,
            "grid_template_columns": null,
            "grid_template_rows": null,
            "height": null,
            "justify_content": null,
            "justify_items": null,
            "left": null,
            "margin": null,
            "max_height": null,
            "max_width": null,
            "min_height": null,
            "min_width": null,
            "object_fit": null,
            "object_position": null,
            "order": null,
            "overflow": null,
            "overflow_x": null,
            "overflow_y": null,
            "padding": null,
            "right": null,
            "top": null,
            "visibility": null,
            "width": null
          }
        },
        "c670127b9a5b4cfb86065970791a8557": {
          "model_module": "@jupyter-widgets/controls",
          "model_name": "ProgressStyleModel",
          "model_module_version": "1.5.0",
          "state": {
            "_model_module": "@jupyter-widgets/controls",
            "_model_module_version": "1.5.0",
            "_model_name": "ProgressStyleModel",
            "_view_count": null,
            "_view_module": "@jupyter-widgets/base",
            "_view_module_version": "1.2.0",
            "_view_name": "StyleView",
            "bar_color": null,
            "description_width": ""
          }
        },
        "b4f91433b13b41e6bb9614b246387d6c": {
          "model_module": "@jupyter-widgets/base",
          "model_name": "LayoutModel",
          "model_module_version": "1.2.0",
          "state": {
            "_model_module": "@jupyter-widgets/base",
            "_model_module_version": "1.2.0",
            "_model_name": "LayoutModel",
            "_view_count": null,
            "_view_module": "@jupyter-widgets/base",
            "_view_module_version": "1.2.0",
            "_view_name": "LayoutView",
            "align_content": null,
            "align_items": null,
            "align_self": null,
            "border": null,
            "bottom": null,
            "display": null,
            "flex": null,
            "flex_flow": null,
            "grid_area": null,
            "grid_auto_columns": null,
            "grid_auto_flow": null,
            "grid_auto_rows": null,
            "grid_column": null,
            "grid_gap": null,
            "grid_row": null,
            "grid_template_areas": null,
            "grid_template_columns": null,
            "grid_template_rows": null,
            "height": null,
            "justify_content": null,
            "justify_items": null,
            "left": null,
            "margin": null,
            "max_height": null,
            "max_width": null,
            "min_height": null,
            "min_width": null,
            "object_fit": null,
            "object_position": null,
            "order": null,
            "overflow": null,
            "overflow_x": null,
            "overflow_y": null,
            "padding": null,
            "right": null,
            "top": null,
            "visibility": null,
            "width": null
          }
        },
        "401c977f629f436c86ff5c63e31d79d7": {
          "model_module": "@jupyter-widgets/controls",
          "model_name": "DescriptionStyleModel",
          "model_module_version": "1.5.0",
          "state": {
            "_model_module": "@jupyter-widgets/controls",
            "_model_module_version": "1.5.0",
            "_model_name": "DescriptionStyleModel",
            "_view_count": null,
            "_view_module": "@jupyter-widgets/base",
            "_view_module_version": "1.2.0",
            "_view_name": "StyleView",
            "description_width": ""
          }
        },
        "c1f71217bcf148b795e4a40c0c6948ac": {
          "model_module": "@jupyter-widgets/controls",
          "model_name": "HBoxModel",
          "model_module_version": "1.5.0",
          "state": {
            "_dom_classes": [],
            "_model_module": "@jupyter-widgets/controls",
            "_model_module_version": "1.5.0",
            "_model_name": "HBoxModel",
            "_view_count": null,
            "_view_module": "@jupyter-widgets/controls",
            "_view_module_version": "1.5.0",
            "_view_name": "HBoxView",
            "box_style": "",
            "children": [
              "IPY_MODEL_c81db63dcf444b32aa0c71d3a942e747",
              "IPY_MODEL_f478cac30e184436bee274b5eb93ee80",
              "IPY_MODEL_034346ec864c46cc9e7a44888be4abd0"
            ],
            "layout": "IPY_MODEL_663c691414834fb6ae99dc8f1f5ba537"
          }
        },
        "c81db63dcf444b32aa0c71d3a942e747": {
          "model_module": "@jupyter-widgets/controls",
          "model_name": "HTMLModel",
          "model_module_version": "1.5.0",
          "state": {
            "_dom_classes": [],
            "_model_module": "@jupyter-widgets/controls",
            "_model_module_version": "1.5.0",
            "_model_name": "HTMLModel",
            "_view_count": null,
            "_view_module": "@jupyter-widgets/controls",
            "_view_module_version": "1.5.0",
            "_view_name": "HTMLView",
            "description": "",
            "description_tooltip": null,
            "layout": "IPY_MODEL_e9183ea5d53e497ebe7b5cccf5c9e401",
            "placeholder": "​",
            "style": "IPY_MODEL_85820bca14c14ba885ce457ae4d6ebd6",
            "value": "model.safetensors: 100%"
          }
        },
        "f478cac30e184436bee274b5eb93ee80": {
          "model_module": "@jupyter-widgets/controls",
          "model_name": "FloatProgressModel",
          "model_module_version": "1.5.0",
          "state": {
            "_dom_classes": [],
            "_model_module": "@jupyter-widgets/controls",
            "_model_module_version": "1.5.0",
            "_model_name": "FloatProgressModel",
            "_view_count": null,
            "_view_module": "@jupyter-widgets/controls",
            "_view_module_version": "1.5.0",
            "_view_name": "ProgressView",
            "bar_style": "success",
            "description": "",
            "description_tooltip": null,
            "layout": "IPY_MODEL_ae73ef38437442df884328f1a8c3538d",
            "max": 437971872,
            "min": 0,
            "orientation": "horizontal",
            "style": "IPY_MODEL_0c6114b1662a40bb920b3ced8f5a3cc3",
            "value": 437971872
          }
        },
        "034346ec864c46cc9e7a44888be4abd0": {
          "model_module": "@jupyter-widgets/controls",
          "model_name": "HTMLModel",
          "model_module_version": "1.5.0",
          "state": {
            "_dom_classes": [],
            "_model_module": "@jupyter-widgets/controls",
            "_model_module_version": "1.5.0",
            "_model_name": "HTMLModel",
            "_view_count": null,
            "_view_module": "@jupyter-widgets/controls",
            "_view_module_version": "1.5.0",
            "_view_name": "HTMLView",
            "description": "",
            "description_tooltip": null,
            "layout": "IPY_MODEL_44095434c173407e8bbe1806fa4f5d01",
            "placeholder": "​",
            "style": "IPY_MODEL_9979d36973b94e51bea280b7e2924eea",
            "value": " 438M/438M [00:06&lt;00:00, 103MB/s]"
          }
        },
        "663c691414834fb6ae99dc8f1f5ba537": {
          "model_module": "@jupyter-widgets/base",
          "model_name": "LayoutModel",
          "model_module_version": "1.2.0",
          "state": {
            "_model_module": "@jupyter-widgets/base",
            "_model_module_version": "1.2.0",
            "_model_name": "LayoutModel",
            "_view_count": null,
            "_view_module": "@jupyter-widgets/base",
            "_view_module_version": "1.2.0",
            "_view_name": "LayoutView",
            "align_content": null,
            "align_items": null,
            "align_self": null,
            "border": null,
            "bottom": null,
            "display": null,
            "flex": null,
            "flex_flow": null,
            "grid_area": null,
            "grid_auto_columns": null,
            "grid_auto_flow": null,
            "grid_auto_rows": null,
            "grid_column": null,
            "grid_gap": null,
            "grid_row": null,
            "grid_template_areas": null,
            "grid_template_columns": null,
            "grid_template_rows": null,
            "height": null,
            "justify_content": null,
            "justify_items": null,
            "left": null,
            "margin": null,
            "max_height": null,
            "max_width": null,
            "min_height": null,
            "min_width": null,
            "object_fit": null,
            "object_position": null,
            "order": null,
            "overflow": null,
            "overflow_x": null,
            "overflow_y": null,
            "padding": null,
            "right": null,
            "top": null,
            "visibility": null,
            "width": null
          }
        },
        "e9183ea5d53e497ebe7b5cccf5c9e401": {
          "model_module": "@jupyter-widgets/base",
          "model_name": "LayoutModel",
          "model_module_version": "1.2.0",
          "state": {
            "_model_module": "@jupyter-widgets/base",
            "_model_module_version": "1.2.0",
            "_model_name": "LayoutModel",
            "_view_count": null,
            "_view_module": "@jupyter-widgets/base",
            "_view_module_version": "1.2.0",
            "_view_name": "LayoutView",
            "align_content": null,
            "align_items": null,
            "align_self": null,
            "border": null,
            "bottom": null,
            "display": null,
            "flex": null,
            "flex_flow": null,
            "grid_area": null,
            "grid_auto_columns": null,
            "grid_auto_flow": null,
            "grid_auto_rows": null,
            "grid_column": null,
            "grid_gap": null,
            "grid_row": null,
            "grid_template_areas": null,
            "grid_template_columns": null,
            "grid_template_rows": null,
            "height": null,
            "justify_content": null,
            "justify_items": null,
            "left": null,
            "margin": null,
            "max_height": null,
            "max_width": null,
            "min_height": null,
            "min_width": null,
            "object_fit": null,
            "object_position": null,
            "order": null,
            "overflow": null,
            "overflow_x": null,
            "overflow_y": null,
            "padding": null,
            "right": null,
            "top": null,
            "visibility": null,
            "width": null
          }
        },
        "85820bca14c14ba885ce457ae4d6ebd6": {
          "model_module": "@jupyter-widgets/controls",
          "model_name": "DescriptionStyleModel",
          "model_module_version": "1.5.0",
          "state": {
            "_model_module": "@jupyter-widgets/controls",
            "_model_module_version": "1.5.0",
            "_model_name": "DescriptionStyleModel",
            "_view_count": null,
            "_view_module": "@jupyter-widgets/base",
            "_view_module_version": "1.2.0",
            "_view_name": "StyleView",
            "description_width": ""
          }
        },
        "ae73ef38437442df884328f1a8c3538d": {
          "model_module": "@jupyter-widgets/base",
          "model_name": "LayoutModel",
          "model_module_version": "1.2.0",
          "state": {
            "_model_module": "@jupyter-widgets/base",
            "_model_module_version": "1.2.0",
            "_model_name": "LayoutModel",
            "_view_count": null,
            "_view_module": "@jupyter-widgets/base",
            "_view_module_version": "1.2.0",
            "_view_name": "LayoutView",
            "align_content": null,
            "align_items": null,
            "align_self": null,
            "border": null,
            "bottom": null,
            "display": null,
            "flex": null,
            "flex_flow": null,
            "grid_area": null,
            "grid_auto_columns": null,
            "grid_auto_flow": null,
            "grid_auto_rows": null,
            "grid_column": null,
            "grid_gap": null,
            "grid_row": null,
            "grid_template_areas": null,
            "grid_template_columns": null,
            "grid_template_rows": null,
            "height": null,
            "justify_content": null,
            "justify_items": null,
            "left": null,
            "margin": null,
            "max_height": null,
            "max_width": null,
            "min_height": null,
            "min_width": null,
            "object_fit": null,
            "object_position": null,
            "order": null,
            "overflow": null,
            "overflow_x": null,
            "overflow_y": null,
            "padding": null,
            "right": null,
            "top": null,
            "visibility": null,
            "width": null
          }
        },
        "0c6114b1662a40bb920b3ced8f5a3cc3": {
          "model_module": "@jupyter-widgets/controls",
          "model_name": "ProgressStyleModel",
          "model_module_version": "1.5.0",
          "state": {
            "_model_module": "@jupyter-widgets/controls",
            "_model_module_version": "1.5.0",
            "_model_name": "ProgressStyleModel",
            "_view_count": null,
            "_view_module": "@jupyter-widgets/base",
            "_view_module_version": "1.2.0",
            "_view_name": "StyleView",
            "bar_color": null,
            "description_width": ""
          }
        },
        "44095434c173407e8bbe1806fa4f5d01": {
          "model_module": "@jupyter-widgets/base",
          "model_name": "LayoutModel",
          "model_module_version": "1.2.0",
          "state": {
            "_model_module": "@jupyter-widgets/base",
            "_model_module_version": "1.2.0",
            "_model_name": "LayoutModel",
            "_view_count": null,
            "_view_module": "@jupyter-widgets/base",
            "_view_module_version": "1.2.0",
            "_view_name": "LayoutView",
            "align_content": null,
            "align_items": null,
            "align_self": null,
            "border": null,
            "bottom": null,
            "display": null,
            "flex": null,
            "flex_flow": null,
            "grid_area": null,
            "grid_auto_columns": null,
            "grid_auto_flow": null,
            "grid_auto_rows": null,
            "grid_column": null,
            "grid_gap": null,
            "grid_row": null,
            "grid_template_areas": null,
            "grid_template_columns": null,
            "grid_template_rows": null,
            "height": null,
            "justify_content": null,
            "justify_items": null,
            "left": null,
            "margin": null,
            "max_height": null,
            "max_width": null,
            "min_height": null,
            "min_width": null,
            "object_fit": null,
            "object_position": null,
            "order": null,
            "overflow": null,
            "overflow_x": null,
            "overflow_y": null,
            "padding": null,
            "right": null,
            "top": null,
            "visibility": null,
            "width": null
          }
        },
        "9979d36973b94e51bea280b7e2924eea": {
          "model_module": "@jupyter-widgets/controls",
          "model_name": "DescriptionStyleModel",
          "model_module_version": "1.5.0",
          "state": {
            "_model_module": "@jupyter-widgets/controls",
            "_model_module_version": "1.5.0",
            "_model_name": "DescriptionStyleModel",
            "_view_count": null,
            "_view_module": "@jupyter-widgets/base",
            "_view_module_version": "1.2.0",
            "_view_name": "StyleView",
            "description_width": ""
          }
        },
        "88994f186d9b42c49cc95dc66b7dfbb2": {
          "model_module": "@jupyter-widgets/controls",
          "model_name": "HBoxModel",
          "model_module_version": "1.5.0",
          "state": {
            "_dom_classes": [],
            "_model_module": "@jupyter-widgets/controls",
            "_model_module_version": "1.5.0",
            "_model_name": "HBoxModel",
            "_view_count": null,
            "_view_module": "@jupyter-widgets/controls",
            "_view_module_version": "1.5.0",
            "_view_name": "HBoxView",
            "box_style": "",
            "children": [
              "IPY_MODEL_ca61ebf52a4e4da38074e500891ebea7",
              "IPY_MODEL_e9467aa8e8904ca7ab51bead81b016ac",
              "IPY_MODEL_17c0b125858345e99af493a4267511d0"
            ],
            "layout": "IPY_MODEL_42e462f3088640c8974153dd5464c13d"
          }
        },
        "ca61ebf52a4e4da38074e500891ebea7": {
          "model_module": "@jupyter-widgets/controls",
          "model_name": "HTMLModel",
          "model_module_version": "1.5.0",
          "state": {
            "_dom_classes": [],
            "_model_module": "@jupyter-widgets/controls",
            "_model_module_version": "1.5.0",
            "_model_name": "HTMLModel",
            "_view_count": null,
            "_view_module": "@jupyter-widgets/controls",
            "_view_module_version": "1.5.0",
            "_view_name": "HTMLView",
            "description": "",
            "description_tooltip": null,
            "layout": "IPY_MODEL_961975d597274bd89f6cfcc248c20027",
            "placeholder": "​",
            "style": "IPY_MODEL_f304d32fddcd4c29b9817c8424c0bf3c",
            "value": "tokenizer_config.json: 100%"
          }
        },
        "e9467aa8e8904ca7ab51bead81b016ac": {
          "model_module": "@jupyter-widgets/controls",
          "model_name": "FloatProgressModel",
          "model_module_version": "1.5.0",
          "state": {
            "_dom_classes": [],
            "_model_module": "@jupyter-widgets/controls",
            "_model_module_version": "1.5.0",
            "_model_name": "FloatProgressModel",
            "_view_count": null,
            "_view_module": "@jupyter-widgets/controls",
            "_view_module_version": "1.5.0",
            "_view_name": "ProgressView",
            "bar_style": "success",
            "description": "",
            "description_tooltip": null,
            "layout": "IPY_MODEL_d7e44fd67e6046eea1fe83b3429b9f45",
            "max": 363,
            "min": 0,
            "orientation": "horizontal",
            "style": "IPY_MODEL_2ded6bb7f53b4c8bb19d3b43f5c36c17",
            "value": 363
          }
        },
        "17c0b125858345e99af493a4267511d0": {
          "model_module": "@jupyter-widgets/controls",
          "model_name": "HTMLModel",
          "model_module_version": "1.5.0",
          "state": {
            "_dom_classes": [],
            "_model_module": "@jupyter-widgets/controls",
            "_model_module_version": "1.5.0",
            "_model_name": "HTMLModel",
            "_view_count": null,
            "_view_module": "@jupyter-widgets/controls",
            "_view_module_version": "1.5.0",
            "_view_name": "HTMLView",
            "description": "",
            "description_tooltip": null,
            "layout": "IPY_MODEL_8743d01a42e247b4814567ba52f453ce",
            "placeholder": "​",
            "style": "IPY_MODEL_c44d373e6dc44536bb666e077fbb9128",
            "value": " 363/363 [00:00&lt;00:00, 29.0kB/s]"
          }
        },
        "42e462f3088640c8974153dd5464c13d": {
          "model_module": "@jupyter-widgets/base",
          "model_name": "LayoutModel",
          "model_module_version": "1.2.0",
          "state": {
            "_model_module": "@jupyter-widgets/base",
            "_model_module_version": "1.2.0",
            "_model_name": "LayoutModel",
            "_view_count": null,
            "_view_module": "@jupyter-widgets/base",
            "_view_module_version": "1.2.0",
            "_view_name": "LayoutView",
            "align_content": null,
            "align_items": null,
            "align_self": null,
            "border": null,
            "bottom": null,
            "display": null,
            "flex": null,
            "flex_flow": null,
            "grid_area": null,
            "grid_auto_columns": null,
            "grid_auto_flow": null,
            "grid_auto_rows": null,
            "grid_column": null,
            "grid_gap": null,
            "grid_row": null,
            "grid_template_areas": null,
            "grid_template_columns": null,
            "grid_template_rows": null,
            "height": null,
            "justify_content": null,
            "justify_items": null,
            "left": null,
            "margin": null,
            "max_height": null,
            "max_width": null,
            "min_height": null,
            "min_width": null,
            "object_fit": null,
            "object_position": null,
            "order": null,
            "overflow": null,
            "overflow_x": null,
            "overflow_y": null,
            "padding": null,
            "right": null,
            "top": null,
            "visibility": null,
            "width": null
          }
        },
        "961975d597274bd89f6cfcc248c20027": {
          "model_module": "@jupyter-widgets/base",
          "model_name": "LayoutModel",
          "model_module_version": "1.2.0",
          "state": {
            "_model_module": "@jupyter-widgets/base",
            "_model_module_version": "1.2.0",
            "_model_name": "LayoutModel",
            "_view_count": null,
            "_view_module": "@jupyter-widgets/base",
            "_view_module_version": "1.2.0",
            "_view_name": "LayoutView",
            "align_content": null,
            "align_items": null,
            "align_self": null,
            "border": null,
            "bottom": null,
            "display": null,
            "flex": null,
            "flex_flow": null,
            "grid_area": null,
            "grid_auto_columns": null,
            "grid_auto_flow": null,
            "grid_auto_rows": null,
            "grid_column": null,
            "grid_gap": null,
            "grid_row": null,
            "grid_template_areas": null,
            "grid_template_columns": null,
            "grid_template_rows": null,
            "height": null,
            "justify_content": null,
            "justify_items": null,
            "left": null,
            "margin": null,
            "max_height": null,
            "max_width": null,
            "min_height": null,
            "min_width": null,
            "object_fit": null,
            "object_position": null,
            "order": null,
            "overflow": null,
            "overflow_x": null,
            "overflow_y": null,
            "padding": null,
            "right": null,
            "top": null,
            "visibility": null,
            "width": null
          }
        },
        "f304d32fddcd4c29b9817c8424c0bf3c": {
          "model_module": "@jupyter-widgets/controls",
          "model_name": "DescriptionStyleModel",
          "model_module_version": "1.5.0",
          "state": {
            "_model_module": "@jupyter-widgets/controls",
            "_model_module_version": "1.5.0",
            "_model_name": "DescriptionStyleModel",
            "_view_count": null,
            "_view_module": "@jupyter-widgets/base",
            "_view_module_version": "1.2.0",
            "_view_name": "StyleView",
            "description_width": ""
          }
        },
        "d7e44fd67e6046eea1fe83b3429b9f45": {
          "model_module": "@jupyter-widgets/base",
          "model_name": "LayoutModel",
          "model_module_version": "1.2.0",
          "state": {
            "_model_module": "@jupyter-widgets/base",
            "_model_module_version": "1.2.0",
            "_model_name": "LayoutModel",
            "_view_count": null,
            "_view_module": "@jupyter-widgets/base",
            "_view_module_version": "1.2.0",
            "_view_name": "LayoutView",
            "align_content": null,
            "align_items": null,
            "align_self": null,
            "border": null,
            "bottom": null,
            "display": null,
            "flex": null,
            "flex_flow": null,
            "grid_area": null,
            "grid_auto_columns": null,
            "grid_auto_flow": null,
            "grid_auto_rows": null,
            "grid_column": null,
            "grid_gap": null,
            "grid_row": null,
            "grid_template_areas": null,
            "grid_template_columns": null,
            "grid_template_rows": null,
            "height": null,
            "justify_content": null,
            "justify_items": null,
            "left": null,
            "margin": null,
            "max_height": null,
            "max_width": null,
            "min_height": null,
            "min_width": null,
            "object_fit": null,
            "object_position": null,
            "order": null,
            "overflow": null,
            "overflow_x": null,
            "overflow_y": null,
            "padding": null,
            "right": null,
            "top": null,
            "visibility": null,
            "width": null
          }
        },
        "2ded6bb7f53b4c8bb19d3b43f5c36c17": {
          "model_module": "@jupyter-widgets/controls",
          "model_name": "ProgressStyleModel",
          "model_module_version": "1.5.0",
          "state": {
            "_model_module": "@jupyter-widgets/controls",
            "_model_module_version": "1.5.0",
            "_model_name": "ProgressStyleModel",
            "_view_count": null,
            "_view_module": "@jupyter-widgets/base",
            "_view_module_version": "1.2.0",
            "_view_name": "StyleView",
            "bar_color": null,
            "description_width": ""
          }
        },
        "8743d01a42e247b4814567ba52f453ce": {
          "model_module": "@jupyter-widgets/base",
          "model_name": "LayoutModel",
          "model_module_version": "1.2.0",
          "state": {
            "_model_module": "@jupyter-widgets/base",
            "_model_module_version": "1.2.0",
            "_model_name": "LayoutModel",
            "_view_count": null,
            "_view_module": "@jupyter-widgets/base",
            "_view_module_version": "1.2.0",
            "_view_name": "LayoutView",
            "align_content": null,
            "align_items": null,
            "align_self": null,
            "border": null,
            "bottom": null,
            "display": null,
            "flex": null,
            "flex_flow": null,
            "grid_area": null,
            "grid_auto_columns": null,
            "grid_auto_flow": null,
            "grid_auto_rows": null,
            "grid_column": null,
            "grid_gap": null,
            "grid_row": null,
            "grid_template_areas": null,
            "grid_template_columns": null,
            "grid_template_rows": null,
            "height": null,
            "justify_content": null,
            "justify_items": null,
            "left": null,
            "margin": null,
            "max_height": null,
            "max_width": null,
            "min_height": null,
            "min_width": null,
            "object_fit": null,
            "object_position": null,
            "order": null,
            "overflow": null,
            "overflow_x": null,
            "overflow_y": null,
            "padding": null,
            "right": null,
            "top": null,
            "visibility": null,
            "width": null
          }
        },
        "c44d373e6dc44536bb666e077fbb9128": {
          "model_module": "@jupyter-widgets/controls",
          "model_name": "DescriptionStyleModel",
          "model_module_version": "1.5.0",
          "state": {
            "_model_module": "@jupyter-widgets/controls",
            "_model_module_version": "1.5.0",
            "_model_name": "DescriptionStyleModel",
            "_view_count": null,
            "_view_module": "@jupyter-widgets/base",
            "_view_module_version": "1.2.0",
            "_view_name": "StyleView",
            "description_width": ""
          }
        },
        "a6d790b7d75a420d8f26dbf4c87a6599": {
          "model_module": "@jupyter-widgets/controls",
          "model_name": "HBoxModel",
          "model_module_version": "1.5.0",
          "state": {
            "_dom_classes": [],
            "_model_module": "@jupyter-widgets/controls",
            "_model_module_version": "1.5.0",
            "_model_name": "HBoxModel",
            "_view_count": null,
            "_view_module": "@jupyter-widgets/controls",
            "_view_module_version": "1.5.0",
            "_view_name": "HBoxView",
            "box_style": "",
            "children": [
              "IPY_MODEL_e5b04548cf654fbc8480a0c003308a77",
              "IPY_MODEL_ffb236dcdff84b45a890ad19be8cc288",
              "IPY_MODEL_4eaca1a529a2472eb3fbf74a3cc1be2f"
            ],
            "layout": "IPY_MODEL_c8e73fb96b074535a2a8b68a25ea4798"
          }
        },
        "e5b04548cf654fbc8480a0c003308a77": {
          "model_module": "@jupyter-widgets/controls",
          "model_name": "HTMLModel",
          "model_module_version": "1.5.0",
          "state": {
            "_dom_classes": [],
            "_model_module": "@jupyter-widgets/controls",
            "_model_module_version": "1.5.0",
            "_model_name": "HTMLModel",
            "_view_count": null,
            "_view_module": "@jupyter-widgets/controls",
            "_view_module_version": "1.5.0",
            "_view_name": "HTMLView",
            "description": "",
            "description_tooltip": null,
            "layout": "IPY_MODEL_e060e0a6935a4f16a183e22ad2fadc3d",
            "placeholder": "​",
            "style": "IPY_MODEL_5e72c434d1a64ed2a9cf053d199c3cc5",
            "value": "vocab.txt: "
          }
        },
        "ffb236dcdff84b45a890ad19be8cc288": {
          "model_module": "@jupyter-widgets/controls",
          "model_name": "FloatProgressModel",
          "model_module_version": "1.5.0",
          "state": {
            "_dom_classes": [],
            "_model_module": "@jupyter-widgets/controls",
            "_model_module_version": "1.5.0",
            "_model_name": "FloatProgressModel",
            "_view_count": null,
            "_view_module": "@jupyter-widgets/controls",
            "_view_module_version": "1.5.0",
            "_view_name": "ProgressView",
            "bar_style": "success",
            "description": "",
            "description_tooltip": null,
            "layout": "IPY_MODEL_85ccd3efc82148f18c081f31f4853020",
            "max": 1,
            "min": 0,
            "orientation": "horizontal",
            "style": "IPY_MODEL_dc725bdcd53446c695943e560cf2d375",
            "value": 1
          }
        },
        "4eaca1a529a2472eb3fbf74a3cc1be2f": {
          "model_module": "@jupyter-widgets/controls",
          "model_name": "HTMLModel",
          "model_module_version": "1.5.0",
          "state": {
            "_dom_classes": [],
            "_model_module": "@jupyter-widgets/controls",
            "_model_module_version": "1.5.0",
            "_model_name": "HTMLModel",
            "_view_count": null,
            "_view_module": "@jupyter-widgets/controls",
            "_view_module_version": "1.5.0",
            "_view_name": "HTMLView",
            "description": "",
            "description_tooltip": null,
            "layout": "IPY_MODEL_0ffd769f82664f2aae25d1189878d3f9",
            "placeholder": "​",
            "style": "IPY_MODEL_ac71d9b751ab464da3f328eab175c45f",
            "value": " 232k/? [00:00&lt;00:00, 5.72MB/s]"
          }
        },
        "c8e73fb96b074535a2a8b68a25ea4798": {
          "model_module": "@jupyter-widgets/base",
          "model_name": "LayoutModel",
          "model_module_version": "1.2.0",
          "state": {
            "_model_module": "@jupyter-widgets/base",
            "_model_module_version": "1.2.0",
            "_model_name": "LayoutModel",
            "_view_count": null,
            "_view_module": "@jupyter-widgets/base",
            "_view_module_version": "1.2.0",
            "_view_name": "LayoutView",
            "align_content": null,
            "align_items": null,
            "align_self": null,
            "border": null,
            "bottom": null,
            "display": null,
            "flex": null,
            "flex_flow": null,
            "grid_area": null,
            "grid_auto_columns": null,
            "grid_auto_flow": null,
            "grid_auto_rows": null,
            "grid_column": null,
            "grid_gap": null,
            "grid_row": null,
            "grid_template_areas": null,
            "grid_template_columns": null,
            "grid_template_rows": null,
            "height": null,
            "justify_content": null,
            "justify_items": null,
            "left": null,
            "margin": null,
            "max_height": null,
            "max_width": null,
            "min_height": null,
            "min_width": null,
            "object_fit": null,
            "object_position": null,
            "order": null,
            "overflow": null,
            "overflow_x": null,
            "overflow_y": null,
            "padding": null,
            "right": null,
            "top": null,
            "visibility": null,
            "width": null
          }
        },
        "e060e0a6935a4f16a183e22ad2fadc3d": {
          "model_module": "@jupyter-widgets/base",
          "model_name": "LayoutModel",
          "model_module_version": "1.2.0",
          "state": {
            "_model_module": "@jupyter-widgets/base",
            "_model_module_version": "1.2.0",
            "_model_name": "LayoutModel",
            "_view_count": null,
            "_view_module": "@jupyter-widgets/base",
            "_view_module_version": "1.2.0",
            "_view_name": "LayoutView",
            "align_content": null,
            "align_items": null,
            "align_self": null,
            "border": null,
            "bottom": null,
            "display": null,
            "flex": null,
            "flex_flow": null,
            "grid_area": null,
            "grid_auto_columns": null,
            "grid_auto_flow": null,
            "grid_auto_rows": null,
            "grid_column": null,
            "grid_gap": null,
            "grid_row": null,
            "grid_template_areas": null,
            "grid_template_columns": null,
            "grid_template_rows": null,
            "height": null,
            "justify_content": null,
            "justify_items": null,
            "left": null,
            "margin": null,
            "max_height": null,
            "max_width": null,
            "min_height": null,
            "min_width": null,
            "object_fit": null,
            "object_position": null,
            "order": null,
            "overflow": null,
            "overflow_x": null,
            "overflow_y": null,
            "padding": null,
            "right": null,
            "top": null,
            "visibility": null,
            "width": null
          }
        },
        "5e72c434d1a64ed2a9cf053d199c3cc5": {
          "model_module": "@jupyter-widgets/controls",
          "model_name": "DescriptionStyleModel",
          "model_module_version": "1.5.0",
          "state": {
            "_model_module": "@jupyter-widgets/controls",
            "_model_module_version": "1.5.0",
            "_model_name": "DescriptionStyleModel",
            "_view_count": null,
            "_view_module": "@jupyter-widgets/base",
            "_view_module_version": "1.2.0",
            "_view_name": "StyleView",
            "description_width": ""
          }
        },
        "85ccd3efc82148f18c081f31f4853020": {
          "model_module": "@jupyter-widgets/base",
          "model_name": "LayoutModel",
          "model_module_version": "1.2.0",
          "state": {
            "_model_module": "@jupyter-widgets/base",
            "_model_module_version": "1.2.0",
            "_model_name": "LayoutModel",
            "_view_count": null,
            "_view_module": "@jupyter-widgets/base",
            "_view_module_version": "1.2.0",
            "_view_name": "LayoutView",
            "align_content": null,
            "align_items": null,
            "align_self": null,
            "border": null,
            "bottom": null,
            "display": null,
            "flex": null,
            "flex_flow": null,
            "grid_area": null,
            "grid_auto_columns": null,
            "grid_auto_flow": null,
            "grid_auto_rows": null,
            "grid_column": null,
            "grid_gap": null,
            "grid_row": null,
            "grid_template_areas": null,
            "grid_template_columns": null,
            "grid_template_rows": null,
            "height": null,
            "justify_content": null,
            "justify_items": null,
            "left": null,
            "margin": null,
            "max_height": null,
            "max_width": null,
            "min_height": null,
            "min_width": null,
            "object_fit": null,
            "object_position": null,
            "order": null,
            "overflow": null,
            "overflow_x": null,
            "overflow_y": null,
            "padding": null,
            "right": null,
            "top": null,
            "visibility": null,
            "width": "20px"
          }
        },
        "dc725bdcd53446c695943e560cf2d375": {
          "model_module": "@jupyter-widgets/controls",
          "model_name": "ProgressStyleModel",
          "model_module_version": "1.5.0",
          "state": {
            "_model_module": "@jupyter-widgets/controls",
            "_model_module_version": "1.5.0",
            "_model_name": "ProgressStyleModel",
            "_view_count": null,
            "_view_module": "@jupyter-widgets/base",
            "_view_module_version": "1.2.0",
            "_view_name": "StyleView",
            "bar_color": null,
            "description_width": ""
          }
        },
        "0ffd769f82664f2aae25d1189878d3f9": {
          "model_module": "@jupyter-widgets/base",
          "model_name": "LayoutModel",
          "model_module_version": "1.2.0",
          "state": {
            "_model_module": "@jupyter-widgets/base",
            "_model_module_version": "1.2.0",
            "_model_name": "LayoutModel",
            "_view_count": null,
            "_view_module": "@jupyter-widgets/base",
            "_view_module_version": "1.2.0",
            "_view_name": "LayoutView",
            "align_content": null,
            "align_items": null,
            "align_self": null,
            "border": null,
            "bottom": null,
            "display": null,
            "flex": null,
            "flex_flow": null,
            "grid_area": null,
            "grid_auto_columns": null,
            "grid_auto_flow": null,
            "grid_auto_rows": null,
            "grid_column": null,
            "grid_gap": null,
            "grid_row": null,
            "grid_template_areas": null,
            "grid_template_columns": null,
            "grid_template_rows": null,
            "height": null,
            "justify_content": null,
            "justify_items": null,
            "left": null,
            "margin": null,
            "max_height": null,
            "max_width": null,
            "min_height": null,
            "min_width": null,
            "object_fit": null,
            "object_position": null,
            "order": null,
            "overflow": null,
            "overflow_x": null,
            "overflow_y": null,
            "padding": null,
            "right": null,
            "top": null,
            "visibility": null,
            "width": null
          }
        },
        "ac71d9b751ab464da3f328eab175c45f": {
          "model_module": "@jupyter-widgets/controls",
          "model_name": "DescriptionStyleModel",
          "model_module_version": "1.5.0",
          "state": {
            "_model_module": "@jupyter-widgets/controls",
            "_model_module_version": "1.5.0",
            "_model_name": "DescriptionStyleModel",
            "_view_count": null,
            "_view_module": "@jupyter-widgets/base",
            "_view_module_version": "1.2.0",
            "_view_name": "StyleView",
            "description_width": ""
          }
        },
        "835c9e53306345abafa8b9ace15a7d10": {
          "model_module": "@jupyter-widgets/controls",
          "model_name": "HBoxModel",
          "model_module_version": "1.5.0",
          "state": {
            "_dom_classes": [],
            "_model_module": "@jupyter-widgets/controls",
            "_model_module_version": "1.5.0",
            "_model_name": "HBoxModel",
            "_view_count": null,
            "_view_module": "@jupyter-widgets/controls",
            "_view_module_version": "1.5.0",
            "_view_name": "HBoxView",
            "box_style": "",
            "children": [
              "IPY_MODEL_133aaa94fee84e28a291ad3e6717fca8",
              "IPY_MODEL_901726b2e68f40e7865b1d9230711888",
              "IPY_MODEL_679874ead6934afb8bc1568dd7dcd4aa"
            ],
            "layout": "IPY_MODEL_83bfd32f5ce94c6290b9611d93fa21d4"
          }
        },
        "133aaa94fee84e28a291ad3e6717fca8": {
          "model_module": "@jupyter-widgets/controls",
          "model_name": "HTMLModel",
          "model_module_version": "1.5.0",
          "state": {
            "_dom_classes": [],
            "_model_module": "@jupyter-widgets/controls",
            "_model_module_version": "1.5.0",
            "_model_name": "HTMLModel",
            "_view_count": null,
            "_view_module": "@jupyter-widgets/controls",
            "_view_module_version": "1.5.0",
            "_view_name": "HTMLView",
            "description": "",
            "description_tooltip": null,
            "layout": "IPY_MODEL_0ab50e5c85b34055b20f63872367a467",
            "placeholder": "​",
            "style": "IPY_MODEL_04efac3298d44859b7048b8b600bf658",
            "value": "tokenizer.json: "
          }
        },
        "901726b2e68f40e7865b1d9230711888": {
          "model_module": "@jupyter-widgets/controls",
          "model_name": "FloatProgressModel",
          "model_module_version": "1.5.0",
          "state": {
            "_dom_classes": [],
            "_model_module": "@jupyter-widgets/controls",
            "_model_module_version": "1.5.0",
            "_model_name": "FloatProgressModel",
            "_view_count": null,
            "_view_module": "@jupyter-widgets/controls",
            "_view_module_version": "1.5.0",
            "_view_name": "ProgressView",
            "bar_style": "success",
            "description": "",
            "description_tooltip": null,
            "layout": "IPY_MODEL_0eed5e7ac81e4482abaaa5fcab6a719f",
            "max": 1,
            "min": 0,
            "orientation": "horizontal",
            "style": "IPY_MODEL_5703bc2fa2164479b5b079e91308535b",
            "value": 1
          }
        },
        "679874ead6934afb8bc1568dd7dcd4aa": {
          "model_module": "@jupyter-widgets/controls",
          "model_name": "HTMLModel",
          "model_module_version": "1.5.0",
          "state": {
            "_dom_classes": [],
            "_model_module": "@jupyter-widgets/controls",
            "_model_module_version": "1.5.0",
            "_model_name": "HTMLModel",
            "_view_count": null,
            "_view_module": "@jupyter-widgets/controls",
            "_view_module_version": "1.5.0",
            "_view_name": "HTMLView",
            "description": "",
            "description_tooltip": null,
            "layout": "IPY_MODEL_1336335fde1e4c9591928a2acfc20826",
            "placeholder": "​",
            "style": "IPY_MODEL_e6bd020bb0264aecbbbaa6e84c39c183",
            "value": " 466k/? [00:00&lt;00:00, 15.5MB/s]"
          }
        },
        "83bfd32f5ce94c6290b9611d93fa21d4": {
          "model_module": "@jupyter-widgets/base",
          "model_name": "LayoutModel",
          "model_module_version": "1.2.0",
          "state": {
            "_model_module": "@jupyter-widgets/base",
            "_model_module_version": "1.2.0",
            "_model_name": "LayoutModel",
            "_view_count": null,
            "_view_module": "@jupyter-widgets/base",
            "_view_module_version": "1.2.0",
            "_view_name": "LayoutView",
            "align_content": null,
            "align_items": null,
            "align_self": null,
            "border": null,
            "bottom": null,
            "display": null,
            "flex": null,
            "flex_flow": null,
            "grid_area": null,
            "grid_auto_columns": null,
            "grid_auto_flow": null,
            "grid_auto_rows": null,
            "grid_column": null,
            "grid_gap": null,
            "grid_row": null,
            "grid_template_areas": null,
            "grid_template_columns": null,
            "grid_template_rows": null,
            "height": null,
            "justify_content": null,
            "justify_items": null,
            "left": null,
            "margin": null,
            "max_height": null,
            "max_width": null,
            "min_height": null,
            "min_width": null,
            "object_fit": null,
            "object_position": null,
            "order": null,
            "overflow": null,
            "overflow_x": null,
            "overflow_y": null,
            "padding": null,
            "right": null,
            "top": null,
            "visibility": null,
            "width": null
          }
        },
        "0ab50e5c85b34055b20f63872367a467": {
          "model_module": "@jupyter-widgets/base",
          "model_name": "LayoutModel",
          "model_module_version": "1.2.0",
          "state": {
            "_model_module": "@jupyter-widgets/base",
            "_model_module_version": "1.2.0",
            "_model_name": "LayoutModel",
            "_view_count": null,
            "_view_module": "@jupyter-widgets/base",
            "_view_module_version": "1.2.0",
            "_view_name": "LayoutView",
            "align_content": null,
            "align_items": null,
            "align_self": null,
            "border": null,
            "bottom": null,
            "display": null,
            "flex": null,
            "flex_flow": null,
            "grid_area": null,
            "grid_auto_columns": null,
            "grid_auto_flow": null,
            "grid_auto_rows": null,
            "grid_column": null,
            "grid_gap": null,
            "grid_row": null,
            "grid_template_areas": null,
            "grid_template_columns": null,
            "grid_template_rows": null,
            "height": null,
            "justify_content": null,
            "justify_items": null,
            "left": null,
            "margin": null,
            "max_height": null,
            "max_width": null,
            "min_height": null,
            "min_width": null,
            "object_fit": null,
            "object_position": null,
            "order": null,
            "overflow": null,
            "overflow_x": null,
            "overflow_y": null,
            "padding": null,
            "right": null,
            "top": null,
            "visibility": null,
            "width": null
          }
        },
        "04efac3298d44859b7048b8b600bf658": {
          "model_module": "@jupyter-widgets/controls",
          "model_name": "DescriptionStyleModel",
          "model_module_version": "1.5.0",
          "state": {
            "_model_module": "@jupyter-widgets/controls",
            "_model_module_version": "1.5.0",
            "_model_name": "DescriptionStyleModel",
            "_view_count": null,
            "_view_module": "@jupyter-widgets/base",
            "_view_module_version": "1.2.0",
            "_view_name": "StyleView",
            "description_width": ""
          }
        },
        "0eed5e7ac81e4482abaaa5fcab6a719f": {
          "model_module": "@jupyter-widgets/base",
          "model_name": "LayoutModel",
          "model_module_version": "1.2.0",
          "state": {
            "_model_module": "@jupyter-widgets/base",
            "_model_module_version": "1.2.0",
            "_model_name": "LayoutModel",
            "_view_count": null,
            "_view_module": "@jupyter-widgets/base",
            "_view_module_version": "1.2.0",
            "_view_name": "LayoutView",
            "align_content": null,
            "align_items": null,
            "align_self": null,
            "border": null,
            "bottom": null,
            "display": null,
            "flex": null,
            "flex_flow": null,
            "grid_area": null,
            "grid_auto_columns": null,
            "grid_auto_flow": null,
            "grid_auto_rows": null,
            "grid_column": null,
            "grid_gap": null,
            "grid_row": null,
            "grid_template_areas": null,
            "grid_template_columns": null,
            "grid_template_rows": null,
            "height": null,
            "justify_content": null,
            "justify_items": null,
            "left": null,
            "margin": null,
            "max_height": null,
            "max_width": null,
            "min_height": null,
            "min_width": null,
            "object_fit": null,
            "object_position": null,
            "order": null,
            "overflow": null,
            "overflow_x": null,
            "overflow_y": null,
            "padding": null,
            "right": null,
            "top": null,
            "visibility": null,
            "width": "20px"
          }
        },
        "5703bc2fa2164479b5b079e91308535b": {
          "model_module": "@jupyter-widgets/controls",
          "model_name": "ProgressStyleModel",
          "model_module_version": "1.5.0",
          "state": {
            "_model_module": "@jupyter-widgets/controls",
            "_model_module_version": "1.5.0",
            "_model_name": "ProgressStyleModel",
            "_view_count": null,
            "_view_module": "@jupyter-widgets/base",
            "_view_module_version": "1.2.0",
            "_view_name": "StyleView",
            "bar_color": null,
            "description_width": ""
          }
        },
        "1336335fde1e4c9591928a2acfc20826": {
          "model_module": "@jupyter-widgets/base",
          "model_name": "LayoutModel",
          "model_module_version": "1.2.0",
          "state": {
            "_model_module": "@jupyter-widgets/base",
            "_model_module_version": "1.2.0",
            "_model_name": "LayoutModel",
            "_view_count": null,
            "_view_module": "@jupyter-widgets/base",
            "_view_module_version": "1.2.0",
            "_view_name": "LayoutView",
            "align_content": null,
            "align_items": null,
            "align_self": null,
            "border": null,
            "bottom": null,
            "display": null,
            "flex": null,
            "flex_flow": null,
            "grid_area": null,
            "grid_auto_columns": null,
            "grid_auto_flow": null,
            "grid_auto_rows": null,
            "grid_column": null,
            "grid_gap": null,
            "grid_row": null,
            "grid_template_areas": null,
            "grid_template_columns": null,
            "grid_template_rows": null,
            "height": null,
            "justify_content": null,
            "justify_items": null,
            "left": null,
            "margin": null,
            "max_height": null,
            "max_width": null,
            "min_height": null,
            "min_width": null,
            "object_fit": null,
            "object_position": null,
            "order": null,
            "overflow": null,
            "overflow_x": null,
            "overflow_y": null,
            "padding": null,
            "right": null,
            "top": null,
            "visibility": null,
            "width": null
          }
        },
        "e6bd020bb0264aecbbbaa6e84c39c183": {
          "model_module": "@jupyter-widgets/controls",
          "model_name": "DescriptionStyleModel",
          "model_module_version": "1.5.0",
          "state": {
            "_model_module": "@jupyter-widgets/controls",
            "_model_module_version": "1.5.0",
            "_model_name": "DescriptionStyleModel",
            "_view_count": null,
            "_view_module": "@jupyter-widgets/base",
            "_view_module_version": "1.2.0",
            "_view_name": "StyleView",
            "description_width": ""
          }
        },
        "70256adad33a4c1a934cf15d1f269007": {
          "model_module": "@jupyter-widgets/controls",
          "model_name": "HBoxModel",
          "model_module_version": "1.5.0",
          "state": {
            "_dom_classes": [],
            "_model_module": "@jupyter-widgets/controls",
            "_model_module_version": "1.5.0",
            "_model_name": "HBoxModel",
            "_view_count": null,
            "_view_module": "@jupyter-widgets/controls",
            "_view_module_version": "1.5.0",
            "_view_name": "HBoxView",
            "box_style": "",
            "children": [
              "IPY_MODEL_1dde655c1fa44411b6a1b65f4eeeb002",
              "IPY_MODEL_314464f97dd742309fe28473d7d7b45b",
              "IPY_MODEL_935486e6133e469b940e8a27429f94d4"
            ],
            "layout": "IPY_MODEL_0b6bc4caf3c8489cbd9e5f19e98aa69c"
          }
        },
        "1dde655c1fa44411b6a1b65f4eeeb002": {
          "model_module": "@jupyter-widgets/controls",
          "model_name": "HTMLModel",
          "model_module_version": "1.5.0",
          "state": {
            "_dom_classes": [],
            "_model_module": "@jupyter-widgets/controls",
            "_model_module_version": "1.5.0",
            "_model_name": "HTMLModel",
            "_view_count": null,
            "_view_module": "@jupyter-widgets/controls",
            "_view_module_version": "1.5.0",
            "_view_name": "HTMLView",
            "description": "",
            "description_tooltip": null,
            "layout": "IPY_MODEL_9b829171dc794e01a1cf83d28ba0eee6",
            "placeholder": "​",
            "style": "IPY_MODEL_f706ab814932492ba38c32cb5f49578d",
            "value": "special_tokens_map.json: 100%"
          }
        },
        "314464f97dd742309fe28473d7d7b45b": {
          "model_module": "@jupyter-widgets/controls",
          "model_name": "FloatProgressModel",
          "model_module_version": "1.5.0",
          "state": {
            "_dom_classes": [],
            "_model_module": "@jupyter-widgets/controls",
            "_model_module_version": "1.5.0",
            "_model_name": "FloatProgressModel",
            "_view_count": null,
            "_view_module": "@jupyter-widgets/controls",
            "_view_module_version": "1.5.0",
            "_view_name": "ProgressView",
            "bar_style": "success",
            "description": "",
            "description_tooltip": null,
            "layout": "IPY_MODEL_c9bfbc00581b4d03a53f2e62d83eed36",
            "max": 239,
            "min": 0,
            "orientation": "horizontal",
            "style": "IPY_MODEL_62c29782f57d40d9b711f48850e4ac92",
            "value": 239
          }
        },
        "935486e6133e469b940e8a27429f94d4": {
          "model_module": "@jupyter-widgets/controls",
          "model_name": "HTMLModel",
          "model_module_version": "1.5.0",
          "state": {
            "_dom_classes": [],
            "_model_module": "@jupyter-widgets/controls",
            "_model_module_version": "1.5.0",
            "_model_name": "HTMLModel",
            "_view_count": null,
            "_view_module": "@jupyter-widgets/controls",
            "_view_module_version": "1.5.0",
            "_view_name": "HTMLView",
            "description": "",
            "description_tooltip": null,
            "layout": "IPY_MODEL_9409a0fbf7a941b7ac1d1321975270e8",
            "placeholder": "​",
            "style": "IPY_MODEL_c3d4b6f19b0647478a0e1867b041cd8a",
            "value": " 239/239 [00:00&lt;00:00, 15.3kB/s]"
          }
        },
        "0b6bc4caf3c8489cbd9e5f19e98aa69c": {
          "model_module": "@jupyter-widgets/base",
          "model_name": "LayoutModel",
          "model_module_version": "1.2.0",
          "state": {
            "_model_module": "@jupyter-widgets/base",
            "_model_module_version": "1.2.0",
            "_model_name": "LayoutModel",
            "_view_count": null,
            "_view_module": "@jupyter-widgets/base",
            "_view_module_version": "1.2.0",
            "_view_name": "LayoutView",
            "align_content": null,
            "align_items": null,
            "align_self": null,
            "border": null,
            "bottom": null,
            "display": null,
            "flex": null,
            "flex_flow": null,
            "grid_area": null,
            "grid_auto_columns": null,
            "grid_auto_flow": null,
            "grid_auto_rows": null,
            "grid_column": null,
            "grid_gap": null,
            "grid_row": null,
            "grid_template_areas": null,
            "grid_template_columns": null,
            "grid_template_rows": null,
            "height": null,
            "justify_content": null,
            "justify_items": null,
            "left": null,
            "margin": null,
            "max_height": null,
            "max_width": null,
            "min_height": null,
            "min_width": null,
            "object_fit": null,
            "object_position": null,
            "order": null,
            "overflow": null,
            "overflow_x": null,
            "overflow_y": null,
            "padding": null,
            "right": null,
            "top": null,
            "visibility": null,
            "width": null
          }
        },
        "9b829171dc794e01a1cf83d28ba0eee6": {
          "model_module": "@jupyter-widgets/base",
          "model_name": "LayoutModel",
          "model_module_version": "1.2.0",
          "state": {
            "_model_module": "@jupyter-widgets/base",
            "_model_module_version": "1.2.0",
            "_model_name": "LayoutModel",
            "_view_count": null,
            "_view_module": "@jupyter-widgets/base",
            "_view_module_version": "1.2.0",
            "_view_name": "LayoutView",
            "align_content": null,
            "align_items": null,
            "align_self": null,
            "border": null,
            "bottom": null,
            "display": null,
            "flex": null,
            "flex_flow": null,
            "grid_area": null,
            "grid_auto_columns": null,
            "grid_auto_flow": null,
            "grid_auto_rows": null,
            "grid_column": null,
            "grid_gap": null,
            "grid_row": null,
            "grid_template_areas": null,
            "grid_template_columns": null,
            "grid_template_rows": null,
            "height": null,
            "justify_content": null,
            "justify_items": null,
            "left": null,
            "margin": null,
            "max_height": null,
            "max_width": null,
            "min_height": null,
            "min_width": null,
            "object_fit": null,
            "object_position": null,
            "order": null,
            "overflow": null,
            "overflow_x": null,
            "overflow_y": null,
            "padding": null,
            "right": null,
            "top": null,
            "visibility": null,
            "width": null
          }
        },
        "f706ab814932492ba38c32cb5f49578d": {
          "model_module": "@jupyter-widgets/controls",
          "model_name": "DescriptionStyleModel",
          "model_module_version": "1.5.0",
          "state": {
            "_model_module": "@jupyter-widgets/controls",
            "_model_module_version": "1.5.0",
            "_model_name": "DescriptionStyleModel",
            "_view_count": null,
            "_view_module": "@jupyter-widgets/base",
            "_view_module_version": "1.2.0",
            "_view_name": "StyleView",
            "description_width": ""
          }
        },
        "c9bfbc00581b4d03a53f2e62d83eed36": {
          "model_module": "@jupyter-widgets/base",
          "model_name": "LayoutModel",
          "model_module_version": "1.2.0",
          "state": {
            "_model_module": "@jupyter-widgets/base",
            "_model_module_version": "1.2.0",
            "_model_name": "LayoutModel",
            "_view_count": null,
            "_view_module": "@jupyter-widgets/base",
            "_view_module_version": "1.2.0",
            "_view_name": "LayoutView",
            "align_content": null,
            "align_items": null,
            "align_self": null,
            "border": null,
            "bottom": null,
            "display": null,
            "flex": null,
            "flex_flow": null,
            "grid_area": null,
            "grid_auto_columns": null,
            "grid_auto_flow": null,
            "grid_auto_rows": null,
            "grid_column": null,
            "grid_gap": null,
            "grid_row": null,
            "grid_template_areas": null,
            "grid_template_columns": null,
            "grid_template_rows": null,
            "height": null,
            "justify_content": null,
            "justify_items": null,
            "left": null,
            "margin": null,
            "max_height": null,
            "max_width": null,
            "min_height": null,
            "min_width": null,
            "object_fit": null,
            "object_position": null,
            "order": null,
            "overflow": null,
            "overflow_x": null,
            "overflow_y": null,
            "padding": null,
            "right": null,
            "top": null,
            "visibility": null,
            "width": null
          }
        },
        "62c29782f57d40d9b711f48850e4ac92": {
          "model_module": "@jupyter-widgets/controls",
          "model_name": "ProgressStyleModel",
          "model_module_version": "1.5.0",
          "state": {
            "_model_module": "@jupyter-widgets/controls",
            "_model_module_version": "1.5.0",
            "_model_name": "ProgressStyleModel",
            "_view_count": null,
            "_view_module": "@jupyter-widgets/base",
            "_view_module_version": "1.2.0",
            "_view_name": "StyleView",
            "bar_color": null,
            "description_width": ""
          }
        },
        "9409a0fbf7a941b7ac1d1321975270e8": {
          "model_module": "@jupyter-widgets/base",
          "model_name": "LayoutModel",
          "model_module_version": "1.2.0",
          "state": {
            "_model_module": "@jupyter-widgets/base",
            "_model_module_version": "1.2.0",
            "_model_name": "LayoutModel",
            "_view_count": null,
            "_view_module": "@jupyter-widgets/base",
            "_view_module_version": "1.2.0",
            "_view_name": "LayoutView",
            "align_content": null,
            "align_items": null,
            "align_self": null,
            "border": null,
            "bottom": null,
            "display": null,
            "flex": null,
            "flex_flow": null,
            "grid_area": null,
            "grid_auto_columns": null,
            "grid_auto_flow": null,
            "grid_auto_rows": null,
            "grid_column": null,
            "grid_gap": null,
            "grid_row": null,
            "grid_template_areas": null,
            "grid_template_columns": null,
            "grid_template_rows": null,
            "height": null,
            "justify_content": null,
            "justify_items": null,
            "left": null,
            "margin": null,
            "max_height": null,
            "max_width": null,
            "min_height": null,
            "min_width": null,
            "object_fit": null,
            "object_position": null,
            "order": null,
            "overflow": null,
            "overflow_x": null,
            "overflow_y": null,
            "padding": null,
            "right": null,
            "top": null,
            "visibility": null,
            "width": null
          }
        },
        "c3d4b6f19b0647478a0e1867b041cd8a": {
          "model_module": "@jupyter-widgets/controls",
          "model_name": "DescriptionStyleModel",
          "model_module_version": "1.5.0",
          "state": {
            "_model_module": "@jupyter-widgets/controls",
            "_model_module_version": "1.5.0",
            "_model_name": "DescriptionStyleModel",
            "_view_count": null,
            "_view_module": "@jupyter-widgets/base",
            "_view_module_version": "1.2.0",
            "_view_name": "StyleView",
            "description_width": ""
          }
        },
        "c1618ff4f14c4f1683c319877e7dcfcb": {
          "model_module": "@jupyter-widgets/controls",
          "model_name": "HBoxModel",
          "model_module_version": "1.5.0",
          "state": {
            "_dom_classes": [],
            "_model_module": "@jupyter-widgets/controls",
            "_model_module_version": "1.5.0",
            "_model_name": "HBoxModel",
            "_view_count": null,
            "_view_module": "@jupyter-widgets/controls",
            "_view_module_version": "1.5.0",
            "_view_name": "HBoxView",
            "box_style": "",
            "children": [
              "IPY_MODEL_c04c46f6b7b44582a40b767be4ceeea6",
              "IPY_MODEL_709f85d7573a4552a1ea7eea6fe04f25",
              "IPY_MODEL_2c14eedaebea4fbc8d7f1b73f221f887"
            ],
            "layout": "IPY_MODEL_2f0a93096db14e5687570cf316de3ba8"
          }
        },
        "c04c46f6b7b44582a40b767be4ceeea6": {
          "model_module": "@jupyter-widgets/controls",
          "model_name": "HTMLModel",
          "model_module_version": "1.5.0",
          "state": {
            "_dom_classes": [],
            "_model_module": "@jupyter-widgets/controls",
            "_model_module_version": "1.5.0",
            "_model_name": "HTMLModel",
            "_view_count": null,
            "_view_module": "@jupyter-widgets/controls",
            "_view_module_version": "1.5.0",
            "_view_name": "HTMLView",
            "description": "",
            "description_tooltip": null,
            "layout": "IPY_MODEL_d70a84e9205646d1bf2ab669b5d849ea",
            "placeholder": "​",
            "style": "IPY_MODEL_a837fbee13ae4dd6bc9f527ce8f97853",
            "value": "config.json: 100%"
          }
        },
        "709f85d7573a4552a1ea7eea6fe04f25": {
          "model_module": "@jupyter-widgets/controls",
          "model_name": "FloatProgressModel",
          "model_module_version": "1.5.0",
          "state": {
            "_dom_classes": [],
            "_model_module": "@jupyter-widgets/controls",
            "_model_module_version": "1.5.0",
            "_model_name": "FloatProgressModel",
            "_view_count": null,
            "_view_module": "@jupyter-widgets/controls",
            "_view_module_version": "1.5.0",
            "_view_name": "ProgressView",
            "bar_style": "success",
            "description": "",
            "description_tooltip": null,
            "layout": "IPY_MODEL_4e319bda0c2946b0b86081acd437b605",
            "max": 190,
            "min": 0,
            "orientation": "horizontal",
            "style": "IPY_MODEL_00351dd795574ea2a9bb1bb2dd7d3263",
            "value": 190
          }
        },
        "2c14eedaebea4fbc8d7f1b73f221f887": {
          "model_module": "@jupyter-widgets/controls",
          "model_name": "HTMLModel",
          "model_module_version": "1.5.0",
          "state": {
            "_dom_classes": [],
            "_model_module": "@jupyter-widgets/controls",
            "_model_module_version": "1.5.0",
            "_model_name": "HTMLModel",
            "_view_count": null,
            "_view_module": "@jupyter-widgets/controls",
            "_view_module_version": "1.5.0",
            "_view_name": "HTMLView",
            "description": "",
            "description_tooltip": null,
            "layout": "IPY_MODEL_c489a3dc55c645f6adcb4eaee854cbf7",
            "placeholder": "​",
            "style": "IPY_MODEL_f8f06b7a731b4fe8a636af579d11292a",
            "value": " 190/190 [00:00&lt;00:00, 9.78kB/s]"
          }
        },
        "2f0a93096db14e5687570cf316de3ba8": {
          "model_module": "@jupyter-widgets/base",
          "model_name": "LayoutModel",
          "model_module_version": "1.2.0",
          "state": {
            "_model_module": "@jupyter-widgets/base",
            "_model_module_version": "1.2.0",
            "_model_name": "LayoutModel",
            "_view_count": null,
            "_view_module": "@jupyter-widgets/base",
            "_view_module_version": "1.2.0",
            "_view_name": "LayoutView",
            "align_content": null,
            "align_items": null,
            "align_self": null,
            "border": null,
            "bottom": null,
            "display": null,
            "flex": null,
            "flex_flow": null,
            "grid_area": null,
            "grid_auto_columns": null,
            "grid_auto_flow": null,
            "grid_auto_rows": null,
            "grid_column": null,
            "grid_gap": null,
            "grid_row": null,
            "grid_template_areas": null,
            "grid_template_columns": null,
            "grid_template_rows": null,
            "height": null,
            "justify_content": null,
            "justify_items": null,
            "left": null,
            "margin": null,
            "max_height": null,
            "max_width": null,
            "min_height": null,
            "min_width": null,
            "object_fit": null,
            "object_position": null,
            "order": null,
            "overflow": null,
            "overflow_x": null,
            "overflow_y": null,
            "padding": null,
            "right": null,
            "top": null,
            "visibility": null,
            "width": null
          }
        },
        "d70a84e9205646d1bf2ab669b5d849ea": {
          "model_module": "@jupyter-widgets/base",
          "model_name": "LayoutModel",
          "model_module_version": "1.2.0",
          "state": {
            "_model_module": "@jupyter-widgets/base",
            "_model_module_version": "1.2.0",
            "_model_name": "LayoutModel",
            "_view_count": null,
            "_view_module": "@jupyter-widgets/base",
            "_view_module_version": "1.2.0",
            "_view_name": "LayoutView",
            "align_content": null,
            "align_items": null,
            "align_self": null,
            "border": null,
            "bottom": null,
            "display": null,
            "flex": null,
            "flex_flow": null,
            "grid_area": null,
            "grid_auto_columns": null,
            "grid_auto_flow": null,
            "grid_auto_rows": null,
            "grid_column": null,
            "grid_gap": null,
            "grid_row": null,
            "grid_template_areas": null,
            "grid_template_columns": null,
            "grid_template_rows": null,
            "height": null,
            "justify_content": null,
            "justify_items": null,
            "left": null,
            "margin": null,
            "max_height": null,
            "max_width": null,
            "min_height": null,
            "min_width": null,
            "object_fit": null,
            "object_position": null,
            "order": null,
            "overflow": null,
            "overflow_x": null,
            "overflow_y": null,
            "padding": null,
            "right": null,
            "top": null,
            "visibility": null,
            "width": null
          }
        },
        "a837fbee13ae4dd6bc9f527ce8f97853": {
          "model_module": "@jupyter-widgets/controls",
          "model_name": "DescriptionStyleModel",
          "model_module_version": "1.5.0",
          "state": {
            "_model_module": "@jupyter-widgets/controls",
            "_model_module_version": "1.5.0",
            "_model_name": "DescriptionStyleModel",
            "_view_count": null,
            "_view_module": "@jupyter-widgets/base",
            "_view_module_version": "1.2.0",
            "_view_name": "StyleView",
            "description_width": ""
          }
        },
        "4e319bda0c2946b0b86081acd437b605": {
          "model_module": "@jupyter-widgets/base",
          "model_name": "LayoutModel",
          "model_module_version": "1.2.0",
          "state": {
            "_model_module": "@jupyter-widgets/base",
            "_model_module_version": "1.2.0",
            "_model_name": "LayoutModel",
            "_view_count": null,
            "_view_module": "@jupyter-widgets/base",
            "_view_module_version": "1.2.0",
            "_view_name": "LayoutView",
            "align_content": null,
            "align_items": null,
            "align_self": null,
            "border": null,
            "bottom": null,
            "display": null,
            "flex": null,
            "flex_flow": null,
            "grid_area": null,
            "grid_auto_columns": null,
            "grid_auto_flow": null,
            "grid_auto_rows": null,
            "grid_column": null,
            "grid_gap": null,
            "grid_row": null,
            "grid_template_areas": null,
            "grid_template_columns": null,
            "grid_template_rows": null,
            "height": null,
            "justify_content": null,
            "justify_items": null,
            "left": null,
            "margin": null,
            "max_height": null,
            "max_width": null,
            "min_height": null,
            "min_width": null,
            "object_fit": null,
            "object_position": null,
            "order": null,
            "overflow": null,
            "overflow_x": null,
            "overflow_y": null,
            "padding": null,
            "right": null,
            "top": null,
            "visibility": null,
            "width": null
          }
        },
        "00351dd795574ea2a9bb1bb2dd7d3263": {
          "model_module": "@jupyter-widgets/controls",
          "model_name": "ProgressStyleModel",
          "model_module_version": "1.5.0",
          "state": {
            "_model_module": "@jupyter-widgets/controls",
            "_model_module_version": "1.5.0",
            "_model_name": "ProgressStyleModel",
            "_view_count": null,
            "_view_module": "@jupyter-widgets/base",
            "_view_module_version": "1.2.0",
            "_view_name": "StyleView",
            "bar_color": null,
            "description_width": ""
          }
        },
        "c489a3dc55c645f6adcb4eaee854cbf7": {
          "model_module": "@jupyter-widgets/base",
          "model_name": "LayoutModel",
          "model_module_version": "1.2.0",
          "state": {
            "_model_module": "@jupyter-widgets/base",
            "_model_module_version": "1.2.0",
            "_model_name": "LayoutModel",
            "_view_count": null,
            "_view_module": "@jupyter-widgets/base",
            "_view_module_version": "1.2.0",
            "_view_name": "LayoutView",
            "align_content": null,
            "align_items": null,
            "align_self": null,
            "border": null,
            "bottom": null,
            "display": null,
            "flex": null,
            "flex_flow": null,
            "grid_area": null,
            "grid_auto_columns": null,
            "grid_auto_flow": null,
            "grid_auto_rows": null,
            "grid_column": null,
            "grid_gap": null,
            "grid_row": null,
            "grid_template_areas": null,
            "grid_template_columns": null,
            "grid_template_rows": null,
            "height": null,
            "justify_content": null,
            "justify_items": null,
            "left": null,
            "margin": null,
            "max_height": null,
            "max_width": null,
            "min_height": null,
            "min_width": null,
            "object_fit": null,
            "object_position": null,
            "order": null,
            "overflow": null,
            "overflow_x": null,
            "overflow_y": null,
            "padding": null,
            "right": null,
            "top": null,
            "visibility": null,
            "width": null
          }
        },
        "f8f06b7a731b4fe8a636af579d11292a": {
          "model_module": "@jupyter-widgets/controls",
          "model_name": "DescriptionStyleModel",
          "model_module_version": "1.5.0",
          "state": {
            "_model_module": "@jupyter-widgets/controls",
            "_model_module_version": "1.5.0",
            "_model_name": "DescriptionStyleModel",
            "_view_count": null,
            "_view_module": "@jupyter-widgets/base",
            "_view_module_version": "1.2.0",
            "_view_name": "StyleView",
            "description_width": ""
          }
        }
      }
    }
  },
  "cells": [
    {
      "cell_type": "markdown",
      "metadata": {
        "id": "view-in-github",
        "colab_type": "text"
      },
      "source": [
        "<a href=\"https://colab.research.google.com/github/tejinderpa/LANGCHAIN/blob/main/PracticingSplitters_loaders_retrievers.ipynb\" target=\"_parent\"><img src=\"https://colab.research.google.com/assets/colab-badge.svg\" alt=\"Open In Colab\"/></a>"
      ]
    },
    {
      "cell_type": "code",
      "source": [
        "!pip install streamlit\n"
      ],
      "metadata": {
        "colab": {
          "base_uri": "https://localhost:8080/"
        },
        "id": "UznjTxGLJ1dm",
        "outputId": "15a6051b-df5e-4da7-8a32-dcb338449411"
      },
      "execution_count": 1,
      "outputs": [
        {
          "output_type": "stream",
          "name": "stdout",
          "text": [
            "Requirement already satisfied: streamlit in /usr/local/lib/python3.11/dist-packages (1.48.1)\n",
            "Requirement already satisfied: altair!=5.4.0,!=5.4.1,<6,>=4.0 in /usr/local/lib/python3.11/dist-packages (from streamlit) (5.5.0)\n",
            "Requirement already satisfied: blinker<2,>=1.5.0 in /usr/local/lib/python3.11/dist-packages (from streamlit) (1.9.0)\n",
            "Requirement already satisfied: cachetools<7,>=4.0 in /usr/local/lib/python3.11/dist-packages (from streamlit) (5.5.2)\n",
            "Requirement already satisfied: click<9,>=7.0 in /usr/local/lib/python3.11/dist-packages (from streamlit) (8.2.1)\n",
            "Requirement already satisfied: numpy<3,>=1.23 in /usr/local/lib/python3.11/dist-packages (from streamlit) (2.0.2)\n",
            "Requirement already satisfied: packaging<26,>=20 in /usr/local/lib/python3.11/dist-packages (from streamlit) (25.0)\n",
            "Requirement already satisfied: pandas<3,>=1.4.0 in /usr/local/lib/python3.11/dist-packages (from streamlit) (2.2.2)\n",
            "Requirement already satisfied: pillow<12,>=7.1.0 in /usr/local/lib/python3.11/dist-packages (from streamlit) (11.3.0)\n",
            "Requirement already satisfied: protobuf<7,>=3.20 in /usr/local/lib/python3.11/dist-packages (from streamlit) (5.29.5)\n",
            "Requirement already satisfied: pyarrow>=7.0 in /usr/local/lib/python3.11/dist-packages (from streamlit) (18.1.0)\n",
            "Requirement already satisfied: requests<3,>=2.27 in /usr/local/lib/python3.11/dist-packages (from streamlit) (2.32.3)\n",
            "Requirement already satisfied: tenacity<10,>=8.1.0 in /usr/local/lib/python3.11/dist-packages (from streamlit) (9.1.2)\n",
            "Requirement already satisfied: toml<2,>=0.10.1 in /usr/local/lib/python3.11/dist-packages (from streamlit) (0.10.2)\n",
            "Requirement already satisfied: typing-extensions<5,>=4.4.0 in /usr/local/lib/python3.11/dist-packages (from streamlit) (4.14.1)\n",
            "Requirement already satisfied: watchdog<7,>=2.1.5 in /usr/local/lib/python3.11/dist-packages (from streamlit) (6.0.0)\n",
            "Requirement already satisfied: gitpython!=3.1.19,<4,>=3.0.7 in /usr/local/lib/python3.11/dist-packages (from streamlit) (3.1.45)\n",
            "Requirement already satisfied: pydeck<1,>=0.8.0b4 in /usr/local/lib/python3.11/dist-packages (from streamlit) (0.9.1)\n",
            "Requirement already satisfied: tornado!=6.5.0,<7,>=6.0.3 in /usr/local/lib/python3.11/dist-packages (from streamlit) (6.4.2)\n",
            "Requirement already satisfied: jinja2 in /usr/local/lib/python3.11/dist-packages (from altair!=5.4.0,!=5.4.1,<6,>=4.0->streamlit) (3.1.6)\n",
            "Requirement already satisfied: jsonschema>=3.0 in /usr/local/lib/python3.11/dist-packages (from altair!=5.4.0,!=5.4.1,<6,>=4.0->streamlit) (4.25.0)\n",
            "Requirement already satisfied: narwhals>=1.14.2 in /usr/local/lib/python3.11/dist-packages (from altair!=5.4.0,!=5.4.1,<6,>=4.0->streamlit) (2.1.0)\n",
            "Requirement already satisfied: gitdb<5,>=4.0.1 in /usr/local/lib/python3.11/dist-packages (from gitpython!=3.1.19,<4,>=3.0.7->streamlit) (4.0.12)\n",
            "Requirement already satisfied: python-dateutil>=2.8.2 in /usr/local/lib/python3.11/dist-packages (from pandas<3,>=1.4.0->streamlit) (2.9.0.post0)\n",
            "Requirement already satisfied: pytz>=2020.1 in /usr/local/lib/python3.11/dist-packages (from pandas<3,>=1.4.0->streamlit) (2025.2)\n",
            "Requirement already satisfied: tzdata>=2022.7 in /usr/local/lib/python3.11/dist-packages (from pandas<3,>=1.4.0->streamlit) (2025.2)\n",
            "Requirement already satisfied: charset-normalizer<4,>=2 in /usr/local/lib/python3.11/dist-packages (from requests<3,>=2.27->streamlit) (3.4.3)\n",
            "Requirement already satisfied: idna<4,>=2.5 in /usr/local/lib/python3.11/dist-packages (from requests<3,>=2.27->streamlit) (3.10)\n",
            "Requirement already satisfied: urllib3<3,>=1.21.1 in /usr/local/lib/python3.11/dist-packages (from requests<3,>=2.27->streamlit) (2.5.0)\n",
            "Requirement already satisfied: certifi>=2017.4.17 in /usr/local/lib/python3.11/dist-packages (from requests<3,>=2.27->streamlit) (2025.8.3)\n",
            "Requirement already satisfied: smmap<6,>=3.0.1 in /usr/local/lib/python3.11/dist-packages (from gitdb<5,>=4.0.1->gitpython!=3.1.19,<4,>=3.0.7->streamlit) (5.0.2)\n",
            "Requirement already satisfied: MarkupSafe>=2.0 in /usr/local/lib/python3.11/dist-packages (from jinja2->altair!=5.4.0,!=5.4.1,<6,>=4.0->streamlit) (3.0.2)\n",
            "Requirement already satisfied: attrs>=22.2.0 in /usr/local/lib/python3.11/dist-packages (from jsonschema>=3.0->altair!=5.4.0,!=5.4.1,<6,>=4.0->streamlit) (25.3.0)\n",
            "Requirement already satisfied: jsonschema-specifications>=2023.03.6 in /usr/local/lib/python3.11/dist-packages (from jsonschema>=3.0->altair!=5.4.0,!=5.4.1,<6,>=4.0->streamlit) (2025.4.1)\n",
            "Requirement already satisfied: referencing>=0.28.4 in /usr/local/lib/python3.11/dist-packages (from jsonschema>=3.0->altair!=5.4.0,!=5.4.1,<6,>=4.0->streamlit) (0.36.2)\n",
            "Requirement already satisfied: rpds-py>=0.7.1 in /usr/local/lib/python3.11/dist-packages (from jsonschema>=3.0->altair!=5.4.0,!=5.4.1,<6,>=4.0->streamlit) (0.27.0)\n",
            "Requirement already satisfied: six>=1.5 in /usr/local/lib/python3.11/dist-packages (from python-dateutil>=2.8.2->pandas<3,>=1.4.0->streamlit) (1.17.0)\n"
          ]
        }
      ]
    },
    {
      "cell_type": "code",
      "execution_count": 2,
      "metadata": {
        "id": "WeG27k7nIf8N"
      },
      "outputs": [],
      "source": [
        "from langchain.memory import ConversationBufferWindowMemory\n",
        "from langchain.chains import ConversationChain\n",
        "import streamlit as st\n",
        "import requests\n",
        "import os\n",
        "import google.generativeai as genai\n",
        "\n"
      ]
    },
    {
      "cell_type": "code",
      "source": [
        "import streamlit as st\n",
        "import requests\n",
        "import os\n",
        "import google.generativeai as genai\n",
        "from langchain.prompts import PromptTemplate\n",
        "from langchain.chains import LLMChain\n",
        "from langchain_google_genai import ChatGoogleGenerativeAI\n",
        "from google.colab import userdata\n",
        "\n",
        "GOOGLE_API_KEY = userdata.get('GOOGLE_API_KEY_2')\n",
        "\n",
        "prompt_template_name = PromptTemplate(\n",
        "    input_variables = ['country'],\n",
        "    template = \"I want to open a cafe in {country}. Suggest a fancy name for this cafe.Answer in one or two sentences.\"\n",
        ")\n",
        "\n",
        "llm = ChatGoogleGenerativeAI(model=\"gemini-1.5-flash\", google_api_key=GOOGLE_API_KEY)\n",
        "\n",
        "chain = LLMChain(llm = llm, prompt=prompt_template_name)\n",
        "\n",
        "name = chain.run(\"Indian\")\n"
      ],
      "metadata": {
        "id": "0BRs9_A-JtJX"
      },
      "execution_count": 25,
      "outputs": []
    },
    {
      "cell_type": "code",
      "source": [
        "print(name)"
      ],
      "metadata": {
        "colab": {
          "base_uri": "https://localhost:8080/"
        },
        "id": "ao0dBA9VMLkc",
        "outputId": "f1e29465-3493-4632-b91a-5a07dc56d8a4"
      },
      "execution_count": 26,
      "outputs": [
        {
          "output_type": "stream",
          "name": "stdout",
          "text": [
            "\"The Saffron & Spice\" or \"Masala & Mocha\" evoke a sense of Indian flavors and café culture.\n"
          ]
        }
      ]
    },
    {
      "cell_type": "code",
      "source": [
        "from langchain.memory import ConversationBufferMemory\n",
        "memory = ConversationBufferMemory()\n",
        "\n",
        "chain = LLMChain(llm = llm, prompt=prompt_template_name, memory = memory)\n",
        "name = chain.run(\"Punjabian\")\n",
        "print(name)"
      ],
      "metadata": {
        "colab": {
          "base_uri": "https://localhost:8080/"
        },
        "id": "uLqo1MNiMMQu",
        "outputId": "8b955e30-9d2d-4afb-f6eb-868fd18b6fef"
      },
      "execution_count": 13,
      "outputs": [
        {
          "output_type": "stream",
          "name": "stderr",
          "text": [
            "/tmp/ipython-input-1237893012.py:2: LangChainDeprecationWarning: Please see the migration guide at: https://python.langchain.com/docs/versions/migrating_memory/\n",
            "  memory = ConversationBufferMemory()\n"
          ]
        },
        {
          "output_type": "stream",
          "name": "stdout",
          "text": [
            "Here are some fancy cafe names in a Punjabi style, categorized for different vibes:\n",
            "\n",
            "**Elegant & Sophisticated:**\n",
            "\n",
            "* **Maharani's Coffee House:** Evokes royalty and elegance.\n",
            "* **The Golden Dhaba:**  A modern twist on a classic.\n",
            "* **Rangla Punjab Cafe:** \"Rangla\" means colorful and vibrant.\n",
            "* **Amritsar Avenue:**  Sophisticated and geographically suggestive.\n",
            "* **Sutlej Shores Cafe:**  Uses a prominent Punjab river for elegance.\n",
            "* **Haveli Heights:**  Suggests a luxurious, historic setting.\n",
            "\n",
            "\n",
            "**Modern & Chic:**\n",
            "\n",
            "* **Chai & Chic:** A simple, memorable blend of tradition and style.\n",
            "* **The Punjabi Grind:**  A modern, slightly edgy name.\n",
            "* **Mitti Di Coffee:** (\"Mitti\" means earth)  Earthy and sophisticated.\n",
            "* **Punjab Brew Co.:**  Modern and implies craft coffee.\n",
            "* **Saada Pind Cafe:** (\"Saada Pind\" means our village)  Nostalgic yet modern.\n",
            "\n",
            "\n",
            "**Playful & Approachable:**\n",
            "\n",
            "* **Dastaan Cafe:** (\"Dastaan\" means story)  Inviting and suggests a unique experience.\n",
            "* **The Bhangra Bean:**  Fun and energetic, referencing a Punjabi dance.\n",
            "* **Kulfi & Coffee:**  Simple, delicious, and memorable.\n",
            "* **Jatt Ji Di Coffee:** (\"Jatt\" is a common Punjabi term)  Friendly and approachable.\n",
            "\n",
            "\n",
            "**Remember to check for trademark availability before settling on a name.**  You might also consider adding a tagline to further define your cafe's style and offerings.  For example, \"Maharani's Coffee House: Where tradition meets modern taste.\"\n"
          ]
        }
      ]
    },
    {
      "cell_type": "code",
      "source": [
        "chain.memory"
      ],
      "metadata": {
        "colab": {
          "base_uri": "https://localhost:8080/"
        },
        "id": "8CZtxFbVM7w1",
        "outputId": "bbb93f77-cc18-42fc-f34c-d57353ecf3b9"
      },
      "execution_count": 14,
      "outputs": [
        {
          "output_type": "execute_result",
          "data": {
            "text/plain": [
              "ConversationBufferMemory(chat_memory=InMemoryChatMessageHistory(messages=[HumanMessage(content='Punjabian', additional_kwargs={}, response_metadata={}), AIMessage(content='Here are some fancy cafe names in a Punjabi style, categorized for different vibes:\\n\\n**Elegant & Sophisticated:**\\n\\n* **Maharani\\'s Coffee House:** Evokes royalty and elegance.\\n* **The Golden Dhaba:**  A modern twist on a classic.\\n* **Rangla Punjab Cafe:** \"Rangla\" means colorful and vibrant.\\n* **Amritsar Avenue:**  Sophisticated and geographically suggestive.\\n* **Sutlej Shores Cafe:**  Uses a prominent Punjab river for elegance.\\n* **Haveli Heights:**  Suggests a luxurious, historic setting.\\n\\n\\n**Modern & Chic:**\\n\\n* **Chai & Chic:** A simple, memorable blend of tradition and style.\\n* **The Punjabi Grind:**  A modern, slightly edgy name.\\n* **Mitti Di Coffee:** (\"Mitti\" means earth)  Earthy and sophisticated.\\n* **Punjab Brew Co.:**  Modern and implies craft coffee.\\n* **Saada Pind Cafe:** (\"Saada Pind\" means our village)  Nostalgic yet modern.\\n\\n\\n**Playful & Approachable:**\\n\\n* **Dastaan Cafe:** (\"Dastaan\" means story)  Inviting and suggests a unique experience.\\n* **The Bhangra Bean:**  Fun and energetic, referencing a Punjabi dance.\\n* **Kulfi & Coffee:**  Simple, delicious, and memorable.\\n* **Jatt Ji Di Coffee:** (\"Jatt\" is a common Punjabi term)  Friendly and approachable.\\n\\n\\n**Remember to check for trademark availability before settling on a name.**  You might also consider adding a tagline to further define your cafe\\'s style and offerings.  For example, \"Maharani\\'s Coffee House: Where tradition meets modern taste.\"', additional_kwargs={}, response_metadata={})]))"
            ]
          },
          "metadata": {},
          "execution_count": 14
        }
      ]
    },
    {
      "cell_type": "code",
      "source": [
        "print(chain.memory.buffer)"
      ],
      "metadata": {
        "colab": {
          "base_uri": "https://localhost:8080/"
        },
        "id": "AXKJVDhKNDz7",
        "outputId": "73a19f90-9f66-487b-c713-679816aa9e59"
      },
      "execution_count": 16,
      "outputs": [
        {
          "output_type": "stream",
          "name": "stdout",
          "text": [
            "Human: Punjabian\n",
            "AI: Here are some fancy cafe names in a Punjabi style, categorized for different vibes:\n",
            "\n",
            "**Elegant & Sophisticated:**\n",
            "\n",
            "* **Maharani's Coffee House:** Evokes royalty and elegance.\n",
            "* **The Golden Dhaba:**  A modern twist on a classic.\n",
            "* **Rangla Punjab Cafe:** \"Rangla\" means colorful and vibrant.\n",
            "* **Amritsar Avenue:**  Sophisticated and geographically suggestive.\n",
            "* **Sutlej Shores Cafe:**  Uses a prominent Punjab river for elegance.\n",
            "* **Haveli Heights:**  Suggests a luxurious, historic setting.\n",
            "\n",
            "\n",
            "**Modern & Chic:**\n",
            "\n",
            "* **Chai & Chic:** A simple, memorable blend of tradition and style.\n",
            "* **The Punjabi Grind:**  A modern, slightly edgy name.\n",
            "* **Mitti Di Coffee:** (\"Mitti\" means earth)  Earthy and sophisticated.\n",
            "* **Punjab Brew Co.:**  Modern and implies craft coffee.\n",
            "* **Saada Pind Cafe:** (\"Saada Pind\" means our village)  Nostalgic yet modern.\n",
            "\n",
            "\n",
            "**Playful & Approachable:**\n",
            "\n",
            "* **Dastaan Cafe:** (\"Dastaan\" means story)  Inviting and suggests a unique experience.\n",
            "* **The Bhangra Bean:**  Fun and energetic, referencing a Punjabi dance.\n",
            "* **Kulfi & Coffee:**  Simple, delicious, and memorable.\n",
            "* **Jatt Ji Di Coffee:** (\"Jatt\" is a common Punjabi term)  Friendly and approachable.\n",
            "\n",
            "\n",
            "**Remember to check for trademark availability before settling on a name.**  You might also consider adding a tagline to further define your cafe's style and offerings.  For example, \"Maharani's Coffee House: Where tradition meets modern taste.\"\n"
          ]
        }
      ]
    },
    {
      "cell_type": "code",
      "source": [
        "from langchain.chains import ConversationChain\n",
        "\n",
        "convo = ConversationChain(llm = llm)\n",
        "print(convo.prompt.template)"
      ],
      "metadata": {
        "colab": {
          "base_uri": "https://localhost:8080/"
        },
        "id": "Vm8hQO-MNIQc",
        "outputId": "bddcbbd9-8627-43c2-c0f7-9507b1bfa07f"
      },
      "execution_count": 17,
      "outputs": [
        {
          "output_type": "stream",
          "name": "stdout",
          "text": [
            "The following is a friendly conversation between a human and an AI. The AI is talkative and provides lots of specific details from its context. If the AI does not know the answer to a question, it truthfully says it does not know.\n",
            "\n",
            "Current conversation:\n",
            "{history}\n",
            "Human: {input}\n",
            "AI:\n"
          ]
        }
      ]
    },
    {
      "cell_type": "code",
      "source": [
        "convo.run(\"Who won the first cricket world cup?\")"
      ],
      "metadata": {
        "colab": {
          "base_uri": "https://localhost:8080/",
          "height": 140
        },
        "id": "hrawZr8KNtIc",
        "outputId": "71e8f82b-6fa5-4036-f8da-9428721daa4f"
      },
      "execution_count": 18,
      "outputs": [
        {
          "output_type": "execute_result",
          "data": {
            "text/plain": [
              "\"The first Cricket World Cup was won by the West Indies in 1975.  The final was held at Lord's Cricket Ground in London, and they beat Australia by 17 runs.  Clive Lloyd was the captain of the West Indies team, and he was also the tournament's leading run-scorer.  It was a truly dominant performance by the West Indies, setting the stage for their reign as a cricketing powerhouse in the years to come.  Interestingly, the tournament was initially planned to be played in England and Wales, but due to logistical issues, some matches were also held in other parts of the UK.\""
            ],
            "application/vnd.google.colaboratory.intrinsic+json": {
              "type": "string"
            }
          },
          "metadata": {},
          "execution_count": 18
        }
      ]
    },
    {
      "cell_type": "code",
      "source": [
        "convo.run(\"What is 5+5?\")"
      ],
      "metadata": {
        "colab": {
          "base_uri": "https://localhost:8080/",
          "height": 70
        },
        "id": "MZtU9Bx4N4ix",
        "outputId": "0b1c5bff-fd79-4ba6-8a2e-a8b0c301764f"
      },
      "execution_count": 19,
      "outputs": [
        {
          "output_type": "execute_result",
          "data": {
            "text/plain": [
              "\"5 + 5 = 10.  It's a simple addition problem, fundamental to arithmetic.  The answer is always 10, regardless of the context or number base (assuming base 10, of course!).\""
            ],
            "application/vnd.google.colaboratory.intrinsic+json": {
              "type": "string"
            }
          },
          "metadata": {},
          "execution_count": 19
        }
      ]
    },
    {
      "cell_type": "code",
      "source": [
        "print(convo.memory.buffer)"
      ],
      "metadata": {
        "colab": {
          "base_uri": "https://localhost:8080/"
        },
        "id": "FwSF9AsvN_-5",
        "outputId": "9652d1e7-1533-499a-eeea-b5f564b94d5a"
      },
      "execution_count": 21,
      "outputs": [
        {
          "output_type": "stream",
          "name": "stdout",
          "text": [
            "Human: Who won the first cricket world cup?\n",
            "AI: The first Cricket World Cup was won by the West Indies in 1975.  The final was held at Lord's Cricket Ground in London, and they beat Australia by 17 runs.  Clive Lloyd was the captain of the West Indies team, and he was also the tournament's leading run-scorer.  It was a truly dominant performance by the West Indies, setting the stage for their reign as a cricketing powerhouse in the years to come.  Interestingly, the tournament was initially planned to be played in England and Wales, but due to logistical issues, some matches were also held in other parts of the UK.\n",
            "Human: What is 5+5?\n",
            "AI: 5 + 5 = 10.  It's a simple addition problem, fundamental to arithmetic.  The answer is always 10, regardless of the context or number base (assuming base 10, of course!).\n"
          ]
        }
      ]
    },
    {
      "cell_type": "code",
      "source": [
        "from langchain.memory import ConversationBufferWindowMemory\n",
        "memory = ConversationBufferWindowMemory(k=1)\n",
        "\n",
        "convo = ConversationChain(llm = llm, memory = memory)\n",
        "convo.run(\"Who won the first cricket world cup?\")"
      ],
      "metadata": {
        "colab": {
          "base_uri": "https://localhost:8080/",
          "height": 122
        },
        "id": "L9xylpq3OFtJ",
        "outputId": "f33a823f-7e21-4cb6-fe8b-2b4b51e53785"
      },
      "execution_count": 22,
      "outputs": [
        {
          "output_type": "execute_result",
          "data": {
            "text/plain": [
              "\"The first Cricket World Cup was won by the West Indies in 1975.  The final was held at Lord's Cricket Ground in London, and they beat Australia by 17 runs.  Clive Lloyd captained the West Indies team, and their victory marked the beginning of a dominant era for West Indies cricket in One Day Internationals.  Interestingly, the tournament was initially conceived as a 60-over match, but due to rain interruptions in some matches, the final was shortened to a 60-over match.\""
            ],
            "application/vnd.google.colaboratory.intrinsic+json": {
              "type": "string"
            }
          },
          "metadata": {},
          "execution_count": 22
        }
      ]
    },
    {
      "cell_type": "code",
      "source": [
        "convo.run(\"What is 5+8 answer in one line\")"
      ],
      "metadata": {
        "colab": {
          "base_uri": "https://localhost:8080/",
          "height": 36
        },
        "id": "pr7p9itJOc7i",
        "outputId": "bf11b5b1-e9e6-444b-d250-6f950e88d8c0"
      },
      "execution_count": 23,
      "outputs": [
        {
          "output_type": "execute_result",
          "data": {
            "text/plain": [
              "'13'"
            ],
            "application/vnd.google.colaboratory.intrinsic+json": {
              "type": "string"
            }
          },
          "metadata": {},
          "execution_count": 23
        }
      ]
    },
    {
      "cell_type": "code",
      "source": [
        "convo.run(\"Who was the captain of the Winning team. answer in one sentence\")"
      ],
      "metadata": {
        "colab": {
          "base_uri": "https://localhost:8080/",
          "height": 36
        },
        "id": "hwOCAIz4OlZX",
        "outputId": "7d73ab17-12c8-487b-e39e-434964b82a9f"
      },
      "execution_count": 24,
      "outputs": [
        {
          "output_type": "execute_result",
          "data": {
            "text/plain": [
              "'AI: I need more context.  Which team? Which game? Which sport?'"
            ],
            "application/vnd.google.colaboratory.intrinsic+json": {
              "type": "string"
            }
          },
          "metadata": {},
          "execution_count": 24
        }
      ]
    },
    {
      "cell_type": "code",
      "source": [
        "!pip install -U langchain-community"
      ],
      "metadata": {
        "colab": {
          "base_uri": "https://localhost:8080/"
        },
        "id": "c6xqVPbXRxgJ",
        "outputId": "d90b5c6f-ae73-4e1b-a915-de1244f1d80c"
      },
      "execution_count": 28,
      "outputs": [
        {
          "output_type": "stream",
          "name": "stdout",
          "text": [
            "Collecting langchain-community\n",
            "  Downloading langchain_community-0.3.27-py3-none-any.whl.metadata (2.9 kB)\n",
            "Requirement already satisfied: langchain-core<1.0.0,>=0.3.66 in /usr/local/lib/python3.11/dist-packages (from langchain-community) (0.3.74)\n",
            "Requirement already satisfied: langchain<1.0.0,>=0.3.26 in /usr/local/lib/python3.11/dist-packages (from langchain-community) (0.3.27)\n",
            "Requirement already satisfied: SQLAlchemy<3,>=1.4 in /usr/local/lib/python3.11/dist-packages (from langchain-community) (2.0.43)\n",
            "Requirement already satisfied: requests<3,>=2 in /usr/local/lib/python3.11/dist-packages (from langchain-community) (2.32.3)\n",
            "Requirement already satisfied: PyYAML>=5.3 in /usr/local/lib/python3.11/dist-packages (from langchain-community) (6.0.2)\n",
            "Requirement already satisfied: aiohttp<4.0.0,>=3.8.3 in /usr/local/lib/python3.11/dist-packages (from langchain-community) (3.12.15)\n",
            "Requirement already satisfied: tenacity!=8.4.0,<10,>=8.1.0 in /usr/local/lib/python3.11/dist-packages (from langchain-community) (9.1.2)\n",
            "Collecting dataclasses-json<0.7,>=0.5.7 (from langchain-community)\n",
            "  Downloading dataclasses_json-0.6.7-py3-none-any.whl.metadata (25 kB)\n",
            "Collecting pydantic-settings<3.0.0,>=2.4.0 (from langchain-community)\n",
            "  Downloading pydantic_settings-2.10.1-py3-none-any.whl.metadata (3.4 kB)\n",
            "Requirement already satisfied: langsmith>=0.1.125 in /usr/local/lib/python3.11/dist-packages (from langchain-community) (0.4.13)\n",
            "Collecting httpx-sse<1.0.0,>=0.4.0 (from langchain-community)\n",
            "  Downloading httpx_sse-0.4.1-py3-none-any.whl.metadata (9.4 kB)\n",
            "Requirement already satisfied: numpy>=1.26.2 in /usr/local/lib/python3.11/dist-packages (from langchain-community) (2.0.2)\n",
            "Requirement already satisfied: aiohappyeyeballs>=2.5.0 in /usr/local/lib/python3.11/dist-packages (from aiohttp<4.0.0,>=3.8.3->langchain-community) (2.6.1)\n",
            "Requirement already satisfied: aiosignal>=1.4.0 in /usr/local/lib/python3.11/dist-packages (from aiohttp<4.0.0,>=3.8.3->langchain-community) (1.4.0)\n",
            "Requirement already satisfied: attrs>=17.3.0 in /usr/local/lib/python3.11/dist-packages (from aiohttp<4.0.0,>=3.8.3->langchain-community) (25.3.0)\n",
            "Requirement already satisfied: frozenlist>=1.1.1 in /usr/local/lib/python3.11/dist-packages (from aiohttp<4.0.0,>=3.8.3->langchain-community) (1.7.0)\n",
            "Requirement already satisfied: multidict<7.0,>=4.5 in /usr/local/lib/python3.11/dist-packages (from aiohttp<4.0.0,>=3.8.3->langchain-community) (6.6.4)\n",
            "Requirement already satisfied: propcache>=0.2.0 in /usr/local/lib/python3.11/dist-packages (from aiohttp<4.0.0,>=3.8.3->langchain-community) (0.3.2)\n",
            "Requirement already satisfied: yarl<2.0,>=1.17.0 in /usr/local/lib/python3.11/dist-packages (from aiohttp<4.0.0,>=3.8.3->langchain-community) (1.20.1)\n",
            "Collecting marshmallow<4.0.0,>=3.18.0 (from dataclasses-json<0.7,>=0.5.7->langchain-community)\n",
            "  Downloading marshmallow-3.26.1-py3-none-any.whl.metadata (7.3 kB)\n",
            "Collecting typing-inspect<1,>=0.4.0 (from dataclasses-json<0.7,>=0.5.7->langchain-community)\n",
            "  Downloading typing_inspect-0.9.0-py3-none-any.whl.metadata (1.5 kB)\n",
            "Requirement already satisfied: langchain-text-splitters<1.0.0,>=0.3.9 in /usr/local/lib/python3.11/dist-packages (from langchain<1.0.0,>=0.3.26->langchain-community) (0.3.9)\n",
            "Requirement already satisfied: pydantic<3.0.0,>=2.7.4 in /usr/local/lib/python3.11/dist-packages (from langchain<1.0.0,>=0.3.26->langchain-community) (2.11.7)\n",
            "Requirement already satisfied: jsonpatch<2.0,>=1.33 in /usr/local/lib/python3.11/dist-packages (from langchain-core<1.0.0,>=0.3.66->langchain-community) (1.33)\n",
            "Requirement already satisfied: typing-extensions>=4.7 in /usr/local/lib/python3.11/dist-packages (from langchain-core<1.0.0,>=0.3.66->langchain-community) (4.14.1)\n",
            "Requirement already satisfied: packaging>=23.2 in /usr/local/lib/python3.11/dist-packages (from langchain-core<1.0.0,>=0.3.66->langchain-community) (25.0)\n",
            "Requirement already satisfied: httpx<1,>=0.23.0 in /usr/local/lib/python3.11/dist-packages (from langsmith>=0.1.125->langchain-community) (0.28.1)\n",
            "Requirement already satisfied: orjson>=3.9.14 in /usr/local/lib/python3.11/dist-packages (from langsmith>=0.1.125->langchain-community) (3.11.1)\n",
            "Requirement already satisfied: requests-toolbelt>=1.0.0 in /usr/local/lib/python3.11/dist-packages (from langsmith>=0.1.125->langchain-community) (1.0.0)\n",
            "Requirement already satisfied: zstandard>=0.23.0 in /usr/local/lib/python3.11/dist-packages (from langsmith>=0.1.125->langchain-community) (0.23.0)\n",
            "Collecting python-dotenv>=0.21.0 (from pydantic-settings<3.0.0,>=2.4.0->langchain-community)\n",
            "  Downloading python_dotenv-1.1.1-py3-none-any.whl.metadata (24 kB)\n",
            "Requirement already satisfied: typing-inspection>=0.4.0 in /usr/local/lib/python3.11/dist-packages (from pydantic-settings<3.0.0,>=2.4.0->langchain-community) (0.4.1)\n",
            "Requirement already satisfied: charset-normalizer<4,>=2 in /usr/local/lib/python3.11/dist-packages (from requests<3,>=2->langchain-community) (3.4.3)\n",
            "Requirement already satisfied: idna<4,>=2.5 in /usr/local/lib/python3.11/dist-packages (from requests<3,>=2->langchain-community) (3.10)\n",
            "Requirement already satisfied: urllib3<3,>=1.21.1 in /usr/local/lib/python3.11/dist-packages (from requests<3,>=2->langchain-community) (2.5.0)\n",
            "Requirement already satisfied: certifi>=2017.4.17 in /usr/local/lib/python3.11/dist-packages (from requests<3,>=2->langchain-community) (2025.8.3)\n",
            "Requirement already satisfied: greenlet>=1 in /usr/local/lib/python3.11/dist-packages (from SQLAlchemy<3,>=1.4->langchain-community) (3.2.4)\n",
            "Requirement already satisfied: anyio in /usr/local/lib/python3.11/dist-packages (from httpx<1,>=0.23.0->langsmith>=0.1.125->langchain-community) (4.10.0)\n",
            "Requirement already satisfied: httpcore==1.* in /usr/local/lib/python3.11/dist-packages (from httpx<1,>=0.23.0->langsmith>=0.1.125->langchain-community) (1.0.9)\n",
            "Requirement already satisfied: h11>=0.16 in /usr/local/lib/python3.11/dist-packages (from httpcore==1.*->httpx<1,>=0.23.0->langsmith>=0.1.125->langchain-community) (0.16.0)\n",
            "Requirement already satisfied: jsonpointer>=1.9 in /usr/local/lib/python3.11/dist-packages (from jsonpatch<2.0,>=1.33->langchain-core<1.0.0,>=0.3.66->langchain-community) (3.0.0)\n",
            "Requirement already satisfied: annotated-types>=0.6.0 in /usr/local/lib/python3.11/dist-packages (from pydantic<3.0.0,>=2.7.4->langchain<1.0.0,>=0.3.26->langchain-community) (0.7.0)\n",
            "Requirement already satisfied: pydantic-core==2.33.2 in /usr/local/lib/python3.11/dist-packages (from pydantic<3.0.0,>=2.7.4->langchain<1.0.0,>=0.3.26->langchain-community) (2.33.2)\n",
            "Collecting mypy-extensions>=0.3.0 (from typing-inspect<1,>=0.4.0->dataclasses-json<0.7,>=0.5.7->langchain-community)\n",
            "  Downloading mypy_extensions-1.1.0-py3-none-any.whl.metadata (1.1 kB)\n",
            "Requirement already satisfied: sniffio>=1.1 in /usr/local/lib/python3.11/dist-packages (from anyio->httpx<1,>=0.23.0->langsmith>=0.1.125->langchain-community) (1.3.1)\n",
            "Downloading langchain_community-0.3.27-py3-none-any.whl (2.5 MB)\n",
            "\u001b[2K   \u001b[90m━━━━━━━━━━━━━━━━━━━━━━━━━━━━━━━━━━━━━━━━\u001b[0m \u001b[32m2.5/2.5 MB\u001b[0m \u001b[31m30.1 MB/s\u001b[0m eta \u001b[36m0:00:00\u001b[0m\n",
            "\u001b[?25hDownloading dataclasses_json-0.6.7-py3-none-any.whl (28 kB)\n",
            "Downloading httpx_sse-0.4.1-py3-none-any.whl (8.1 kB)\n",
            "Downloading pydantic_settings-2.10.1-py3-none-any.whl (45 kB)\n",
            "\u001b[2K   \u001b[90m━━━━━━━━━━━━━━━━━━━━━━━━━━━━━━━━━━━━━━━━\u001b[0m \u001b[32m45.2/45.2 kB\u001b[0m \u001b[31m3.1 MB/s\u001b[0m eta \u001b[36m0:00:00\u001b[0m\n",
            "\u001b[?25hDownloading marshmallow-3.26.1-py3-none-any.whl (50 kB)\n",
            "\u001b[2K   \u001b[90m━━━━━━━━━━━━━━━━━━━━━━━━━━━━━━━━━━━━━━━━\u001b[0m \u001b[32m50.9/50.9 kB\u001b[0m \u001b[31m3.5 MB/s\u001b[0m eta \u001b[36m0:00:00\u001b[0m\n",
            "\u001b[?25hDownloading python_dotenv-1.1.1-py3-none-any.whl (20 kB)\n",
            "Downloading typing_inspect-0.9.0-py3-none-any.whl (8.8 kB)\n",
            "Downloading mypy_extensions-1.1.0-py3-none-any.whl (5.0 kB)\n",
            "Installing collected packages: python-dotenv, mypy-extensions, marshmallow, httpx-sse, typing-inspect, pydantic-settings, dataclasses-json, langchain-community\n",
            "Successfully installed dataclasses-json-0.6.7 httpx-sse-0.4.1 langchain-community-0.3.27 marshmallow-3.26.1 mypy-extensions-1.1.0 pydantic-settings-2.10.1 python-dotenv-1.1.1 typing-inspect-0.9.0\n"
          ]
        }
      ]
    },
    {
      "cell_type": "code",
      "source": [
        "from langchain.document_loaders import TextLoader"
      ],
      "metadata": {
        "id": "2cQqswnXOsDq"
      },
      "execution_count": 29,
      "outputs": []
    },
    {
      "cell_type": "code",
      "source": [
        "loader = TextLoader(\"/content/installer_opened.txt\")\n",
        "data = loader.load()\n"
      ],
      "metadata": {
        "colab": {
          "base_uri": "https://localhost:8080/"
        },
        "id": "-ZFl1nZKRrxb",
        "outputId": "a9f756d7-6751-4623-a8b1-388455591363"
      },
      "execution_count": 30,
      "outputs": [
        {
          "output_type": "execute_result",
          "data": {
            "text/plain": [
              "Document(metadata={'source': '/content/installer_opened.txt'}, page_content=\"\\nKey Observations\\n\\nA palindrome is symmetric\\n\\nFor a string of length n, palindrome[i] == palindrome[n-1-i].\\n\\nTo break the palindrome, you only need to change one character.\\n\\nChanging any character in the first half is enough, because the second half mirrors it.\\n\\nLexicographically smallest means as early as possible\\n\\nThe lexicographical order compares characters from left to right.\\n\\nTo minimize the string, we want to make the first character that is not 'a' smaller, ideally 'a'.\\n\\nThis ensures the smallest change in the order.\")"
            ]
          },
          "metadata": {},
          "execution_count": 30
        }
      ]
    },
    {
      "cell_type": "code",
      "source": [
        "print(data[0])"
      ],
      "metadata": {
        "colab": {
          "base_uri": "https://localhost:8080/"
        },
        "id": "2WoG8-jVStnv",
        "outputId": "bdd2c0a6-1ab6-4721-93e4-9bcd2a12a776"
      },
      "execution_count": 32,
      "outputs": [
        {
          "output_type": "stream",
          "name": "stdout",
          "text": [
            "page_content='\n",
            "Key Observations\n",
            "\n",
            "A palindrome is symmetric\n",
            "\n",
            "For a string of length n, palindrome[i] == palindrome[n-1-i].\n",
            "\n",
            "To break the palindrome, you only need to change one character.\n",
            "\n",
            "Changing any character in the first half is enough, because the second half mirrors it.\n",
            "\n",
            "Lexicographically smallest means as early as possible\n",
            "\n",
            "The lexicographical order compares characters from left to right.\n",
            "\n",
            "To minimize the string, we want to make the first character that is not 'a' smaller, ideally 'a'.\n",
            "\n",
            "This ensures the smallest change in the order.' metadata={'source': '/content/installer_opened.txt'}\n"
          ]
        }
      ]
    },
    {
      "cell_type": "code",
      "source": [
        "data[0].page_content"
      ],
      "metadata": {
        "colab": {
          "base_uri": "https://localhost:8080/",
          "height": 140
        },
        "id": "D7vLONTvSy7M",
        "outputId": "d5a14a99-c1de-41f1-b2c2-cd71ae5a7950"
      },
      "execution_count": 33,
      "outputs": [
        {
          "output_type": "execute_result",
          "data": {
            "text/plain": [
              "\"\\nKey Observations\\n\\nA palindrome is symmetric\\n\\nFor a string of length n, palindrome[i] == palindrome[n-1-i].\\n\\nTo break the palindrome, you only need to change one character.\\n\\nChanging any character in the first half is enough, because the second half mirrors it.\\n\\nLexicographically smallest means as early as possible\\n\\nThe lexicographical order compares characters from left to right.\\n\\nTo minimize the string, we want to make the first character that is not 'a' smaller, ideally 'a'.\\n\\nThis ensures the smallest change in the order.\""
            ],
            "application/vnd.google.colaboratory.intrinsic+json": {
              "type": "string"
            }
          },
          "metadata": {},
          "execution_count": 33
        }
      ]
    },
    {
      "cell_type": "code",
      "source": [
        "data[0].metadata"
      ],
      "metadata": {
        "colab": {
          "base_uri": "https://localhost:8080/"
        },
        "id": "qdih5C1sS7eT",
        "outputId": "ce096456-0820-4912-a74e-894a806084cf"
      },
      "execution_count": 34,
      "outputs": [
        {
          "output_type": "execute_result",
          "data": {
            "text/plain": [
              "{'source': '/content/installer_opened.txt'}"
            ]
          },
          "metadata": {},
          "execution_count": 34
        }
      ]
    },
    {
      "cell_type": "code",
      "source": [
        "from langchain.document_loaders import CSVLoader\n",
        "loader = CSVLoader(\"/content/movies.csv\")\n",
        "data = loader.load()\n",
        "len(data)"
      ],
      "metadata": {
        "colab": {
          "base_uri": "https://localhost:8080/"
        },
        "id": "c1qzrvifS9dv",
        "outputId": "4eb3d77e-935a-4b53-988b-a42ff095a0d3"
      },
      "execution_count": 35,
      "outputs": [
        {
          "output_type": "execute_result",
          "data": {
            "text/plain": [
              "9"
            ]
          },
          "metadata": {},
          "execution_count": 35
        }
      ]
    },
    {
      "cell_type": "code",
      "source": [
        "data[0].metadata"
      ],
      "metadata": {
        "colab": {
          "base_uri": "https://localhost:8080/"
        },
        "id": "3hTL3kS9UDYC",
        "outputId": "042f275b-a9c5-4cef-a45c-be4ca60fce66"
      },
      "execution_count": 38,
      "outputs": [
        {
          "output_type": "execute_result",
          "data": {
            "text/plain": [
              "{'source': '/content/movies.csv', 'row': 0}"
            ]
          },
          "metadata": {},
          "execution_count": 38
        }
      ]
    },
    {
      "cell_type": "code",
      "source": [
        "from langchain.document_loaders import CSVLoader\n",
        "loader = CSVLoader(\"/content/movies.csv\", source_column='title')\n",
        "data = loader.load()\n",
        "len(data)"
      ],
      "metadata": {
        "colab": {
          "base_uri": "https://localhost:8080/"
        },
        "id": "cMcI2cLfUEf-",
        "outputId": "040863ab-67cf-4e60-ec91-142a9ade75b2"
      },
      "execution_count": 39,
      "outputs": [
        {
          "output_type": "execute_result",
          "data": {
            "text/plain": [
              "9"
            ]
          },
          "metadata": {},
          "execution_count": 39
        }
      ]
    },
    {
      "cell_type": "code",
      "source": [
        "data[0].metadata"
      ],
      "metadata": {
        "colab": {
          "base_uri": "https://localhost:8080/"
        },
        "id": "VmbtVEW5UNuF",
        "outputId": "a5a7f331-c66e-4c5f-83a0-cb6a9f59dec2"
      },
      "execution_count": 40,
      "outputs": [
        {
          "output_type": "execute_result",
          "data": {
            "text/plain": [
              "{'source': 'K.G.F: Chapter 2', 'row': 0}"
            ]
          },
          "metadata": {},
          "execution_count": 40
        }
      ]
    },
    {
      "cell_type": "code",
      "source": [
        "!pip install unstructured"
      ],
      "metadata": {
        "colab": {
          "base_uri": "https://localhost:8080/"
        },
        "id": "qkIqztzWUlKB",
        "outputId": "5a7ad05f-89df-4d15-9bd2-8a91d79205b1"
      },
      "execution_count": 47,
      "outputs": [
        {
          "output_type": "stream",
          "name": "stdout",
          "text": [
            "Collecting unstructured\n",
            "  Using cached unstructured-0.18.13-py3-none-any.whl.metadata (24 kB)\n",
            "Requirement already satisfied: charset-normalizer in /usr/local/lib/python3.11/dist-packages (from unstructured) (3.4.3)\n",
            "Requirement already satisfied: filetype in /usr/local/lib/python3.11/dist-packages (from unstructured) (1.2.0)\n",
            "Collecting python-magic (from unstructured)\n",
            "  Using cached python_magic-0.4.27-py2.py3-none-any.whl.metadata (5.8 kB)\n",
            "Requirement already satisfied: lxml in /usr/local/lib/python3.11/dist-packages (from unstructured) (5.4.0)\n",
            "Requirement already satisfied: nltk in /usr/local/lib/python3.11/dist-packages (from unstructured) (3.9.1)\n",
            "Requirement already satisfied: requests in /usr/local/lib/python3.11/dist-packages (from unstructured) (2.32.3)\n",
            "Requirement already satisfied: beautifulsoup4 in /usr/local/lib/python3.11/dist-packages (from unstructured) (4.13.4)\n",
            "Collecting emoji (from unstructured)\n",
            "  Downloading emoji-2.14.1-py3-none-any.whl.metadata (5.7 kB)\n",
            "Requirement already satisfied: dataclasses-json in /usr/local/lib/python3.11/dist-packages (from unstructured) (0.6.7)\n",
            "Collecting python-iso639 (from unstructured)\n",
            "  Downloading python_iso639-2025.2.18-py3-none-any.whl.metadata (14 kB)\n",
            "Collecting langdetect (from unstructured)\n",
            "  Downloading langdetect-1.0.9.tar.gz (981 kB)\n",
            "\u001b[2K     \u001b[90m━━━━━━━━━━━━━━━━━━━━━━━━━━━━━━━━━━━━━━\u001b[0m \u001b[32m981.5/981.5 kB\u001b[0m \u001b[31m11.9 MB/s\u001b[0m eta \u001b[36m0:00:00\u001b[0m\n",
            "\u001b[?25h  Preparing metadata (setup.py) ... \u001b[?25l\u001b[?25hdone\n",
            "Requirement already satisfied: numpy in /usr/local/lib/python3.11/dist-packages (from unstructured) (2.0.2)\n",
            "Collecting rapidfuzz (from unstructured)\n",
            "  Downloading rapidfuzz-3.13.0-cp311-cp311-manylinux_2_17_x86_64.manylinux2014_x86_64.whl.metadata (12 kB)\n",
            "Collecting backoff (from unstructured)\n",
            "  Downloading backoff-2.2.1-py3-none-any.whl.metadata (14 kB)\n",
            "Requirement already satisfied: typing-extensions in /usr/local/lib/python3.11/dist-packages (from unstructured) (4.14.1)\n",
            "Collecting unstructured-client (from unstructured)\n",
            "  Downloading unstructured_client-0.42.3-py3-none-any.whl.metadata (23 kB)\n",
            "Requirement already satisfied: wrapt in /usr/local/lib/python3.11/dist-packages (from unstructured) (1.17.2)\n",
            "Requirement already satisfied: tqdm in /usr/local/lib/python3.11/dist-packages (from unstructured) (4.67.1)\n",
            "Requirement already satisfied: psutil in /usr/local/lib/python3.11/dist-packages (from unstructured) (5.9.5)\n",
            "Collecting python-oxmsg (from unstructured)\n",
            "  Downloading python_oxmsg-0.0.2-py3-none-any.whl.metadata (5.0 kB)\n",
            "Requirement already satisfied: html5lib in /usr/local/lib/python3.11/dist-packages (from unstructured) (1.1)\n",
            "Requirement already satisfied: soupsieve>1.2 in /usr/local/lib/python3.11/dist-packages (from beautifulsoup4->unstructured) (2.7)\n",
            "Requirement already satisfied: marshmallow<4.0.0,>=3.18.0 in /usr/local/lib/python3.11/dist-packages (from dataclasses-json->unstructured) (3.26.1)\n",
            "Requirement already satisfied: typing-inspect<1,>=0.4.0 in /usr/local/lib/python3.11/dist-packages (from dataclasses-json->unstructured) (0.9.0)\n",
            "Requirement already satisfied: six>=1.9 in /usr/local/lib/python3.11/dist-packages (from html5lib->unstructured) (1.17.0)\n",
            "Requirement already satisfied: webencodings in /usr/local/lib/python3.11/dist-packages (from html5lib->unstructured) (0.5.1)\n",
            "Requirement already satisfied: click in /usr/local/lib/python3.11/dist-packages (from nltk->unstructured) (8.2.1)\n",
            "Requirement already satisfied: joblib in /usr/local/lib/python3.11/dist-packages (from nltk->unstructured) (1.5.1)\n",
            "Requirement already satisfied: regex>=2021.8.3 in /usr/local/lib/python3.11/dist-packages (from nltk->unstructured) (2024.11.6)\n",
            "Collecting olefile (from python-oxmsg->unstructured)\n",
            "  Downloading olefile-0.47-py2.py3-none-any.whl.metadata (9.7 kB)\n",
            "Requirement already satisfied: idna<4,>=2.5 in /usr/local/lib/python3.11/dist-packages (from requests->unstructured) (3.10)\n",
            "Requirement already satisfied: urllib3<3,>=1.21.1 in /usr/local/lib/python3.11/dist-packages (from requests->unstructured) (2.5.0)\n",
            "Requirement already satisfied: certifi>=2017.4.17 in /usr/local/lib/python3.11/dist-packages (from requests->unstructured) (2025.8.3)\n",
            "Requirement already satisfied: aiofiles>=24.1.0 in /usr/local/lib/python3.11/dist-packages (from unstructured-client->unstructured) (24.1.0)\n",
            "Requirement already satisfied: cryptography>=3.1 in /usr/local/lib/python3.11/dist-packages (from unstructured-client->unstructured) (43.0.3)\n",
            "Requirement already satisfied: httpcore>=1.0.9 in /usr/local/lib/python3.11/dist-packages (from unstructured-client->unstructured) (1.0.9)\n",
            "Requirement already satisfied: httpx>=0.27.0 in /usr/local/lib/python3.11/dist-packages (from unstructured-client->unstructured) (0.28.1)\n",
            "Requirement already satisfied: pydantic>=2.11.2 in /usr/local/lib/python3.11/dist-packages (from unstructured-client->unstructured) (2.11.7)\n",
            "Collecting pypdf>=4.0 (from unstructured-client->unstructured)\n",
            "  Downloading pypdf-6.0.0-py3-none-any.whl.metadata (7.1 kB)\n",
            "Requirement already satisfied: requests-toolbelt>=1.0.0 in /usr/local/lib/python3.11/dist-packages (from unstructured-client->unstructured) (1.0.0)\n",
            "Requirement already satisfied: cffi>=1.12 in /usr/local/lib/python3.11/dist-packages (from cryptography>=3.1->unstructured-client->unstructured) (1.17.1)\n",
            "Requirement already satisfied: h11>=0.16 in /usr/local/lib/python3.11/dist-packages (from httpcore>=1.0.9->unstructured-client->unstructured) (0.16.0)\n",
            "Requirement already satisfied: anyio in /usr/local/lib/python3.11/dist-packages (from httpx>=0.27.0->unstructured-client->unstructured) (4.10.0)\n",
            "Requirement already satisfied: packaging>=17.0 in /usr/local/lib/python3.11/dist-packages (from marshmallow<4.0.0,>=3.18.0->dataclasses-json->unstructured) (25.0)\n",
            "Requirement already satisfied: annotated-types>=0.6.0 in /usr/local/lib/python3.11/dist-packages (from pydantic>=2.11.2->unstructured-client->unstructured) (0.7.0)\n",
            "Requirement already satisfied: pydantic-core==2.33.2 in /usr/local/lib/python3.11/dist-packages (from pydantic>=2.11.2->unstructured-client->unstructured) (2.33.2)\n",
            "Requirement already satisfied: typing-inspection>=0.4.0 in /usr/local/lib/python3.11/dist-packages (from pydantic>=2.11.2->unstructured-client->unstructured) (0.4.1)\n",
            "Requirement already satisfied: mypy-extensions>=0.3.0 in /usr/local/lib/python3.11/dist-packages (from typing-inspect<1,>=0.4.0->dataclasses-json->unstructured) (1.1.0)\n",
            "Requirement already satisfied: pycparser in /usr/local/lib/python3.11/dist-packages (from cffi>=1.12->cryptography>=3.1->unstructured-client->unstructured) (2.22)\n",
            "Requirement already satisfied: sniffio>=1.1 in /usr/local/lib/python3.11/dist-packages (from anyio->httpx>=0.27.0->unstructured-client->unstructured) (1.3.1)\n",
            "Downloading unstructured-0.18.13-py3-none-any.whl (1.8 MB)\n",
            "\u001b[2K   \u001b[90m━━━━━━━━━━━━━━━━━━━━━━━━━━━━━━━━━━━━━━━━\u001b[0m \u001b[32m1.8/1.8 MB\u001b[0m \u001b[31m48.2 MB/s\u001b[0m eta \u001b[36m0:00:00\u001b[0m\n",
            "\u001b[?25hDownloading backoff-2.2.1-py3-none-any.whl (15 kB)\n",
            "Downloading emoji-2.14.1-py3-none-any.whl (590 kB)\n",
            "\u001b[2K   \u001b[90m━━━━━━━━━━━━━━━━━━━━━━━━━━━━━━━━━━━━━━━━\u001b[0m \u001b[32m590.6/590.6 kB\u001b[0m \u001b[31m33.0 MB/s\u001b[0m eta \u001b[36m0:00:00\u001b[0m\n",
            "\u001b[?25hDownloading python_iso639-2025.2.18-py3-none-any.whl (167 kB)\n",
            "\u001b[2K   \u001b[90m━━━━━━━━━━━━━━━━━━━━━━━━━━━━━━━━━━━━━━━━\u001b[0m \u001b[32m167.6/167.6 kB\u001b[0m \u001b[31m9.6 MB/s\u001b[0m eta \u001b[36m0:00:00\u001b[0m\n",
            "\u001b[?25hDownloading python_magic-0.4.27-py2.py3-none-any.whl (13 kB)\n",
            "Downloading python_oxmsg-0.0.2-py3-none-any.whl (31 kB)\n",
            "Downloading rapidfuzz-3.13.0-cp311-cp311-manylinux_2_17_x86_64.manylinux2014_x86_64.whl (3.1 MB)\n",
            "\u001b[2K   \u001b[90m━━━━━━━━━━━━━━━━━━━━━━━━━━━━━━━━━━━━━━━━\u001b[0m \u001b[32m3.1/3.1 MB\u001b[0m \u001b[31m44.7 MB/s\u001b[0m eta \u001b[36m0:00:00\u001b[0m\n",
            "\u001b[?25hDownloading unstructured_client-0.42.3-py3-none-any.whl (207 kB)\n",
            "\u001b[2K   \u001b[90m━━━━━━━━━━━━━━━━━━━━━━━━━━━━━━━━━━━━━━━━\u001b[0m \u001b[32m207.8/207.8 kB\u001b[0m \u001b[31m12.3 MB/s\u001b[0m eta \u001b[36m0:00:00\u001b[0m\n",
            "\u001b[?25hDownloading pypdf-6.0.0-py3-none-any.whl (310 kB)\n",
            "\u001b[2K   \u001b[90m━━━━━━━━━━━━━━━━━━━━━━━━━━━━━━━━━━━━━━━━\u001b[0m \u001b[32m310.5/310.5 kB\u001b[0m \u001b[31m15.7 MB/s\u001b[0m eta \u001b[36m0:00:00\u001b[0m\n",
            "\u001b[?25hDownloading olefile-0.47-py2.py3-none-any.whl (114 kB)\n",
            "\u001b[2K   \u001b[90m━━━━━━━━━━━━━━━━━━━━━━━━━━━━━━━━━━━━━━━━\u001b[0m \u001b[32m114.6/114.6 kB\u001b[0m \u001b[31m6.4 MB/s\u001b[0m eta \u001b[36m0:00:00\u001b[0m\n",
            "\u001b[?25hBuilding wheels for collected packages: langdetect\n",
            "  Building wheel for langdetect (setup.py) ... \u001b[?25l\u001b[?25hdone\n",
            "  Created wheel for langdetect: filename=langdetect-1.0.9-py3-none-any.whl size=993223 sha256=fe46a545f53d84faee9932829842c8bd4a157acefecb9094332ce356a6f0bac8\n",
            "  Stored in directory: /root/.cache/pip/wheels/0a/f2/b2/e5ca405801e05eb7c8ed5b3b4bcf1fcabcd6272c167640072e\n",
            "Successfully built langdetect\n",
            "Installing collected packages: rapidfuzz, python-magic, python-iso639, pypdf, olefile, langdetect, emoji, backoff, python-oxmsg, unstructured-client, unstructured\n",
            "Successfully installed backoff-2.2.1 emoji-2.14.1 langdetect-1.0.9 olefile-0.47 pypdf-6.0.0 python-iso639-2025.2.18 python-magic-0.4.27 python-oxmsg-0.0.2 rapidfuzz-3.13.0 unstructured-0.18.13 unstructured-client-0.42.3\n"
          ]
        }
      ]
    },
    {
      "cell_type": "code",
      "source": [
        "from langchain.document_loaders import UnstructuredURLLoader"
      ],
      "metadata": {
        "id": "tY9ubqwZUPMt"
      },
      "execution_count": 41,
      "outputs": []
    },
    {
      "cell_type": "code",
      "source": [
        "loader = UnstructuredURLLoader(urls=[\n",
        "    \"https://punjabandsindbank.co.in/content/history1\",\n",
        "    \"https://en.wikipedia.org/wiki/State_Bank_of_India\"\n",
        "])"
      ],
      "metadata": {
        "id": "pCMNcUEEUcf8"
      },
      "execution_count": 49,
      "outputs": []
    },
    {
      "cell_type": "code",
      "source": [
        "data = loader.load()"
      ],
      "metadata": {
        "id": "USzLUNvaVKbC"
      },
      "execution_count": 50,
      "outputs": []
    },
    {
      "cell_type": "code",
      "source": [
        "len(data)"
      ],
      "metadata": {
        "colab": {
          "base_uri": "https://localhost:8080/"
        },
        "id": "8u02i0z1V_4t",
        "outputId": "75cbd404-45ea-4e5f-9f7b-fa9a0c561919"
      },
      "execution_count": 51,
      "outputs": [
        {
          "output_type": "execute_result",
          "data": {
            "text/plain": [
              "2"
            ]
          },
          "metadata": {},
          "execution_count": 51
        }
      ]
    },
    {
      "cell_type": "code",
      "source": [
        "len(data[1].page_content.split(\"\\n\"))"
      ],
      "metadata": {
        "colab": {
          "base_uri": "https://localhost:8080/"
        },
        "id": "LMJa_ldDWCbk",
        "outputId": "3fa34aba-1128-40cb-bb51-fb654bae3065"
      },
      "execution_count": 59,
      "outputs": [
        {
          "output_type": "execute_result",
          "data": {
            "text/plain": [
              "537"
            ]
          },
          "metadata": {},
          "execution_count": 59
        }
      ]
    },
    {
      "cell_type": "code",
      "source": [
        "from langchain.text_splitter import CharacterTextSplitter\n",
        "\n",
        "splitter = CharacterTextSplitter(\n",
        "    separator = \"\\n\",\n",
        "    chunk_size = 10,\n",
        "    chunk_overlap = 0\n",
        ")\n",
        "\n",
        "text_data = \"\"\"It was in the year 1908, when a humble idea to uplift the poorest\n",
        "of poor of the land culminated in the birth of Punjab & Sind Bank with the\n",
        " far-sighted vision of luminaries like Bhai Vir Singh, Sir Sunder Singh\n",
        "  Majitha and Sardar Tarlochan Singh. They enjoyed the highest respect with\n",
        "  the people of Punjab. The bank was founded on the principle of social\n",
        "   commitment to help the weaker section of the society in their economic\n",
        "   endeavours to raise their standard of life. Decades have gone by, even\n",
        "   today Punjab & Sind Bank stands committed to honor the social commitments\n",
        "    of the founding fathers.\"\"\"\n",
        "chunks = splitter.split_text(text=text_data)\n",
        "len(chunks)"
      ],
      "metadata": {
        "colab": {
          "base_uri": "https://localhost:8080/"
        },
        "id": "j3vMaqsiWD91",
        "outputId": "971fdb66-df60-4a4a-e079-2cbde55f63e0"
      },
      "execution_count": 68,
      "outputs": [
        {
          "output_type": "stream",
          "name": "stderr",
          "text": [
            "WARNING:langchain_text_splitters.base:Created a chunk of size 66, which is longer than the specified 10\n",
            "WARNING:langchain_text_splitters.base:Created a chunk of size 74, which is longer than the specified 10\n",
            "WARNING:langchain_text_splitters.base:Created a chunk of size 71, which is longer than the specified 10\n",
            "WARNING:langchain_text_splitters.base:Created a chunk of size 76, which is longer than the specified 10\n",
            "WARNING:langchain_text_splitters.base:Created a chunk of size 71, which is longer than the specified 10\n",
            "WARNING:langchain_text_splitters.base:Created a chunk of size 74, which is longer than the specified 10\n",
            "WARNING:langchain_text_splitters.base:Created a chunk of size 74, which is longer than the specified 10\n",
            "WARNING:langchain_text_splitters.base:Created a chunk of size 76, which is longer than the specified 10\n"
          ]
        },
        {
          "output_type": "execute_result",
          "data": {
            "text/plain": [
              "9"
            ]
          },
          "metadata": {},
          "execution_count": 68
        }
      ]
    },
    {
      "cell_type": "code",
      "source": [
        "chunks"
      ],
      "metadata": {
        "colab": {
          "base_uri": "https://localhost:8080/"
        },
        "id": "v1mYdEaXXkYT",
        "outputId": "009a7529-3ca2-41d9-8645-dcb8bde769ee"
      },
      "execution_count": 69,
      "outputs": [
        {
          "output_type": "execute_result",
          "data": {
            "text/plain": [
              "['It was in the year 1908, when a humble idea to uplift the poorest',\n",
              " 'of poor of the land culminated in the birth of Punjab & Sind Bank with the',\n",
              " 'far-sighted vision of luminaries like Bhai Vir Singh, Sir Sunder Singh',\n",
              " 'Majitha and Sardar Tarlochan Singh. They enjoyed the highest respect with',\n",
              " 'the people of Punjab. The bank was founded on the principle of social',\n",
              " 'commitment to help the weaker section of the society in their economic',\n",
              " 'endeavours to raise their standard of life. Decades have gone by, even',\n",
              " 'today Punjab & Sind Bank stands committed to honor the social commitments',\n",
              " 'of the founding fathers.']"
            ]
          },
          "metadata": {},
          "execution_count": 69
        }
      ]
    },
    {
      "cell_type": "code",
      "source": [
        "for chunk in chunks:\n",
        "  print(len(chunk))"
      ],
      "metadata": {
        "colab": {
          "base_uri": "https://localhost:8080/"
        },
        "id": "QGHCaMLtX-WY",
        "outputId": "ce70cf4a-3ff1-4112-fd66-d99eb45bed85"
      },
      "execution_count": 70,
      "outputs": [
        {
          "output_type": "stream",
          "name": "stdout",
          "text": [
            "65\n",
            "74\n",
            "70\n",
            "73\n",
            "69\n",
            "70\n",
            "70\n",
            "73\n",
            "24\n"
          ]
        }
      ]
    },
    {
      "cell_type": "code",
      "source": [
        "chunks[0]"
      ],
      "metadata": {
        "colab": {
          "base_uri": "https://localhost:8080/",
          "height": 36
        },
        "id": "GKNsEBNCYJrD",
        "outputId": "809b2565-7026-4a82-a8a4-12c025afe4d0"
      },
      "execution_count": 73,
      "outputs": [
        {
          "output_type": "execute_result",
          "data": {
            "text/plain": [
              "'It was in the year 1908, when a humble idea to uplift the poorest'"
            ],
            "application/vnd.google.colaboratory.intrinsic+json": {
              "type": "string"
            }
          },
          "metadata": {},
          "execution_count": 73
        }
      ]
    },
    {
      "cell_type": "code",
      "source": [
        "from langchain.text_splitter import RecursiveCharacterTextSplitter\n",
        "r_splitter = RecursiveCharacterTextSplitter(\n",
        "    separators = [\".\", \",\", \"\\n\"],\n",
        "    chunk_size = 60,\n",
        "    chunk_overlap = 0\n",
        ")\n",
        "chunks = r_splitter.split_text(text_data)"
      ],
      "metadata": {
        "id": "vS-PFZX7YPhT"
      },
      "execution_count": 76,
      "outputs": []
    },
    {
      "cell_type": "code",
      "source": [
        "chunks"
      ],
      "metadata": {
        "colab": {
          "base_uri": "https://localhost:8080/"
        },
        "id": "9svIPKtlZM_t",
        "outputId": "986cdcf2-9852-4674-9ebc-9974510f666b"
      },
      "execution_count": 77,
      "outputs": [
        {
          "output_type": "execute_result",
          "data": {
            "text/plain": [
              "['It was in the year 1908',\n",
              " ', when a humble idea to uplift the poorest',\n",
              " '\\nof poor of the land culminated in the birth of Punjab & Sind Bank with the',\n",
              " 'far-sighted vision of luminaries like Bhai Vir Singh',\n",
              " ', Sir Sunder Singh\\n  Majitha and Sardar Tarlochan Singh',\n",
              " '. They enjoyed the highest respect with',\n",
              " 'the people of Punjab',\n",
              " '. The bank was founded on the principle of social',\n",
              " '\\n   commitment to help the weaker section of the society in their economic ',\n",
              " 'endeavours to raise their standard of life',\n",
              " '. Decades have gone by',\n",
              " ', even',\n",
              " '\\n   today Punjab & Sind Bank stands committed to honor the social commitments',\n",
              " 'of the founding fathers',\n",
              " '.']"
            ]
          },
          "metadata": {},
          "execution_count": 77
        }
      ]
    },
    {
      "cell_type": "code",
      "source": [
        "len(chunks)"
      ],
      "metadata": {
        "colab": {
          "base_uri": "https://localhost:8080/"
        },
        "id": "RQY4FFgGZOIl",
        "outputId": "5c58a1d0-b2c9-485f-df14-c248fef16d51"
      },
      "execution_count": 78,
      "outputs": [
        {
          "output_type": "execute_result",
          "data": {
            "text/plain": [
              "15"
            ]
          },
          "metadata": {},
          "execution_count": 78
        }
      ]
    },
    {
      "cell_type": "code",
      "source": [
        "for chunk in chunks:\n",
        "  print(len(chunk))"
      ],
      "metadata": {
        "colab": {
          "base_uri": "https://localhost:8080/"
        },
        "id": "sX-49MWIZl-v",
        "outputId": "b0c25d5c-24be-4f6b-c381-df120b3e1e17"
      },
      "execution_count": 79,
      "outputs": [
        {
          "output_type": "stream",
          "name": "stdout",
          "text": [
            "23\n",
            "42\n",
            "75\n",
            "52\n",
            "55\n",
            "39\n",
            "20\n",
            "49\n",
            "75\n",
            "42\n",
            "22\n",
            "6\n",
            "77\n",
            "23\n",
            "1\n"
          ]
        }
      ]
    },
    {
      "cell_type": "code",
      "source": [
        "(chunks[-3])"
      ],
      "metadata": {
        "colab": {
          "base_uri": "https://localhost:8080/",
          "height": 36
        },
        "id": "hUrOl2StZoOe",
        "outputId": "4793f518-ed5c-4a1f-954f-9911f60ab0b9"
      },
      "execution_count": 81,
      "outputs": [
        {
          "output_type": "execute_result",
          "data": {
            "text/plain": [
              "'\\n   today Punjab & Sind Bank stands committed to honor the social commitments'"
            ],
            "application/vnd.google.colaboratory.intrinsic+json": {
              "type": "string"
            }
          },
          "metadata": {},
          "execution_count": 81
        }
      ]
    },
    {
      "cell_type": "code",
      "source": [
        "import pandas as pd\n",
        "pd.set_option('display.max_colwidth', 100)"
      ],
      "metadata": {
        "id": "QIBxjFiAaqra"
      },
      "execution_count": 84,
      "outputs": []
    },
    {
      "cell_type": "code",
      "source": [
        "df = pd.read_csv(\"/content/faisstesting.csv\")\n",
        "df.shape"
      ],
      "metadata": {
        "colab": {
          "base_uri": "https://localhost:8080/"
        },
        "id": "NqGY9Hg5axdQ",
        "outputId": "2bbb7394-b3b7-447c-b5bc-3ea9c098349a"
      },
      "execution_count": 85,
      "outputs": [
        {
          "output_type": "execute_result",
          "data": {
            "text/plain": [
              "(8, 2)"
            ]
          },
          "metadata": {},
          "execution_count": 85
        }
      ]
    },
    {
      "cell_type": "code",
      "source": [
        "df"
      ],
      "metadata": {
        "colab": {
          "base_uri": "https://localhost:8080/",
          "height": 317
        },
        "id": "aYPTmx82cLEH",
        "outputId": "9ab6dc47-4ea1-4507-e734-9933c29cda41"
      },
      "execution_count": 86,
      "outputs": [
        {
          "output_type": "execute_result",
          "data": {
            "text/plain": [
              "                                                                                  text  \\\n",
              "0                                        Meditation and yoga can improve mental health   \n",
              "1                     Fruits, whole grains and vegetables helps control blood pressure   \n",
              "2                                    These are the latest fashion trends for this week   \n",
              "3                                    Vibrant color jeans for male are becoming a trend   \n",
              "4                                                   The concert starts at 7 PM tonight   \n",
              "5                      Navaratri dandiya program at Expo center in Mumbai this october   \n",
              "6                                    Exciting vacation destinations for your next trip   \n",
              "7  Maldives and Srilanka are gaining popularity in terms of low budget vacation places   \n",
              "\n",
              "  category  \n",
              "0   Health  \n",
              "1   Health  \n",
              "2  Fashion  \n",
              "3  Fashion  \n",
              "4    Event  \n",
              "5    Event  \n",
              "6   Travel  \n",
              "7   Travel  "
            ],
            "text/html": [
              "\n",
              "  <div id=\"df-ef482d9e-e65c-4350-bda3-21a8795b5f79\" class=\"colab-df-container\">\n",
              "    <div>\n",
              "<style scoped>\n",
              "    .dataframe tbody tr th:only-of-type {\n",
              "        vertical-align: middle;\n",
              "    }\n",
              "\n",
              "    .dataframe tbody tr th {\n",
              "        vertical-align: top;\n",
              "    }\n",
              "\n",
              "    .dataframe thead th {\n",
              "        text-align: right;\n",
              "    }\n",
              "</style>\n",
              "<table border=\"1\" class=\"dataframe\">\n",
              "  <thead>\n",
              "    <tr style=\"text-align: right;\">\n",
              "      <th></th>\n",
              "      <th>text</th>\n",
              "      <th>category</th>\n",
              "    </tr>\n",
              "  </thead>\n",
              "  <tbody>\n",
              "    <tr>\n",
              "      <th>0</th>\n",
              "      <td>Meditation and yoga can improve mental health</td>\n",
              "      <td>Health</td>\n",
              "    </tr>\n",
              "    <tr>\n",
              "      <th>1</th>\n",
              "      <td>Fruits, whole grains and vegetables helps control blood pressure</td>\n",
              "      <td>Health</td>\n",
              "    </tr>\n",
              "    <tr>\n",
              "      <th>2</th>\n",
              "      <td>These are the latest fashion trends for this week</td>\n",
              "      <td>Fashion</td>\n",
              "    </tr>\n",
              "    <tr>\n",
              "      <th>3</th>\n",
              "      <td>Vibrant color jeans for male are becoming a trend</td>\n",
              "      <td>Fashion</td>\n",
              "    </tr>\n",
              "    <tr>\n",
              "      <th>4</th>\n",
              "      <td>The concert starts at 7 PM tonight</td>\n",
              "      <td>Event</td>\n",
              "    </tr>\n",
              "    <tr>\n",
              "      <th>5</th>\n",
              "      <td>Navaratri dandiya program at Expo center in Mumbai this october</td>\n",
              "      <td>Event</td>\n",
              "    </tr>\n",
              "    <tr>\n",
              "      <th>6</th>\n",
              "      <td>Exciting vacation destinations for your next trip</td>\n",
              "      <td>Travel</td>\n",
              "    </tr>\n",
              "    <tr>\n",
              "      <th>7</th>\n",
              "      <td>Maldives and Srilanka are gaining popularity in terms of low budget vacation places</td>\n",
              "      <td>Travel</td>\n",
              "    </tr>\n",
              "  </tbody>\n",
              "</table>\n",
              "</div>\n",
              "    <div class=\"colab-df-buttons\">\n",
              "\n",
              "  <div class=\"colab-df-container\">\n",
              "    <button class=\"colab-df-convert\" onclick=\"convertToInteractive('df-ef482d9e-e65c-4350-bda3-21a8795b5f79')\"\n",
              "            title=\"Convert this dataframe to an interactive table.\"\n",
              "            style=\"display:none;\">\n",
              "\n",
              "  <svg xmlns=\"http://www.w3.org/2000/svg\" height=\"24px\" viewBox=\"0 -960 960 960\">\n",
              "    <path d=\"M120-120v-720h720v720H120Zm60-500h600v-160H180v160Zm220 220h160v-160H400v160Zm0 220h160v-160H400v160ZM180-400h160v-160H180v160Zm440 0h160v-160H620v160ZM180-180h160v-160H180v160Zm440 0h160v-160H620v160Z\"/>\n",
              "  </svg>\n",
              "    </button>\n",
              "\n",
              "  <style>\n",
              "    .colab-df-container {\n",
              "      display:flex;\n",
              "      gap: 12px;\n",
              "    }\n",
              "\n",
              "    .colab-df-convert {\n",
              "      background-color: #E8F0FE;\n",
              "      border: none;\n",
              "      border-radius: 50%;\n",
              "      cursor: pointer;\n",
              "      display: none;\n",
              "      fill: #1967D2;\n",
              "      height: 32px;\n",
              "      padding: 0 0 0 0;\n",
              "      width: 32px;\n",
              "    }\n",
              "\n",
              "    .colab-df-convert:hover {\n",
              "      background-color: #E2EBFA;\n",
              "      box-shadow: 0px 1px 2px rgba(60, 64, 67, 0.3), 0px 1px 3px 1px rgba(60, 64, 67, 0.15);\n",
              "      fill: #174EA6;\n",
              "    }\n",
              "\n",
              "    .colab-df-buttons div {\n",
              "      margin-bottom: 4px;\n",
              "    }\n",
              "\n",
              "    [theme=dark] .colab-df-convert {\n",
              "      background-color: #3B4455;\n",
              "      fill: #D2E3FC;\n",
              "    }\n",
              "\n",
              "    [theme=dark] .colab-df-convert:hover {\n",
              "      background-color: #434B5C;\n",
              "      box-shadow: 0px 1px 3px 1px rgba(0, 0, 0, 0.15);\n",
              "      filter: drop-shadow(0px 1px 2px rgba(0, 0, 0, 0.3));\n",
              "      fill: #FFFFFF;\n",
              "    }\n",
              "  </style>\n",
              "\n",
              "    <script>\n",
              "      const buttonEl =\n",
              "        document.querySelector('#df-ef482d9e-e65c-4350-bda3-21a8795b5f79 button.colab-df-convert');\n",
              "      buttonEl.style.display =\n",
              "        google.colab.kernel.accessAllowed ? 'block' : 'none';\n",
              "\n",
              "      async function convertToInteractive(key) {\n",
              "        const element = document.querySelector('#df-ef482d9e-e65c-4350-bda3-21a8795b5f79');\n",
              "        const dataTable =\n",
              "          await google.colab.kernel.invokeFunction('convertToInteractive',\n",
              "                                                    [key], {});\n",
              "        if (!dataTable) return;\n",
              "\n",
              "        const docLinkHtml = 'Like what you see? Visit the ' +\n",
              "          '<a target=\"_blank\" href=https://colab.research.google.com/notebooks/data_table.ipynb>data table notebook</a>'\n",
              "          + ' to learn more about interactive tables.';\n",
              "        element.innerHTML = '';\n",
              "        dataTable['output_type'] = 'display_data';\n",
              "        await google.colab.output.renderOutput(dataTable, element);\n",
              "        const docLink = document.createElement('div');\n",
              "        docLink.innerHTML = docLinkHtml;\n",
              "        element.appendChild(docLink);\n",
              "      }\n",
              "    </script>\n",
              "  </div>\n",
              "\n",
              "\n",
              "    <div id=\"df-2584fe94-21ff-4c6f-8219-894089a2af62\">\n",
              "      <button class=\"colab-df-quickchart\" onclick=\"quickchart('df-2584fe94-21ff-4c6f-8219-894089a2af62')\"\n",
              "                title=\"Suggest charts\"\n",
              "                style=\"display:none;\">\n",
              "\n",
              "<svg xmlns=\"http://www.w3.org/2000/svg\" height=\"24px\"viewBox=\"0 0 24 24\"\n",
              "     width=\"24px\">\n",
              "    <g>\n",
              "        <path d=\"M19 3H5c-1.1 0-2 .9-2 2v14c0 1.1.9 2 2 2h14c1.1 0 2-.9 2-2V5c0-1.1-.9-2-2-2zM9 17H7v-7h2v7zm4 0h-2V7h2v10zm4 0h-2v-4h2v4z\"/>\n",
              "    </g>\n",
              "</svg>\n",
              "      </button>\n",
              "\n",
              "<style>\n",
              "  .colab-df-quickchart {\n",
              "      --bg-color: #E8F0FE;\n",
              "      --fill-color: #1967D2;\n",
              "      --hover-bg-color: #E2EBFA;\n",
              "      --hover-fill-color: #174EA6;\n",
              "      --disabled-fill-color: #AAA;\n",
              "      --disabled-bg-color: #DDD;\n",
              "  }\n",
              "\n",
              "  [theme=dark] .colab-df-quickchart {\n",
              "      --bg-color: #3B4455;\n",
              "      --fill-color: #D2E3FC;\n",
              "      --hover-bg-color: #434B5C;\n",
              "      --hover-fill-color: #FFFFFF;\n",
              "      --disabled-bg-color: #3B4455;\n",
              "      --disabled-fill-color: #666;\n",
              "  }\n",
              "\n",
              "  .colab-df-quickchart {\n",
              "    background-color: var(--bg-color);\n",
              "    border: none;\n",
              "    border-radius: 50%;\n",
              "    cursor: pointer;\n",
              "    display: none;\n",
              "    fill: var(--fill-color);\n",
              "    height: 32px;\n",
              "    padding: 0;\n",
              "    width: 32px;\n",
              "  }\n",
              "\n",
              "  .colab-df-quickchart:hover {\n",
              "    background-color: var(--hover-bg-color);\n",
              "    box-shadow: 0 1px 2px rgba(60, 64, 67, 0.3), 0 1px 3px 1px rgba(60, 64, 67, 0.15);\n",
              "    fill: var(--button-hover-fill-color);\n",
              "  }\n",
              "\n",
              "  .colab-df-quickchart-complete:disabled,\n",
              "  .colab-df-quickchart-complete:disabled:hover {\n",
              "    background-color: var(--disabled-bg-color);\n",
              "    fill: var(--disabled-fill-color);\n",
              "    box-shadow: none;\n",
              "  }\n",
              "\n",
              "  .colab-df-spinner {\n",
              "    border: 2px solid var(--fill-color);\n",
              "    border-color: transparent;\n",
              "    border-bottom-color: var(--fill-color);\n",
              "    animation:\n",
              "      spin 1s steps(1) infinite;\n",
              "  }\n",
              "\n",
              "  @keyframes spin {\n",
              "    0% {\n",
              "      border-color: transparent;\n",
              "      border-bottom-color: var(--fill-color);\n",
              "      border-left-color: var(--fill-color);\n",
              "    }\n",
              "    20% {\n",
              "      border-color: transparent;\n",
              "      border-left-color: var(--fill-color);\n",
              "      border-top-color: var(--fill-color);\n",
              "    }\n",
              "    30% {\n",
              "      border-color: transparent;\n",
              "      border-left-color: var(--fill-color);\n",
              "      border-top-color: var(--fill-color);\n",
              "      border-right-color: var(--fill-color);\n",
              "    }\n",
              "    40% {\n",
              "      border-color: transparent;\n",
              "      border-right-color: var(--fill-color);\n",
              "      border-top-color: var(--fill-color);\n",
              "    }\n",
              "    60% {\n",
              "      border-color: transparent;\n",
              "      border-right-color: var(--fill-color);\n",
              "    }\n",
              "    80% {\n",
              "      border-color: transparent;\n",
              "      border-right-color: var(--fill-color);\n",
              "      border-bottom-color: var(--fill-color);\n",
              "    }\n",
              "    90% {\n",
              "      border-color: transparent;\n",
              "      border-bottom-color: var(--fill-color);\n",
              "    }\n",
              "  }\n",
              "</style>\n",
              "\n",
              "      <script>\n",
              "        async function quickchart(key) {\n",
              "          const quickchartButtonEl =\n",
              "            document.querySelector('#' + key + ' button');\n",
              "          quickchartButtonEl.disabled = true;  // To prevent multiple clicks.\n",
              "          quickchartButtonEl.classList.add('colab-df-spinner');\n",
              "          try {\n",
              "            const charts = await google.colab.kernel.invokeFunction(\n",
              "                'suggestCharts', [key], {});\n",
              "          } catch (error) {\n",
              "            console.error('Error during call to suggestCharts:', error);\n",
              "          }\n",
              "          quickchartButtonEl.classList.remove('colab-df-spinner');\n",
              "          quickchartButtonEl.classList.add('colab-df-quickchart-complete');\n",
              "        }\n",
              "        (() => {\n",
              "          let quickchartButtonEl =\n",
              "            document.querySelector('#df-2584fe94-21ff-4c6f-8219-894089a2af62 button');\n",
              "          quickchartButtonEl.style.display =\n",
              "            google.colab.kernel.accessAllowed ? 'block' : 'none';\n",
              "        })();\n",
              "      </script>\n",
              "    </div>\n",
              "\n",
              "  <div id=\"id_be82322f-00e5-49cc-8090-484ed5f28ef3\">\n",
              "    <style>\n",
              "      .colab-df-generate {\n",
              "        background-color: #E8F0FE;\n",
              "        border: none;\n",
              "        border-radius: 50%;\n",
              "        cursor: pointer;\n",
              "        display: none;\n",
              "        fill: #1967D2;\n",
              "        height: 32px;\n",
              "        padding: 0 0 0 0;\n",
              "        width: 32px;\n",
              "      }\n",
              "\n",
              "      .colab-df-generate:hover {\n",
              "        background-color: #E2EBFA;\n",
              "        box-shadow: 0px 1px 2px rgba(60, 64, 67, 0.3), 0px 1px 3px 1px rgba(60, 64, 67, 0.15);\n",
              "        fill: #174EA6;\n",
              "      }\n",
              "\n",
              "      [theme=dark] .colab-df-generate {\n",
              "        background-color: #3B4455;\n",
              "        fill: #D2E3FC;\n",
              "      }\n",
              "\n",
              "      [theme=dark] .colab-df-generate:hover {\n",
              "        background-color: #434B5C;\n",
              "        box-shadow: 0px 1px 3px 1px rgba(0, 0, 0, 0.15);\n",
              "        filter: drop-shadow(0px 1px 2px rgba(0, 0, 0, 0.3));\n",
              "        fill: #FFFFFF;\n",
              "      }\n",
              "    </style>\n",
              "    <button class=\"colab-df-generate\" onclick=\"generateWithVariable('df')\"\n",
              "            title=\"Generate code using this dataframe.\"\n",
              "            style=\"display:none;\">\n",
              "\n",
              "  <svg xmlns=\"http://www.w3.org/2000/svg\" height=\"24px\"viewBox=\"0 0 24 24\"\n",
              "       width=\"24px\">\n",
              "    <path d=\"M7,19H8.4L18.45,9,17,7.55,7,17.6ZM5,21V16.75L18.45,3.32a2,2,0,0,1,2.83,0l1.4,1.43a1.91,1.91,0,0,1,.58,1.4,1.91,1.91,0,0,1-.58,1.4L9.25,21ZM18.45,9,17,7.55Zm-12,3A5.31,5.31,0,0,0,4.9,8.1,5.31,5.31,0,0,0,1,6.5,5.31,5.31,0,0,0,4.9,4.9,5.31,5.31,0,0,0,6.5,1,5.31,5.31,0,0,0,8.1,4.9,5.31,5.31,0,0,0,12,6.5,5.46,5.46,0,0,0,6.5,12Z\"/>\n",
              "  </svg>\n",
              "    </button>\n",
              "    <script>\n",
              "      (() => {\n",
              "      const buttonEl =\n",
              "        document.querySelector('#id_be82322f-00e5-49cc-8090-484ed5f28ef3 button.colab-df-generate');\n",
              "      buttonEl.style.display =\n",
              "        google.colab.kernel.accessAllowed ? 'block' : 'none';\n",
              "\n",
              "      buttonEl.onclick = () => {\n",
              "        google.colab.notebook.generateWithVariable('df');\n",
              "      }\n",
              "      })();\n",
              "    </script>\n",
              "  </div>\n",
              "\n",
              "    </div>\n",
              "  </div>\n"
            ],
            "application/vnd.google.colaboratory.intrinsic+json": {
              "type": "dataframe",
              "variable_name": "df",
              "summary": "{\n  \"name\": \"df\",\n  \"rows\": 8,\n  \"fields\": [\n    {\n      \"column\": \"text\",\n      \"properties\": {\n        \"dtype\": \"string\",\n        \"num_unique_values\": 8,\n        \"samples\": [\n          \"Fruits, whole grains and vegetables helps control blood pressure\",\n          \"Navaratri dandiya program at Expo center in Mumbai this october\",\n          \"Meditation and yoga can improve mental health\"\n        ],\n        \"semantic_type\": \"\",\n        \"description\": \"\"\n      }\n    },\n    {\n      \"column\": \"category\",\n      \"properties\": {\n        \"dtype\": \"string\",\n        \"num_unique_values\": 4,\n        \"samples\": [\n          \"Fashion\",\n          \"Travel\",\n          \"Health\"\n        ],\n        \"semantic_type\": \"\",\n        \"description\": \"\"\n      }\n    }\n  ]\n}"
            }
          },
          "metadata": {},
          "execution_count": 86
        }
      ]
    },
    {
      "cell_type": "code",
      "source": [
        "from sentence_transformers import SentenceTransformer\n",
        "\n",
        "encoder = SentenceTransformer(\"all-mpnet-base-v2\")\n",
        "vectors = encoder.encode(df.text)\n",
        "print(vectors)"
      ],
      "metadata": {
        "colab": {
          "base_uri": "https://localhost:8080/",
          "height": 595,
          "referenced_widgets": [
            "8918f51bc99e44c4ace8c31c957066ed",
            "c11306b37acd4cb586dd823cefa92c6f",
            "a44de14e3cb94c3dbe94d04feb3e2804",
            "1997e2504a5141a8993a4fbf067154ad",
            "fc674172876e468990a11f8c3ec8962d",
            "753642a05f3e4a979978c03479c8de6b",
            "3f5b9248c2c44bde871a9d073ce3bfbe",
            "45a86b9068d7495f88c0900f74d78b3b",
            "b274bc6f52ca4e4a830516652da54ebf",
            "00f0070755e640cca3789f2e833a9432",
            "48a824bf5ff94ce685dd37d739255396",
            "882e7e3cefe14e8ca60bfdaa7fbd14b0",
            "96249e9aacac4c298dee017a7798b2c3",
            "6cab72ccea8d4c20af4780011310f5af",
            "cf5288c978d946a6842036cda87fdbaf",
            "3841eea612b2417b907ed288a1d2751d",
            "0ecee715a4444f9ab02e63b1c35dc7a7",
            "f0b5e425fcab4757b843399da2b5a19a",
            "bbe6571f067c4a589f30aec7dd4fdcef",
            "16ba809c1fb54e0483f1c9d5c8d4e095",
            "80a37c79feb540ba8b6ba6b56dc181c4",
            "52cc2b76ce6849c79a93e54fbd876ddc",
            "efcae55468694f65b8adbefe85158cbc",
            "e1171918097a48b3ac368fc3a302fb0e",
            "e4514615a8f7417fbc87fda602bd440e",
            "22c8285d495141059c8b9932d2031fe8",
            "08369e7abe1e40e8b40a60e344f85672",
            "e9620a9550404c50807d73517a9fdec7",
            "92b0cb6e09ec44d292d50bd249bd9196",
            "6890f1dc0ed24960b3cbe2bb2da33c01",
            "203e6aacb7434e0ebe39a84a1ee68538",
            "e4dc337da0314dd19bef90579c93006c",
            "bd8a8e53e72c4ab28007162ef54db9bc",
            "c4e7f8a988b04b85b18997e434cc102c",
            "d435428db23844119168e65b5137d502",
            "109bbee66b23499590aa18b0687216e5",
            "332067f0605047899b19fb65a210bf54",
            "68d3258e4d044804b2fbcc711daf80bc",
            "8cd8a158712d46a8979edc43898ccc27",
            "2cae68118c384a70aef643bff1a59d0a",
            "3804441b251d4aada737c90d52864230",
            "e982813ca0b247ebb8636d5d4161c2ae",
            "2d6986974436456280f1c6c3d6e3e74a",
            "7fcc05f9edb14364abc91e9b08bf15a2",
            "60eb6145e775422bb4d71abf8fe3c9af",
            "c5167c13c3854599927d98e4e9c16db2",
            "c4c01454d4ca4ea89f10fdd6c9f9f3cc",
            "db1f1be3b2464c5f88e6d38aa5a750d3",
            "a7b51a3450aa428780e8d7c047ff2506",
            "7a3608e0abed4f93bf7c8d10135b836a",
            "032219023b7446a38271ab35d87b3523",
            "0822d4172fcd4d2085ef078be8b9e799",
            "c670127b9a5b4cfb86065970791a8557",
            "b4f91433b13b41e6bb9614b246387d6c",
            "401c977f629f436c86ff5c63e31d79d7",
            "c1f71217bcf148b795e4a40c0c6948ac",
            "c81db63dcf444b32aa0c71d3a942e747",
            "f478cac30e184436bee274b5eb93ee80",
            "034346ec864c46cc9e7a44888be4abd0",
            "663c691414834fb6ae99dc8f1f5ba537",
            "e9183ea5d53e497ebe7b5cccf5c9e401",
            "85820bca14c14ba885ce457ae4d6ebd6",
            "ae73ef38437442df884328f1a8c3538d",
            "0c6114b1662a40bb920b3ced8f5a3cc3",
            "44095434c173407e8bbe1806fa4f5d01",
            "9979d36973b94e51bea280b7e2924eea",
            "88994f186d9b42c49cc95dc66b7dfbb2",
            "ca61ebf52a4e4da38074e500891ebea7",
            "e9467aa8e8904ca7ab51bead81b016ac",
            "17c0b125858345e99af493a4267511d0",
            "42e462f3088640c8974153dd5464c13d",
            "961975d597274bd89f6cfcc248c20027",
            "f304d32fddcd4c29b9817c8424c0bf3c",
            "d7e44fd67e6046eea1fe83b3429b9f45",
            "2ded6bb7f53b4c8bb19d3b43f5c36c17",
            "8743d01a42e247b4814567ba52f453ce",
            "c44d373e6dc44536bb666e077fbb9128",
            "a6d790b7d75a420d8f26dbf4c87a6599",
            "e5b04548cf654fbc8480a0c003308a77",
            "ffb236dcdff84b45a890ad19be8cc288",
            "4eaca1a529a2472eb3fbf74a3cc1be2f",
            "c8e73fb96b074535a2a8b68a25ea4798",
            "e060e0a6935a4f16a183e22ad2fadc3d",
            "5e72c434d1a64ed2a9cf053d199c3cc5",
            "85ccd3efc82148f18c081f31f4853020",
            "dc725bdcd53446c695943e560cf2d375",
            "0ffd769f82664f2aae25d1189878d3f9",
            "ac71d9b751ab464da3f328eab175c45f",
            "835c9e53306345abafa8b9ace15a7d10",
            "133aaa94fee84e28a291ad3e6717fca8",
            "901726b2e68f40e7865b1d9230711888",
            "679874ead6934afb8bc1568dd7dcd4aa",
            "83bfd32f5ce94c6290b9611d93fa21d4",
            "0ab50e5c85b34055b20f63872367a467",
            "04efac3298d44859b7048b8b600bf658",
            "0eed5e7ac81e4482abaaa5fcab6a719f",
            "5703bc2fa2164479b5b079e91308535b",
            "1336335fde1e4c9591928a2acfc20826",
            "e6bd020bb0264aecbbbaa6e84c39c183",
            "70256adad33a4c1a934cf15d1f269007",
            "1dde655c1fa44411b6a1b65f4eeeb002",
            "314464f97dd742309fe28473d7d7b45b",
            "935486e6133e469b940e8a27429f94d4",
            "0b6bc4caf3c8489cbd9e5f19e98aa69c",
            "9b829171dc794e01a1cf83d28ba0eee6",
            "f706ab814932492ba38c32cb5f49578d",
            "c9bfbc00581b4d03a53f2e62d83eed36",
            "62c29782f57d40d9b711f48850e4ac92",
            "9409a0fbf7a941b7ac1d1321975270e8",
            "c3d4b6f19b0647478a0e1867b041cd8a",
            "c1618ff4f14c4f1683c319877e7dcfcb",
            "c04c46f6b7b44582a40b767be4ceeea6",
            "709f85d7573a4552a1ea7eea6fe04f25",
            "2c14eedaebea4fbc8d7f1b73f221f887",
            "2f0a93096db14e5687570cf316de3ba8",
            "d70a84e9205646d1bf2ab669b5d849ea",
            "a837fbee13ae4dd6bc9f527ce8f97853",
            "4e319bda0c2946b0b86081acd437b605",
            "00351dd795574ea2a9bb1bb2dd7d3263",
            "c489a3dc55c645f6adcb4eaee854cbf7",
            "f8f06b7a731b4fe8a636af579d11292a"
          ]
        },
        "id": "gA7_yx9ncOk-",
        "outputId": "f7a88abf-051f-4ed2-9f68-6984de3ba736"
      },
      "execution_count": 87,
      "outputs": [
        {
          "output_type": "display_data",
          "data": {
            "text/plain": [
              "modules.json:   0%|          | 0.00/349 [00:00<?, ?B/s]"
            ],
            "application/vnd.jupyter.widget-view+json": {
              "version_major": 2,
              "version_minor": 0,
              "model_id": "8918f51bc99e44c4ace8c31c957066ed"
            }
          },
          "metadata": {}
        },
        {
          "output_type": "display_data",
          "data": {
            "text/plain": [
              "config_sentence_transformers.json:   0%|          | 0.00/116 [00:00<?, ?B/s]"
            ],
            "application/vnd.jupyter.widget-view+json": {
              "version_major": 2,
              "version_minor": 0,
              "model_id": "882e7e3cefe14e8ca60bfdaa7fbd14b0"
            }
          },
          "metadata": {}
        },
        {
          "output_type": "display_data",
          "data": {
            "text/plain": [
              "README.md: 0.00B [00:00, ?B/s]"
            ],
            "application/vnd.jupyter.widget-view+json": {
              "version_major": 2,
              "version_minor": 0,
              "model_id": "efcae55468694f65b8adbefe85158cbc"
            }
          },
          "metadata": {}
        },
        {
          "output_type": "display_data",
          "data": {
            "text/plain": [
              "sentence_bert_config.json:   0%|          | 0.00/53.0 [00:00<?, ?B/s]"
            ],
            "application/vnd.jupyter.widget-view+json": {
              "version_major": 2,
              "version_minor": 0,
              "model_id": "c4e7f8a988b04b85b18997e434cc102c"
            }
          },
          "metadata": {}
        },
        {
          "output_type": "display_data",
          "data": {
            "text/plain": [
              "config.json:   0%|          | 0.00/571 [00:00<?, ?B/s]"
            ],
            "application/vnd.jupyter.widget-view+json": {
              "version_major": 2,
              "version_minor": 0,
              "model_id": "60eb6145e775422bb4d71abf8fe3c9af"
            }
          },
          "metadata": {}
        },
        {
          "output_type": "display_data",
          "data": {
            "text/plain": [
              "model.safetensors:   0%|          | 0.00/438M [00:00<?, ?B/s]"
            ],
            "application/vnd.jupyter.widget-view+json": {
              "version_major": 2,
              "version_minor": 0,
              "model_id": "c1f71217bcf148b795e4a40c0c6948ac"
            }
          },
          "metadata": {}
        },
        {
          "output_type": "display_data",
          "data": {
            "text/plain": [
              "tokenizer_config.json:   0%|          | 0.00/363 [00:00<?, ?B/s]"
            ],
            "application/vnd.jupyter.widget-view+json": {
              "version_major": 2,
              "version_minor": 0,
              "model_id": "88994f186d9b42c49cc95dc66b7dfbb2"
            }
          },
          "metadata": {}
        },
        {
          "output_type": "display_data",
          "data": {
            "text/plain": [
              "vocab.txt: 0.00B [00:00, ?B/s]"
            ],
            "application/vnd.jupyter.widget-view+json": {
              "version_major": 2,
              "version_minor": 0,
              "model_id": "a6d790b7d75a420d8f26dbf4c87a6599"
            }
          },
          "metadata": {}
        },
        {
          "output_type": "display_data",
          "data": {
            "text/plain": [
              "tokenizer.json: 0.00B [00:00, ?B/s]"
            ],
            "application/vnd.jupyter.widget-view+json": {
              "version_major": 2,
              "version_minor": 0,
              "model_id": "835c9e53306345abafa8b9ace15a7d10"
            }
          },
          "metadata": {}
        },
        {
          "output_type": "display_data",
          "data": {
            "text/plain": [
              "special_tokens_map.json:   0%|          | 0.00/239 [00:00<?, ?B/s]"
            ],
            "application/vnd.jupyter.widget-view+json": {
              "version_major": 2,
              "version_minor": 0,
              "model_id": "70256adad33a4c1a934cf15d1f269007"
            }
          },
          "metadata": {}
        },
        {
          "output_type": "display_data",
          "data": {
            "text/plain": [
              "config.json:   0%|          | 0.00/190 [00:00<?, ?B/s]"
            ],
            "application/vnd.jupyter.widget-view+json": {
              "version_major": 2,
              "version_minor": 0,
              "model_id": "c1618ff4f14c4f1683c319877e7dcfcb"
            }
          },
          "metadata": {}
        },
        {
          "output_type": "stream",
          "name": "stdout",
          "text": [
            "[[-0.00247395  0.03626722 -0.05290459 ... -0.09152356 -0.03970001\n",
            "  -0.04330489]\n",
            " [-0.03357267  0.00980519 -0.03250129 ... -0.05165466  0.02245887\n",
            "  -0.03156182]\n",
            " [-0.01865322 -0.04051318 -0.01235387 ...  0.00610586 -0.07179645\n",
            "   0.02773851]\n",
            " ...\n",
            " [-0.00066458  0.04252127 -0.05645508 ...  0.0131547  -0.03183567\n",
            "  -0.04357665]\n",
            " [-0.03317153  0.03252455 -0.02484838 ...  0.0117442   0.05747124\n",
            "   0.00571023]\n",
            " [-0.00166395  0.00413828 -0.04597083 ...  0.02008527  0.05656243\n",
            "  -0.00161596]]\n"
          ]
        }
      ]
    },
    {
      "cell_type": "code",
      "source": [
        "dim = vectors.shape[1]"
      ],
      "metadata": {
        "id": "t_J3Vcsqch1q"
      },
      "execution_count": 89,
      "outputs": []
    },
    {
      "cell_type": "code",
      "source": [
        "pip install faiss-cpu"
      ],
      "metadata": {
        "colab": {
          "base_uri": "https://localhost:8080/"
        },
        "id": "7wj7hy1EdA4a",
        "outputId": "b5b77ef9-dd34-4af9-80c6-86137fe2ef04"
      },
      "execution_count": 93,
      "outputs": [
        {
          "output_type": "stream",
          "name": "stdout",
          "text": [
            "Collecting faiss-cpu\n",
            "  Downloading faiss_cpu-1.12.0-cp311-cp311-manylinux_2_27_x86_64.manylinux_2_28_x86_64.whl.metadata (5.1 kB)\n",
            "Requirement already satisfied: numpy<3.0,>=1.25.0 in /usr/local/lib/python3.11/dist-packages (from faiss-cpu) (2.0.2)\n",
            "Requirement already satisfied: packaging in /usr/local/lib/python3.11/dist-packages (from faiss-cpu) (25.0)\n",
            "Downloading faiss_cpu-1.12.0-cp311-cp311-manylinux_2_27_x86_64.manylinux_2_28_x86_64.whl (31.4 MB)\n",
            "\u001b[2K   \u001b[90m━━━━━━━━━━━━━━━━━━━━━━━━━━━━━━━━━━━━━━━━\u001b[0m \u001b[32m31.4/31.4 MB\u001b[0m \u001b[31m25.9 MB/s\u001b[0m eta \u001b[36m0:00:00\u001b[0m\n",
            "\u001b[?25hInstalling collected packages: faiss-cpu\n",
            "Successfully installed faiss-cpu-1.12.0\n"
          ]
        }
      ]
    },
    {
      "cell_type": "code",
      "source": [
        "import faiss\n",
        "index = faiss.IndexFlatL2(dim)\n",
        "index"
      ],
      "metadata": {
        "colab": {
          "base_uri": "https://localhost:8080/"
        },
        "id": "GmAUuQLTcpg0",
        "outputId": "d126a838-03eb-4c17-a0e3-72267fb784bf"
      },
      "execution_count": 95,
      "outputs": [
        {
          "output_type": "execute_result",
          "data": {
            "text/plain": [
              "<faiss.swigfaiss_avx2.IndexFlatL2; proxy of <Swig Object of type 'faiss::IndexFlatL2 *' at 0x796fc46668e0> >"
            ]
          },
          "metadata": {},
          "execution_count": 95
        }
      ]
    },
    {
      "cell_type": "code",
      "source": [
        "index.add(vectors)"
      ],
      "metadata": {
        "id": "a-M0JHgdc56a"
      },
      "execution_count": 96,
      "outputs": []
    },
    {
      "cell_type": "code",
      "source": [
        "import numpy as np\n",
        "\n",
        "search_query = \"I want to travel across the world during my vacations.\"\n",
        "vec = encoder.encode(search_query)\n",
        "vec.shape"
      ],
      "metadata": {
        "colab": {
          "base_uri": "https://localhost:8080/"
        },
        "id": "AgaE6HKndbyN",
        "outputId": "5499ac64-9ac8-4469-f6bb-0ea09ee3596f"
      },
      "execution_count": 97,
      "outputs": [
        {
          "output_type": "execute_result",
          "data": {
            "text/plain": [
              "(768,)"
            ]
          },
          "metadata": {},
          "execution_count": 97
        }
      ]
    },
    {
      "cell_type": "code",
      "source": [
        "vec"
      ],
      "metadata": {
        "colab": {
          "base_uri": "https://localhost:8080/"
        },
        "id": "NbyTZ9VwejAB",
        "outputId": "91d35408-7d28-4a88-8cb3-8d85a51534f4"
      },
      "execution_count": 100,
      "outputs": [
        {
          "output_type": "execute_result",
          "data": {
            "text/plain": [
              "array([ 6.42619049e-03,  2.56091002e-02, -2.67441794e-02, -1.55187240e-02,\n",
              "        2.29730606e-02, -3.57276499e-02,  3.86748239e-02, -1.60939898e-02,\n",
              "        4.65485044e-02,  2.95800697e-02, -3.35306139e-03, -1.85456648e-02,\n",
              "       -1.91449169e-02,  3.55948955e-02,  5.60022555e-02, -4.43300344e-02,\n",
              "        8.90157148e-02, -1.07146017e-01, -3.30322720e-02, -3.54057774e-02,\n",
              "       -5.53002469e-02,  7.00227637e-03, -5.64914718e-02,  2.13691965e-03,\n",
              "        8.75431150e-02, -6.70831883e-03, -1.20849153e-02, -2.02919133e-02,\n",
              "        1.54416384e-02, -6.39096368e-04, -2.18626764e-02, -2.01389473e-02,\n",
              "        6.37899786e-02,  3.69652286e-02,  1.19426750e-06,  4.59158123e-02,\n",
              "       -3.85587439e-02, -3.91295999e-02,  1.75804123e-02, -3.40362289e-03,\n",
              "        1.93388830e-03,  8.17962810e-02,  3.04869562e-02,  8.82490072e-03,\n",
              "       -6.73493929e-03, -1.74416625e-03,  7.29642250e-03, -1.89183187e-02,\n",
              "       -2.33318424e-03,  8.21395963e-02,  2.15106620e-03, -3.39443944e-02,\n",
              "       -7.54645560e-03, -4.09248918e-02, -1.94312111e-02, -4.59250771e-02,\n",
              "        3.41440178e-03,  4.92181256e-03,  6.16642972e-03,  3.98008861e-02,\n",
              "        6.68048300e-03, -2.57088449e-02, -7.32802739e-03,  2.89394017e-02,\n",
              "        2.87200529e-02,  4.97493753e-03, -5.20685054e-02, -6.22011051e-02,\n",
              "       -1.07715083e-02, -3.47384289e-02, -1.31665114e-02, -3.07832733e-02,\n",
              "       -1.95483640e-02,  5.67887165e-02, -3.41822654e-02, -6.75058179e-03,\n",
              "        2.67677549e-02,  2.53297519e-02,  6.42649755e-02,  5.39987013e-02,\n",
              "        1.94090530e-02,  3.45332809e-02, -5.21464925e-03, -1.35054318e-02,\n",
              "       -3.61755639e-02,  4.46116999e-02,  8.55309051e-03,  3.50752845e-02,\n",
              "       -8.57769884e-03, -5.26866578e-02,  1.43952807e-02,  2.36323383e-02,\n",
              "       -8.12644325e-03, -2.74953432e-02, -2.83938609e-02, -2.41391789e-02,\n",
              "        4.33459366e-03,  2.43456177e-02, -3.75799160e-03,  3.87878045e-02,\n",
              "        5.76398820e-02, -6.95497617e-02, -5.20124845e-03,  2.84567736e-02,\n",
              "        3.29772681e-02, -2.68640295e-02, -2.69058999e-02, -1.36574116e-02,\n",
              "        4.51388478e-04,  3.62573168e-03, -2.56448351e-02,  1.32958796e-02,\n",
              "       -6.19537942e-03, -3.72298174e-02, -6.03920333e-02,  5.58086634e-02,\n",
              "       -4.59099784e-02, -4.52155694e-02,  4.41600382e-02,  1.09620085e-02,\n",
              "        2.87052020e-02, -3.52812000e-02, -5.98292472e-03, -9.53746494e-03,\n",
              "       -1.50968842e-02, -4.65965248e-04, -1.13535123e-02, -3.38286310e-02,\n",
              "       -2.68392432e-02,  8.40800628e-02,  2.97715180e-02,  1.97675992e-02,\n",
              "        2.25906335e-02, -1.60586592e-02, -3.21781151e-02,  3.55246030e-02,\n",
              "       -3.53043862e-02, -4.26388718e-02, -4.32565175e-02, -1.47554623e-02,\n",
              "        6.80303127e-02, -2.96379197e-02,  4.94367592e-02, -3.86338457e-02,\n",
              "        2.35905740e-02, -2.96587236e-02, -9.04200226e-03,  4.95796688e-02,\n",
              "        2.12942902e-03, -2.17505195e-03, -2.74098348e-02,  2.91663334e-02,\n",
              "        2.86925621e-02, -4.29604687e-02, -4.61797081e-02, -5.18090744e-03,\n",
              "        1.51720028e-02, -9.32374503e-03, -1.02361431e-02, -3.66350934e-02,\n",
              "        2.03273613e-02,  4.80332412e-02,  5.10666041e-06,  1.40920840e-02,\n",
              "       -3.05019673e-02,  2.02479251e-02,  2.88960263e-02, -2.42762491e-02,\n",
              "        2.37360951e-02, -6.25623986e-02, -5.43943271e-02, -1.29873855e-02,\n",
              "       -6.32187501e-02,  7.17801750e-02, -2.36698054e-03, -6.76993951e-02,\n",
              "        1.80651061e-02,  4.09412477e-03,  1.00810807e-02, -7.68846348e-02,\n",
              "       -3.38137336e-02, -1.11242518e-01, -8.31701234e-03,  6.64457725e-03,\n",
              "        6.04135804e-02,  4.32636887e-02,  1.63207520e-02,  5.43384738e-02,\n",
              "        1.40947255e-03,  4.01793569e-02, -2.62135989e-03, -1.54006388e-02,\n",
              "        4.74288203e-02, -2.72087660e-02,  1.39245633e-02, -8.99614394e-02,\n",
              "        4.64993268e-02,  1.67304762e-02,  9.33379866e-03, -5.36837950e-02,\n",
              "       -2.17323210e-02,  6.62703589e-02, -2.30914131e-02,  4.75386716e-02,\n",
              "       -2.42378730e-02,  5.20072728e-02, -4.72028973e-03, -4.05150540e-02,\n",
              "        7.47819617e-02, -5.58458129e-03,  4.78942506e-02,  1.28219537e-02,\n",
              "        5.20819537e-02, -2.84812320e-02,  1.72238462e-02,  4.95828725e-02,\n",
              "        9.42150783e-03,  3.73798562e-03,  6.99305087e-02,  4.40372899e-02,\n",
              "       -5.88173233e-03, -7.11091831e-02, -3.71459150e-03, -2.19764188e-02,\n",
              "       -3.35042104e-02, -1.23400735e-02, -1.79466736e-02,  1.70163885e-02,\n",
              "       -2.16064835e-03,  3.00903507e-02, -2.31313929e-02, -1.69584602e-02,\n",
              "        2.80175963e-03,  2.28030607e-04,  3.07520106e-02,  3.74845937e-02,\n",
              "        7.70460218e-02, -2.54038759e-02, -3.22687849e-02, -1.31799534e-01,\n",
              "       -1.73304733e-02,  2.87372095e-04,  3.35855335e-02, -6.80422550e-03,\n",
              "       -1.29283145e-01,  7.75301680e-02, -1.05002534e-03,  3.29124108e-02,\n",
              "        5.92513494e-02,  3.73395830e-02,  1.19891968e-02, -1.37707517e-02,\n",
              "       -7.29273539e-03,  9.30431392e-03, -2.85456665e-02,  4.38412325e-03,\n",
              "       -1.07288156e-02, -1.32633187e-02,  5.22329379e-03, -8.08543637e-02,\n",
              "        5.17244525e-02,  3.03816684e-02,  2.03434136e-02, -9.25302599e-03,\n",
              "        2.52799690e-02,  2.00746972e-02,  2.39219945e-02, -2.91574318e-02,\n",
              "       -5.12264716e-03, -1.78303756e-03,  1.99320447e-02,  5.60263507e-02,\n",
              "        1.16131688e-02,  3.76199633e-02, -5.89199783e-03, -2.91574299e-02,\n",
              "        1.50795830e-02, -4.77018282e-02, -2.54585873e-02,  1.00662252e-02,\n",
              "       -1.41913779e-02, -3.03721875e-02, -3.65416445e-02,  6.09165104e-03,\n",
              "        1.51497358e-02,  2.51083728e-02,  2.72465777e-02,  4.43385430e-02,\n",
              "       -1.41009670e-02, -6.74255341e-02, -3.46439891e-02,  6.04484491e-02,\n",
              "       -2.15509832e-02, -8.11785236e-02, -3.12885270e-02,  1.50841121e-02,\n",
              "       -7.30770752e-02, -4.96259667e-02, -1.28783090e-02, -3.56740169e-02,\n",
              "        6.38068020e-02, -8.48797038e-02, -4.34168847e-03,  2.12616511e-02,\n",
              "       -1.46340542e-02,  4.04052474e-02,  1.36008086e-02, -3.13465931e-02,\n",
              "        6.43924484e-03, -1.29855620e-02, -6.09433763e-02,  2.49322057e-02,\n",
              "       -9.63826198e-03, -6.34837747e-02, -3.52106765e-02, -1.56923477e-02,\n",
              "        4.22881395e-02,  6.11328632e-02,  1.08339386e-02,  8.84333998e-03,\n",
              "        1.53137166e-02,  2.17959210e-02,  1.95871480e-03, -5.75332763e-03,\n",
              "        1.80459358e-02, -1.35010462e-02,  1.05721280e-02, -1.95251536e-02,\n",
              "        2.08562519e-03, -4.25161235e-02, -9.79294721e-03,  5.81193827e-02,\n",
              "        4.16253209e-02,  6.91879615e-02, -7.22073019e-04, -4.13854644e-02,\n",
              "       -3.43401171e-03, -7.11982995e-02,  6.64322358e-03, -1.96185764e-02,\n",
              "        3.91555543e-04,  3.92856635e-02,  3.89571930e-03,  3.23359817e-02,\n",
              "       -1.36817070e-02, -3.72781493e-02,  1.00291111e-02, -2.59387083e-02,\n",
              "       -7.83663336e-03,  2.48202290e-02,  7.59972185e-02,  6.31455779e-02,\n",
              "        2.41471324e-02,  4.61261310e-02,  3.90827889e-03, -2.01533139e-02,\n",
              "        3.39513198e-02, -5.47345588e-03, -4.06205952e-02,  1.32909566e-02,\n",
              "       -1.27658620e-02, -2.02085432e-02, -7.00437874e-02, -2.60546487e-02,\n",
              "        4.84137386e-02,  1.86425413e-03,  3.24128419e-02,  5.50176715e-04,\n",
              "       -4.63063940e-02, -6.12037629e-03,  3.84296174e-03, -7.03621097e-03,\n",
              "       -1.67513862e-02, -2.61158347e-02, -6.05769455e-03, -6.80451021e-02,\n",
              "       -3.25183682e-02, -3.87906749e-03,  2.00869776e-02, -9.59488377e-03,\n",
              "        1.39867198e-02,  2.78375763e-02,  1.73859659e-03, -2.20551006e-02,\n",
              "       -6.91632181e-02, -8.41917321e-02,  1.98470075e-02,  9.04701184e-03,\n",
              "       -1.01970490e-02,  3.33775841e-02,  3.70615721e-02,  4.17450219e-02,\n",
              "        3.09130158e-02, -1.97979435e-02, -4.63565055e-04, -2.11346392e-02,\n",
              "       -4.97126170e-02, -2.82514524e-02, -3.06736329e-04, -1.94370002e-02,\n",
              "       -2.55911741e-02, -1.01449460e-01,  1.15019009e-02, -7.57351145e-03,\n",
              "       -6.88521117e-02, -8.95132776e-03,  2.75390819e-02,  2.20159106e-02,\n",
              "       -7.81786907e-03, -1.06718563e-01, -3.79782245e-02,  4.43865955e-02,\n",
              "        6.48570061e-02, -1.32390549e-02,  1.06441770e-02,  1.38589488e-02,\n",
              "       -1.84492972e-02,  7.07321987e-02,  2.74638645e-02, -7.65294731e-02,\n",
              "       -3.02958265e-02, -1.70988888e-02,  6.80813268e-02,  3.12598720e-02,\n",
              "        9.09885019e-02, -6.88599935e-03, -1.39878057e-02, -1.43238390e-02,\n",
              "       -2.07350012e-02, -7.36272559e-02, -4.35354821e-02, -1.68336313e-02,\n",
              "       -2.96069384e-02,  2.34245602e-02, -8.86587650e-02,  2.44130194e-03,\n",
              "        3.29445228e-02, -1.91105122e-03, -5.66348657e-02, -3.27794487e-03,\n",
              "        4.82261851e-02, -2.44593760e-03, -2.12750565e-02, -3.84331308e-02,\n",
              "        5.41152246e-02,  6.78664967e-02,  1.41748246e-02,  1.47369020e-02,\n",
              "       -4.10098583e-02, -3.51656489e-02,  1.95573382e-02, -5.44742793e-02,\n",
              "        1.07431253e-02,  4.07118164e-03,  2.14226078e-02, -5.55327442e-03,\n",
              "       -7.13728927e-03, -2.49516778e-02, -4.41770218e-02, -2.11944245e-02,\n",
              "        1.62596162e-02,  1.80092864e-02,  2.46163607e-02,  2.23554932e-02,\n",
              "        1.30090220e-02,  1.01754081e-03,  1.29371565e-02,  3.12787620e-03,\n",
              "        2.54679229e-02,  1.11103067e-02, -2.57943477e-02, -3.26155499e-02,\n",
              "       -2.77537340e-03, -9.55739524e-03, -7.80098215e-02, -1.32124173e-02,\n",
              "        6.50318414e-02,  4.80019264e-02, -1.51139824e-02,  4.34124470e-02,\n",
              "       -2.09026448e-02,  2.13612281e-02,  3.85058764e-03,  5.09387441e-02,\n",
              "       -1.29002230e-02,  5.05016968e-02,  6.94007613e-03,  4.50805062e-03,\n",
              "        2.48474977e-03,  2.65642419e-03, -3.06915361e-02,  8.42585694e-03,\n",
              "        1.41641004e-02, -1.87123679e-02,  4.55331728e-02, -5.87539524e-02,\n",
              "        2.00229511e-02, -9.08766221e-03, -4.95494977e-02, -2.96615548e-02,\n",
              "        1.07441125e-02,  3.23060155e-02, -4.30574082e-02, -7.93865621e-02,\n",
              "       -1.57075804e-02, -5.75120710e-02,  3.13548520e-02, -6.51229173e-02,\n",
              "       -5.82398381e-03,  3.48909833e-02, -3.25883962e-02,  4.90872708e-06,\n",
              "       -1.63501929e-02,  1.32017434e-02,  3.60209458e-02,  6.97147846e-02,\n",
              "        8.55077654e-02,  2.41170768e-02,  3.14975902e-02, -5.33937663e-02,\n",
              "        1.15436949e-02,  3.32723558e-02, -3.56774889e-02, -2.41800472e-02,\n",
              "        7.03416954e-05, -3.25614661e-02,  5.89373447e-02,  2.74394769e-02,\n",
              "        2.62334924e-02,  6.08457625e-02,  4.32985537e-02, -2.09627319e-02,\n",
              "        2.13318039e-02,  1.26850596e-02, -5.62015846e-02,  5.47283031e-02,\n",
              "       -1.32117178e-02, -1.56793538e-02, -1.45499324e-02,  3.26255672e-02,\n",
              "        4.41720374e-02, -2.87154205e-02,  3.03723812e-02,  2.20448337e-02,\n",
              "       -4.53769527e-02, -8.68632570e-02, -2.44449135e-02,  5.33395726e-03,\n",
              "        3.71883251e-02,  3.37838987e-03,  1.55547373e-02, -4.21751887e-02,\n",
              "        8.18045530e-03,  1.57415979e-02,  9.98176751e-04, -4.74787127e-33,\n",
              "        3.32989916e-02,  1.33567555e-02,  4.89056781e-02,  5.71762910e-03,\n",
              "       -2.73932572e-02, -4.75659855e-02,  4.70761470e-02, -1.07270591e-02,\n",
              "       -1.58233306e-04,  1.11441836e-02, -1.64436344e-02, -4.05660197e-02,\n",
              "       -1.40514793e-02, -2.17323061e-02, -2.63206996e-02,  3.70055661e-02,\n",
              "        3.75245400e-02,  4.17882986e-02, -4.27053943e-02, -3.11757112e-03,\n",
              "        6.52074069e-03, -1.07506635e-02,  4.40259539e-02,  5.55782653e-02,\n",
              "       -1.09509295e-02, -1.35148391e-02, -4.91680689e-02,  1.21308037e-03,\n",
              "        2.58750916e-02,  8.69769137e-03, -7.63267558e-03, -1.78872980e-02,\n",
              "        5.06909331e-03, -2.53728237e-02, -7.47665484e-03, -2.59606093e-02,\n",
              "       -2.09411643e-02, -9.02873185e-03,  1.75338118e-05,  1.25103248e-02,\n",
              "       -2.18451228e-02, -3.11798286e-02, -4.57534380e-02, -3.95266972e-02,\n",
              "        5.84049672e-02,  1.51071493e-02, -1.96444690e-02,  2.29968149e-02,\n",
              "        6.76099211e-03,  8.91145021e-02,  9.54945106e-03, -1.71318166e-02,\n",
              "        3.75630409e-02,  2.24564336e-02, -1.80032458e-02,  2.46071275e-02,\n",
              "       -3.34260128e-02, -3.52309532e-02,  2.14628633e-02,  2.59392392e-02,\n",
              "        4.56503294e-02,  6.49205595e-02,  1.43152429e-02, -5.08508496e-02,\n",
              "       -2.73691351e-03,  6.95538372e-02, -2.17873249e-02, -2.51378156e-02,\n",
              "       -1.56103745e-02,  5.56381652e-03,  6.40823226e-03, -6.36334019e-03,\n",
              "       -5.48478365e-02,  7.77136460e-02, -5.66911809e-02, -5.34464978e-03,\n",
              "        3.03066778e-03, -4.88867424e-02, -3.77237424e-02,  1.24181518e-02,\n",
              "        4.89710644e-02,  1.82454083e-02,  8.85999575e-02,  4.10466595e-03,\n",
              "        2.93429056e-03,  1.01943195e-04,  3.06582823e-02,  5.39700268e-04,\n",
              "        5.96179068e-02,  4.29049134e-02, -3.52844037e-02,  1.39230313e-02,\n",
              "        3.13875987e-03, -1.07257497e-02,  1.35599300e-02,  7.79659580e-03,\n",
              "        2.89206021e-02, -2.07441510e-03,  1.24768261e-02,  4.91259024e-02,\n",
              "       -3.49287465e-02, -9.37492773e-02, -8.69461372e-02, -3.45218629e-02,\n",
              "       -5.89725887e-03,  1.40725309e-02, -1.58200171e-02, -7.28014347e-05,\n",
              "       -1.49092870e-02,  3.90239693e-02, -9.70504340e-03, -6.16801763e-03,\n",
              "       -8.40998739e-02, -1.54549535e-02,  1.99457835e-02, -2.79220529e-02,\n",
              "        6.76365010e-03,  9.14108707e-04, -8.45962949e-03, -4.54786569e-02,\n",
              "        2.73205899e-02, -5.85540645e-02, -5.81421005e-03,  2.46671457e-02,\n",
              "        2.28490122e-02, -1.76605415e-02, -2.34935638e-02,  6.62625255e-03,\n",
              "        5.52329118e-04, -2.31648460e-02,  5.96501166e-03,  5.64471558e-02,\n",
              "        1.83333142e-07, -3.58254574e-02,  1.67985391e-02,  2.20678709e-02,\n",
              "        7.45114088e-02, -1.86613947e-02, -4.31071129e-03,  4.76027988e-02,\n",
              "       -8.72268528e-03,  5.86847868e-03,  5.12878112e-02, -7.74205253e-02,\n",
              "       -2.60955244e-02, -1.80868376e-02,  6.45561442e-02, -2.18090434e-02,\n",
              "        4.52383086e-02, -7.71388970e-03,  1.58532076e-02,  6.78382767e-03,\n",
              "       -2.09476445e-02,  7.78021961e-02,  4.21838462e-02, -1.14684748e-02,\n",
              "        2.07069460e-02,  4.17354926e-02, -1.14194583e-02,  2.27314606e-02,\n",
              "       -5.77494083e-03, -3.41660641e-02, -5.33797173e-03, -3.99581604e-02,\n",
              "        3.06962281e-02,  2.16882508e-02,  5.17862514e-02, -1.73648738e-03,\n",
              "        5.98246232e-03, -1.10927438e-02,  5.82193993e-02,  1.08575672e-02,\n",
              "        2.21567880e-02, -1.19465450e-02,  8.08994006e-03, -1.75187383e-02,\n",
              "       -6.19599186e-02,  5.50305238e-03,  1.60270631e-02,  5.00360727e-02,\n",
              "        3.13772149e-02,  2.83991694e-02,  3.05309370e-02,  3.32001671e-02,\n",
              "        1.02759078e-02,  7.40898168e-03, -3.06965690e-02,  1.53236547e-02,\n",
              "       -8.90776701e-03, -7.43305963e-03,  5.04170991e-02,  1.63489096e-02,\n",
              "       -5.39384000e-02,  7.94768985e-03,  8.66867229e-03, -4.03563268e-02,\n",
              "        3.85009162e-02, -3.33058611e-02, -3.05747837e-02,  3.72586288e-02,\n",
              "        9.82259954e-35, -3.61088812e-02, -3.57251940e-03, -1.66602675e-02,\n",
              "        5.26487548e-03, -6.83574646e-04,  6.23854157e-03,  2.11844612e-02,\n",
              "        1.63649712e-02, -2.37753671e-02,  7.62780681e-02, -5.64334728e-03],\n",
              "      dtype=float32)"
            ]
          },
          "metadata": {},
          "execution_count": 100
        }
      ]
    },
    {
      "cell_type": "code",
      "source": [
        "svec = np.array(vec).reshape(1, -1)\n",
        "svec.shape"
      ],
      "metadata": {
        "colab": {
          "base_uri": "https://localhost:8080/"
        },
        "id": "-S2uuffQeV9W",
        "outputId": "4c9ecebb-9465-47c2-ed2f-8c19bab2e712"
      },
      "execution_count": 98,
      "outputs": [
        {
          "output_type": "execute_result",
          "data": {
            "text/plain": [
              "(1, 768)"
            ]
          },
          "metadata": {},
          "execution_count": 98
        }
      ]
    },
    {
      "cell_type": "code",
      "source": [
        "svec"
      ],
      "metadata": {
        "colab": {
          "base_uri": "https://localhost:8080/"
        },
        "id": "QlQuGIvgelGx",
        "outputId": "2b5f0480-4ec8-44d3-cb93-263e608f5f22"
      },
      "execution_count": 101,
      "outputs": [
        {
          "output_type": "execute_result",
          "data": {
            "text/plain": [
              "array([[ 6.42619049e-03,  2.56091002e-02, -2.67441794e-02,\n",
              "        -1.55187240e-02,  2.29730606e-02, -3.57276499e-02,\n",
              "         3.86748239e-02, -1.60939898e-02,  4.65485044e-02,\n",
              "         2.95800697e-02, -3.35306139e-03, -1.85456648e-02,\n",
              "        -1.91449169e-02,  3.55948955e-02,  5.60022555e-02,\n",
              "        -4.43300344e-02,  8.90157148e-02, -1.07146017e-01,\n",
              "        -3.30322720e-02, -3.54057774e-02, -5.53002469e-02,\n",
              "         7.00227637e-03, -5.64914718e-02,  2.13691965e-03,\n",
              "         8.75431150e-02, -6.70831883e-03, -1.20849153e-02,\n",
              "        -2.02919133e-02,  1.54416384e-02, -6.39096368e-04,\n",
              "        -2.18626764e-02, -2.01389473e-02,  6.37899786e-02,\n",
              "         3.69652286e-02,  1.19426750e-06,  4.59158123e-02,\n",
              "        -3.85587439e-02, -3.91295999e-02,  1.75804123e-02,\n",
              "        -3.40362289e-03,  1.93388830e-03,  8.17962810e-02,\n",
              "         3.04869562e-02,  8.82490072e-03, -6.73493929e-03,\n",
              "        -1.74416625e-03,  7.29642250e-03, -1.89183187e-02,\n",
              "        -2.33318424e-03,  8.21395963e-02,  2.15106620e-03,\n",
              "        -3.39443944e-02, -7.54645560e-03, -4.09248918e-02,\n",
              "        -1.94312111e-02, -4.59250771e-02,  3.41440178e-03,\n",
              "         4.92181256e-03,  6.16642972e-03,  3.98008861e-02,\n",
              "         6.68048300e-03, -2.57088449e-02, -7.32802739e-03,\n",
              "         2.89394017e-02,  2.87200529e-02,  4.97493753e-03,\n",
              "        -5.20685054e-02, -6.22011051e-02, -1.07715083e-02,\n",
              "        -3.47384289e-02, -1.31665114e-02, -3.07832733e-02,\n",
              "        -1.95483640e-02,  5.67887165e-02, -3.41822654e-02,\n",
              "        -6.75058179e-03,  2.67677549e-02,  2.53297519e-02,\n",
              "         6.42649755e-02,  5.39987013e-02,  1.94090530e-02,\n",
              "         3.45332809e-02, -5.21464925e-03, -1.35054318e-02,\n",
              "        -3.61755639e-02,  4.46116999e-02,  8.55309051e-03,\n",
              "         3.50752845e-02, -8.57769884e-03, -5.26866578e-02,\n",
              "         1.43952807e-02,  2.36323383e-02, -8.12644325e-03,\n",
              "        -2.74953432e-02, -2.83938609e-02, -2.41391789e-02,\n",
              "         4.33459366e-03,  2.43456177e-02, -3.75799160e-03,\n",
              "         3.87878045e-02,  5.76398820e-02, -6.95497617e-02,\n",
              "        -5.20124845e-03,  2.84567736e-02,  3.29772681e-02,\n",
              "        -2.68640295e-02, -2.69058999e-02, -1.36574116e-02,\n",
              "         4.51388478e-04,  3.62573168e-03, -2.56448351e-02,\n",
              "         1.32958796e-02, -6.19537942e-03, -3.72298174e-02,\n",
              "        -6.03920333e-02,  5.58086634e-02, -4.59099784e-02,\n",
              "        -4.52155694e-02,  4.41600382e-02,  1.09620085e-02,\n",
              "         2.87052020e-02, -3.52812000e-02, -5.98292472e-03,\n",
              "        -9.53746494e-03, -1.50968842e-02, -4.65965248e-04,\n",
              "        -1.13535123e-02, -3.38286310e-02, -2.68392432e-02,\n",
              "         8.40800628e-02,  2.97715180e-02,  1.97675992e-02,\n",
              "         2.25906335e-02, -1.60586592e-02, -3.21781151e-02,\n",
              "         3.55246030e-02, -3.53043862e-02, -4.26388718e-02,\n",
              "        -4.32565175e-02, -1.47554623e-02,  6.80303127e-02,\n",
              "        -2.96379197e-02,  4.94367592e-02, -3.86338457e-02,\n",
              "         2.35905740e-02, -2.96587236e-02, -9.04200226e-03,\n",
              "         4.95796688e-02,  2.12942902e-03, -2.17505195e-03,\n",
              "        -2.74098348e-02,  2.91663334e-02,  2.86925621e-02,\n",
              "        -4.29604687e-02, -4.61797081e-02, -5.18090744e-03,\n",
              "         1.51720028e-02, -9.32374503e-03, -1.02361431e-02,\n",
              "        -3.66350934e-02,  2.03273613e-02,  4.80332412e-02,\n",
              "         5.10666041e-06,  1.40920840e-02, -3.05019673e-02,\n",
              "         2.02479251e-02,  2.88960263e-02, -2.42762491e-02,\n",
              "         2.37360951e-02, -6.25623986e-02, -5.43943271e-02,\n",
              "        -1.29873855e-02, -6.32187501e-02,  7.17801750e-02,\n",
              "        -2.36698054e-03, -6.76993951e-02,  1.80651061e-02,\n",
              "         4.09412477e-03,  1.00810807e-02, -7.68846348e-02,\n",
              "        -3.38137336e-02, -1.11242518e-01, -8.31701234e-03,\n",
              "         6.64457725e-03,  6.04135804e-02,  4.32636887e-02,\n",
              "         1.63207520e-02,  5.43384738e-02,  1.40947255e-03,\n",
              "         4.01793569e-02, -2.62135989e-03, -1.54006388e-02,\n",
              "         4.74288203e-02, -2.72087660e-02,  1.39245633e-02,\n",
              "        -8.99614394e-02,  4.64993268e-02,  1.67304762e-02,\n",
              "         9.33379866e-03, -5.36837950e-02, -2.17323210e-02,\n",
              "         6.62703589e-02, -2.30914131e-02,  4.75386716e-02,\n",
              "        -2.42378730e-02,  5.20072728e-02, -4.72028973e-03,\n",
              "        -4.05150540e-02,  7.47819617e-02, -5.58458129e-03,\n",
              "         4.78942506e-02,  1.28219537e-02,  5.20819537e-02,\n",
              "        -2.84812320e-02,  1.72238462e-02,  4.95828725e-02,\n",
              "         9.42150783e-03,  3.73798562e-03,  6.99305087e-02,\n",
              "         4.40372899e-02, -5.88173233e-03, -7.11091831e-02,\n",
              "        -3.71459150e-03, -2.19764188e-02, -3.35042104e-02,\n",
              "        -1.23400735e-02, -1.79466736e-02,  1.70163885e-02,\n",
              "        -2.16064835e-03,  3.00903507e-02, -2.31313929e-02,\n",
              "        -1.69584602e-02,  2.80175963e-03,  2.28030607e-04,\n",
              "         3.07520106e-02,  3.74845937e-02,  7.70460218e-02,\n",
              "        -2.54038759e-02, -3.22687849e-02, -1.31799534e-01,\n",
              "        -1.73304733e-02,  2.87372095e-04,  3.35855335e-02,\n",
              "        -6.80422550e-03, -1.29283145e-01,  7.75301680e-02,\n",
              "        -1.05002534e-03,  3.29124108e-02,  5.92513494e-02,\n",
              "         3.73395830e-02,  1.19891968e-02, -1.37707517e-02,\n",
              "        -7.29273539e-03,  9.30431392e-03, -2.85456665e-02,\n",
              "         4.38412325e-03, -1.07288156e-02, -1.32633187e-02,\n",
              "         5.22329379e-03, -8.08543637e-02,  5.17244525e-02,\n",
              "         3.03816684e-02,  2.03434136e-02, -9.25302599e-03,\n",
              "         2.52799690e-02,  2.00746972e-02,  2.39219945e-02,\n",
              "        -2.91574318e-02, -5.12264716e-03, -1.78303756e-03,\n",
              "         1.99320447e-02,  5.60263507e-02,  1.16131688e-02,\n",
              "         3.76199633e-02, -5.89199783e-03, -2.91574299e-02,\n",
              "         1.50795830e-02, -4.77018282e-02, -2.54585873e-02,\n",
              "         1.00662252e-02, -1.41913779e-02, -3.03721875e-02,\n",
              "        -3.65416445e-02,  6.09165104e-03,  1.51497358e-02,\n",
              "         2.51083728e-02,  2.72465777e-02,  4.43385430e-02,\n",
              "        -1.41009670e-02, -6.74255341e-02, -3.46439891e-02,\n",
              "         6.04484491e-02, -2.15509832e-02, -8.11785236e-02,\n",
              "        -3.12885270e-02,  1.50841121e-02, -7.30770752e-02,\n",
              "        -4.96259667e-02, -1.28783090e-02, -3.56740169e-02,\n",
              "         6.38068020e-02, -8.48797038e-02, -4.34168847e-03,\n",
              "         2.12616511e-02, -1.46340542e-02,  4.04052474e-02,\n",
              "         1.36008086e-02, -3.13465931e-02,  6.43924484e-03,\n",
              "        -1.29855620e-02, -6.09433763e-02,  2.49322057e-02,\n",
              "        -9.63826198e-03, -6.34837747e-02, -3.52106765e-02,\n",
              "        -1.56923477e-02,  4.22881395e-02,  6.11328632e-02,\n",
              "         1.08339386e-02,  8.84333998e-03,  1.53137166e-02,\n",
              "         2.17959210e-02,  1.95871480e-03, -5.75332763e-03,\n",
              "         1.80459358e-02, -1.35010462e-02,  1.05721280e-02,\n",
              "        -1.95251536e-02,  2.08562519e-03, -4.25161235e-02,\n",
              "        -9.79294721e-03,  5.81193827e-02,  4.16253209e-02,\n",
              "         6.91879615e-02, -7.22073019e-04, -4.13854644e-02,\n",
              "        -3.43401171e-03, -7.11982995e-02,  6.64322358e-03,\n",
              "        -1.96185764e-02,  3.91555543e-04,  3.92856635e-02,\n",
              "         3.89571930e-03,  3.23359817e-02, -1.36817070e-02,\n",
              "        -3.72781493e-02,  1.00291111e-02, -2.59387083e-02,\n",
              "        -7.83663336e-03,  2.48202290e-02,  7.59972185e-02,\n",
              "         6.31455779e-02,  2.41471324e-02,  4.61261310e-02,\n",
              "         3.90827889e-03, -2.01533139e-02,  3.39513198e-02,\n",
              "        -5.47345588e-03, -4.06205952e-02,  1.32909566e-02,\n",
              "        -1.27658620e-02, -2.02085432e-02, -7.00437874e-02,\n",
              "        -2.60546487e-02,  4.84137386e-02,  1.86425413e-03,\n",
              "         3.24128419e-02,  5.50176715e-04, -4.63063940e-02,\n",
              "        -6.12037629e-03,  3.84296174e-03, -7.03621097e-03,\n",
              "        -1.67513862e-02, -2.61158347e-02, -6.05769455e-03,\n",
              "        -6.80451021e-02, -3.25183682e-02, -3.87906749e-03,\n",
              "         2.00869776e-02, -9.59488377e-03,  1.39867198e-02,\n",
              "         2.78375763e-02,  1.73859659e-03, -2.20551006e-02,\n",
              "        -6.91632181e-02, -8.41917321e-02,  1.98470075e-02,\n",
              "         9.04701184e-03, -1.01970490e-02,  3.33775841e-02,\n",
              "         3.70615721e-02,  4.17450219e-02,  3.09130158e-02,\n",
              "        -1.97979435e-02, -4.63565055e-04, -2.11346392e-02,\n",
              "        -4.97126170e-02, -2.82514524e-02, -3.06736329e-04,\n",
              "        -1.94370002e-02, -2.55911741e-02, -1.01449460e-01,\n",
              "         1.15019009e-02, -7.57351145e-03, -6.88521117e-02,\n",
              "        -8.95132776e-03,  2.75390819e-02,  2.20159106e-02,\n",
              "        -7.81786907e-03, -1.06718563e-01, -3.79782245e-02,\n",
              "         4.43865955e-02,  6.48570061e-02, -1.32390549e-02,\n",
              "         1.06441770e-02,  1.38589488e-02, -1.84492972e-02,\n",
              "         7.07321987e-02,  2.74638645e-02, -7.65294731e-02,\n",
              "        -3.02958265e-02, -1.70988888e-02,  6.80813268e-02,\n",
              "         3.12598720e-02,  9.09885019e-02, -6.88599935e-03,\n",
              "        -1.39878057e-02, -1.43238390e-02, -2.07350012e-02,\n",
              "        -7.36272559e-02, -4.35354821e-02, -1.68336313e-02,\n",
              "        -2.96069384e-02,  2.34245602e-02, -8.86587650e-02,\n",
              "         2.44130194e-03,  3.29445228e-02, -1.91105122e-03,\n",
              "        -5.66348657e-02, -3.27794487e-03,  4.82261851e-02,\n",
              "        -2.44593760e-03, -2.12750565e-02, -3.84331308e-02,\n",
              "         5.41152246e-02,  6.78664967e-02,  1.41748246e-02,\n",
              "         1.47369020e-02, -4.10098583e-02, -3.51656489e-02,\n",
              "         1.95573382e-02, -5.44742793e-02,  1.07431253e-02,\n",
              "         4.07118164e-03,  2.14226078e-02, -5.55327442e-03,\n",
              "        -7.13728927e-03, -2.49516778e-02, -4.41770218e-02,\n",
              "        -2.11944245e-02,  1.62596162e-02,  1.80092864e-02,\n",
              "         2.46163607e-02,  2.23554932e-02,  1.30090220e-02,\n",
              "         1.01754081e-03,  1.29371565e-02,  3.12787620e-03,\n",
              "         2.54679229e-02,  1.11103067e-02, -2.57943477e-02,\n",
              "        -3.26155499e-02, -2.77537340e-03, -9.55739524e-03,\n",
              "        -7.80098215e-02, -1.32124173e-02,  6.50318414e-02,\n",
              "         4.80019264e-02, -1.51139824e-02,  4.34124470e-02,\n",
              "        -2.09026448e-02,  2.13612281e-02,  3.85058764e-03,\n",
              "         5.09387441e-02, -1.29002230e-02,  5.05016968e-02,\n",
              "         6.94007613e-03,  4.50805062e-03,  2.48474977e-03,\n",
              "         2.65642419e-03, -3.06915361e-02,  8.42585694e-03,\n",
              "         1.41641004e-02, -1.87123679e-02,  4.55331728e-02,\n",
              "        -5.87539524e-02,  2.00229511e-02, -9.08766221e-03,\n",
              "        -4.95494977e-02, -2.96615548e-02,  1.07441125e-02,\n",
              "         3.23060155e-02, -4.30574082e-02, -7.93865621e-02,\n",
              "        -1.57075804e-02, -5.75120710e-02,  3.13548520e-02,\n",
              "        -6.51229173e-02, -5.82398381e-03,  3.48909833e-02,\n",
              "        -3.25883962e-02,  4.90872708e-06, -1.63501929e-02,\n",
              "         1.32017434e-02,  3.60209458e-02,  6.97147846e-02,\n",
              "         8.55077654e-02,  2.41170768e-02,  3.14975902e-02,\n",
              "        -5.33937663e-02,  1.15436949e-02,  3.32723558e-02,\n",
              "        -3.56774889e-02, -2.41800472e-02,  7.03416954e-05,\n",
              "        -3.25614661e-02,  5.89373447e-02,  2.74394769e-02,\n",
              "         2.62334924e-02,  6.08457625e-02,  4.32985537e-02,\n",
              "        -2.09627319e-02,  2.13318039e-02,  1.26850596e-02,\n",
              "        -5.62015846e-02,  5.47283031e-02, -1.32117178e-02,\n",
              "        -1.56793538e-02, -1.45499324e-02,  3.26255672e-02,\n",
              "         4.41720374e-02, -2.87154205e-02,  3.03723812e-02,\n",
              "         2.20448337e-02, -4.53769527e-02, -8.68632570e-02,\n",
              "        -2.44449135e-02,  5.33395726e-03,  3.71883251e-02,\n",
              "         3.37838987e-03,  1.55547373e-02, -4.21751887e-02,\n",
              "         8.18045530e-03,  1.57415979e-02,  9.98176751e-04,\n",
              "        -4.74787127e-33,  3.32989916e-02,  1.33567555e-02,\n",
              "         4.89056781e-02,  5.71762910e-03, -2.73932572e-02,\n",
              "        -4.75659855e-02,  4.70761470e-02, -1.07270591e-02,\n",
              "        -1.58233306e-04,  1.11441836e-02, -1.64436344e-02,\n",
              "        -4.05660197e-02, -1.40514793e-02, -2.17323061e-02,\n",
              "        -2.63206996e-02,  3.70055661e-02,  3.75245400e-02,\n",
              "         4.17882986e-02, -4.27053943e-02, -3.11757112e-03,\n",
              "         6.52074069e-03, -1.07506635e-02,  4.40259539e-02,\n",
              "         5.55782653e-02, -1.09509295e-02, -1.35148391e-02,\n",
              "        -4.91680689e-02,  1.21308037e-03,  2.58750916e-02,\n",
              "         8.69769137e-03, -7.63267558e-03, -1.78872980e-02,\n",
              "         5.06909331e-03, -2.53728237e-02, -7.47665484e-03,\n",
              "        -2.59606093e-02, -2.09411643e-02, -9.02873185e-03,\n",
              "         1.75338118e-05,  1.25103248e-02, -2.18451228e-02,\n",
              "        -3.11798286e-02, -4.57534380e-02, -3.95266972e-02,\n",
              "         5.84049672e-02,  1.51071493e-02, -1.96444690e-02,\n",
              "         2.29968149e-02,  6.76099211e-03,  8.91145021e-02,\n",
              "         9.54945106e-03, -1.71318166e-02,  3.75630409e-02,\n",
              "         2.24564336e-02, -1.80032458e-02,  2.46071275e-02,\n",
              "        -3.34260128e-02, -3.52309532e-02,  2.14628633e-02,\n",
              "         2.59392392e-02,  4.56503294e-02,  6.49205595e-02,\n",
              "         1.43152429e-02, -5.08508496e-02, -2.73691351e-03,\n",
              "         6.95538372e-02, -2.17873249e-02, -2.51378156e-02,\n",
              "        -1.56103745e-02,  5.56381652e-03,  6.40823226e-03,\n",
              "        -6.36334019e-03, -5.48478365e-02,  7.77136460e-02,\n",
              "        -5.66911809e-02, -5.34464978e-03,  3.03066778e-03,\n",
              "        -4.88867424e-02, -3.77237424e-02,  1.24181518e-02,\n",
              "         4.89710644e-02,  1.82454083e-02,  8.85999575e-02,\n",
              "         4.10466595e-03,  2.93429056e-03,  1.01943195e-04,\n",
              "         3.06582823e-02,  5.39700268e-04,  5.96179068e-02,\n",
              "         4.29049134e-02, -3.52844037e-02,  1.39230313e-02,\n",
              "         3.13875987e-03, -1.07257497e-02,  1.35599300e-02,\n",
              "         7.79659580e-03,  2.89206021e-02, -2.07441510e-03,\n",
              "         1.24768261e-02,  4.91259024e-02, -3.49287465e-02,\n",
              "        -9.37492773e-02, -8.69461372e-02, -3.45218629e-02,\n",
              "        -5.89725887e-03,  1.40725309e-02, -1.58200171e-02,\n",
              "        -7.28014347e-05, -1.49092870e-02,  3.90239693e-02,\n",
              "        -9.70504340e-03, -6.16801763e-03, -8.40998739e-02,\n",
              "        -1.54549535e-02,  1.99457835e-02, -2.79220529e-02,\n",
              "         6.76365010e-03,  9.14108707e-04, -8.45962949e-03,\n",
              "        -4.54786569e-02,  2.73205899e-02, -5.85540645e-02,\n",
              "        -5.81421005e-03,  2.46671457e-02,  2.28490122e-02,\n",
              "        -1.76605415e-02, -2.34935638e-02,  6.62625255e-03,\n",
              "         5.52329118e-04, -2.31648460e-02,  5.96501166e-03,\n",
              "         5.64471558e-02,  1.83333142e-07, -3.58254574e-02,\n",
              "         1.67985391e-02,  2.20678709e-02,  7.45114088e-02,\n",
              "        -1.86613947e-02, -4.31071129e-03,  4.76027988e-02,\n",
              "        -8.72268528e-03,  5.86847868e-03,  5.12878112e-02,\n",
              "        -7.74205253e-02, -2.60955244e-02, -1.80868376e-02,\n",
              "         6.45561442e-02, -2.18090434e-02,  4.52383086e-02,\n",
              "        -7.71388970e-03,  1.58532076e-02,  6.78382767e-03,\n",
              "        -2.09476445e-02,  7.78021961e-02,  4.21838462e-02,\n",
              "        -1.14684748e-02,  2.07069460e-02,  4.17354926e-02,\n",
              "        -1.14194583e-02,  2.27314606e-02, -5.77494083e-03,\n",
              "        -3.41660641e-02, -5.33797173e-03, -3.99581604e-02,\n",
              "         3.06962281e-02,  2.16882508e-02,  5.17862514e-02,\n",
              "        -1.73648738e-03,  5.98246232e-03, -1.10927438e-02,\n",
              "         5.82193993e-02,  1.08575672e-02,  2.21567880e-02,\n",
              "        -1.19465450e-02,  8.08994006e-03, -1.75187383e-02,\n",
              "        -6.19599186e-02,  5.50305238e-03,  1.60270631e-02,\n",
              "         5.00360727e-02,  3.13772149e-02,  2.83991694e-02,\n",
              "         3.05309370e-02,  3.32001671e-02,  1.02759078e-02,\n",
              "         7.40898168e-03, -3.06965690e-02,  1.53236547e-02,\n",
              "        -8.90776701e-03, -7.43305963e-03,  5.04170991e-02,\n",
              "         1.63489096e-02, -5.39384000e-02,  7.94768985e-03,\n",
              "         8.66867229e-03, -4.03563268e-02,  3.85009162e-02,\n",
              "        -3.33058611e-02, -3.05747837e-02,  3.72586288e-02,\n",
              "         9.82259954e-35, -3.61088812e-02, -3.57251940e-03,\n",
              "        -1.66602675e-02,  5.26487548e-03, -6.83574646e-04,\n",
              "         6.23854157e-03,  2.11844612e-02,  1.63649712e-02,\n",
              "        -2.37753671e-02,  7.62780681e-02, -5.64334728e-03]], dtype=float32)"
            ]
          },
          "metadata": {},
          "execution_count": 101
        }
      ]
    },
    {
      "cell_type": "code",
      "source": [
        "distances, ind = index.search(svec, k=2)"
      ],
      "metadata": {
        "id": "3a7KTKtaebtH"
      },
      "execution_count": 103,
      "outputs": []
    },
    {
      "cell_type": "code",
      "source": [
        "df.loc[ind[0]]"
      ],
      "metadata": {
        "colab": {
          "base_uri": "https://localhost:8080/",
          "height": 129
        },
        "id": "NYHdMVEzedjz",
        "outputId": "b1500e9b-ae0b-47d4-ddf8-b03fa201a736"
      },
      "execution_count": 107,
      "outputs": [
        {
          "output_type": "execute_result",
          "data": {
            "text/plain": [
              "                                                                                  text  \\\n",
              "6                                    Exciting vacation destinations for your next trip   \n",
              "7  Maldives and Srilanka are gaining popularity in terms of low budget vacation places   \n",
              "\n",
              "  category  \n",
              "6   Travel  \n",
              "7   Travel  "
            ],
            "text/html": [
              "\n",
              "  <div id=\"df-b0d88fcb-b614-4c34-8850-bb32a23f48fd\" class=\"colab-df-container\">\n",
              "    <div>\n",
              "<style scoped>\n",
              "    .dataframe tbody tr th:only-of-type {\n",
              "        vertical-align: middle;\n",
              "    }\n",
              "\n",
              "    .dataframe tbody tr th {\n",
              "        vertical-align: top;\n",
              "    }\n",
              "\n",
              "    .dataframe thead th {\n",
              "        text-align: right;\n",
              "    }\n",
              "</style>\n",
              "<table border=\"1\" class=\"dataframe\">\n",
              "  <thead>\n",
              "    <tr style=\"text-align: right;\">\n",
              "      <th></th>\n",
              "      <th>text</th>\n",
              "      <th>category</th>\n",
              "    </tr>\n",
              "  </thead>\n",
              "  <tbody>\n",
              "    <tr>\n",
              "      <th>6</th>\n",
              "      <td>Exciting vacation destinations for your next trip</td>\n",
              "      <td>Travel</td>\n",
              "    </tr>\n",
              "    <tr>\n",
              "      <th>7</th>\n",
              "      <td>Maldives and Srilanka are gaining popularity in terms of low budget vacation places</td>\n",
              "      <td>Travel</td>\n",
              "    </tr>\n",
              "  </tbody>\n",
              "</table>\n",
              "</div>\n",
              "    <div class=\"colab-df-buttons\">\n",
              "\n",
              "  <div class=\"colab-df-container\">\n",
              "    <button class=\"colab-df-convert\" onclick=\"convertToInteractive('df-b0d88fcb-b614-4c34-8850-bb32a23f48fd')\"\n",
              "            title=\"Convert this dataframe to an interactive table.\"\n",
              "            style=\"display:none;\">\n",
              "\n",
              "  <svg xmlns=\"http://www.w3.org/2000/svg\" height=\"24px\" viewBox=\"0 -960 960 960\">\n",
              "    <path d=\"M120-120v-720h720v720H120Zm60-500h600v-160H180v160Zm220 220h160v-160H400v160Zm0 220h160v-160H400v160ZM180-400h160v-160H180v160Zm440 0h160v-160H620v160ZM180-180h160v-160H180v160Zm440 0h160v-160H620v160Z\"/>\n",
              "  </svg>\n",
              "    </button>\n",
              "\n",
              "  <style>\n",
              "    .colab-df-container {\n",
              "      display:flex;\n",
              "      gap: 12px;\n",
              "    }\n",
              "\n",
              "    .colab-df-convert {\n",
              "      background-color: #E8F0FE;\n",
              "      border: none;\n",
              "      border-radius: 50%;\n",
              "      cursor: pointer;\n",
              "      display: none;\n",
              "      fill: #1967D2;\n",
              "      height: 32px;\n",
              "      padding: 0 0 0 0;\n",
              "      width: 32px;\n",
              "    }\n",
              "\n",
              "    .colab-df-convert:hover {\n",
              "      background-color: #E2EBFA;\n",
              "      box-shadow: 0px 1px 2px rgba(60, 64, 67, 0.3), 0px 1px 3px 1px rgba(60, 64, 67, 0.15);\n",
              "      fill: #174EA6;\n",
              "    }\n",
              "\n",
              "    .colab-df-buttons div {\n",
              "      margin-bottom: 4px;\n",
              "    }\n",
              "\n",
              "    [theme=dark] .colab-df-convert {\n",
              "      background-color: #3B4455;\n",
              "      fill: #D2E3FC;\n",
              "    }\n",
              "\n",
              "    [theme=dark] .colab-df-convert:hover {\n",
              "      background-color: #434B5C;\n",
              "      box-shadow: 0px 1px 3px 1px rgba(0, 0, 0, 0.15);\n",
              "      filter: drop-shadow(0px 1px 2px rgba(0, 0, 0, 0.3));\n",
              "      fill: #FFFFFF;\n",
              "    }\n",
              "  </style>\n",
              "\n",
              "    <script>\n",
              "      const buttonEl =\n",
              "        document.querySelector('#df-b0d88fcb-b614-4c34-8850-bb32a23f48fd button.colab-df-convert');\n",
              "      buttonEl.style.display =\n",
              "        google.colab.kernel.accessAllowed ? 'block' : 'none';\n",
              "\n",
              "      async function convertToInteractive(key) {\n",
              "        const element = document.querySelector('#df-b0d88fcb-b614-4c34-8850-bb32a23f48fd');\n",
              "        const dataTable =\n",
              "          await google.colab.kernel.invokeFunction('convertToInteractive',\n",
              "                                                    [key], {});\n",
              "        if (!dataTable) return;\n",
              "\n",
              "        const docLinkHtml = 'Like what you see? Visit the ' +\n",
              "          '<a target=\"_blank\" href=https://colab.research.google.com/notebooks/data_table.ipynb>data table notebook</a>'\n",
              "          + ' to learn more about interactive tables.';\n",
              "        element.innerHTML = '';\n",
              "        dataTable['output_type'] = 'display_data';\n",
              "        await google.colab.output.renderOutput(dataTable, element);\n",
              "        const docLink = document.createElement('div');\n",
              "        docLink.innerHTML = docLinkHtml;\n",
              "        element.appendChild(docLink);\n",
              "      }\n",
              "    </script>\n",
              "  </div>\n",
              "\n",
              "\n",
              "    <div id=\"df-4f09d7ee-7b47-4ccb-85b8-d8435e59ae5c\">\n",
              "      <button class=\"colab-df-quickchart\" onclick=\"quickchart('df-4f09d7ee-7b47-4ccb-85b8-d8435e59ae5c')\"\n",
              "                title=\"Suggest charts\"\n",
              "                style=\"display:none;\">\n",
              "\n",
              "<svg xmlns=\"http://www.w3.org/2000/svg\" height=\"24px\"viewBox=\"0 0 24 24\"\n",
              "     width=\"24px\">\n",
              "    <g>\n",
              "        <path d=\"M19 3H5c-1.1 0-2 .9-2 2v14c0 1.1.9 2 2 2h14c1.1 0 2-.9 2-2V5c0-1.1-.9-2-2-2zM9 17H7v-7h2v7zm4 0h-2V7h2v10zm4 0h-2v-4h2v4z\"/>\n",
              "    </g>\n",
              "</svg>\n",
              "      </button>\n",
              "\n",
              "<style>\n",
              "  .colab-df-quickchart {\n",
              "      --bg-color: #E8F0FE;\n",
              "      --fill-color: #1967D2;\n",
              "      --hover-bg-color: #E2EBFA;\n",
              "      --hover-fill-color: #174EA6;\n",
              "      --disabled-fill-color: #AAA;\n",
              "      --disabled-bg-color: #DDD;\n",
              "  }\n",
              "\n",
              "  [theme=dark] .colab-df-quickchart {\n",
              "      --bg-color: #3B4455;\n",
              "      --fill-color: #D2E3FC;\n",
              "      --hover-bg-color: #434B5C;\n",
              "      --hover-fill-color: #FFFFFF;\n",
              "      --disabled-bg-color: #3B4455;\n",
              "      --disabled-fill-color: #666;\n",
              "  }\n",
              "\n",
              "  .colab-df-quickchart {\n",
              "    background-color: var(--bg-color);\n",
              "    border: none;\n",
              "    border-radius: 50%;\n",
              "    cursor: pointer;\n",
              "    display: none;\n",
              "    fill: var(--fill-color);\n",
              "    height: 32px;\n",
              "    padding: 0;\n",
              "    width: 32px;\n",
              "  }\n",
              "\n",
              "  .colab-df-quickchart:hover {\n",
              "    background-color: var(--hover-bg-color);\n",
              "    box-shadow: 0 1px 2px rgba(60, 64, 67, 0.3), 0 1px 3px 1px rgba(60, 64, 67, 0.15);\n",
              "    fill: var(--button-hover-fill-color);\n",
              "  }\n",
              "\n",
              "  .colab-df-quickchart-complete:disabled,\n",
              "  .colab-df-quickchart-complete:disabled:hover {\n",
              "    background-color: var(--disabled-bg-color);\n",
              "    fill: var(--disabled-fill-color);\n",
              "    box-shadow: none;\n",
              "  }\n",
              "\n",
              "  .colab-df-spinner {\n",
              "    border: 2px solid var(--fill-color);\n",
              "    border-color: transparent;\n",
              "    border-bottom-color: var(--fill-color);\n",
              "    animation:\n",
              "      spin 1s steps(1) infinite;\n",
              "  }\n",
              "\n",
              "  @keyframes spin {\n",
              "    0% {\n",
              "      border-color: transparent;\n",
              "      border-bottom-color: var(--fill-color);\n",
              "      border-left-color: var(--fill-color);\n",
              "    }\n",
              "    20% {\n",
              "      border-color: transparent;\n",
              "      border-left-color: var(--fill-color);\n",
              "      border-top-color: var(--fill-color);\n",
              "    }\n",
              "    30% {\n",
              "      border-color: transparent;\n",
              "      border-left-color: var(--fill-color);\n",
              "      border-top-color: var(--fill-color);\n",
              "      border-right-color: var(--fill-color);\n",
              "    }\n",
              "    40% {\n",
              "      border-color: transparent;\n",
              "      border-right-color: var(--fill-color);\n",
              "      border-top-color: var(--fill-color);\n",
              "    }\n",
              "    60% {\n",
              "      border-color: transparent;\n",
              "      border-right-color: var(--fill-color);\n",
              "    }\n",
              "    80% {\n",
              "      border-color: transparent;\n",
              "      border-right-color: var(--fill-color);\n",
              "      border-bottom-color: var(--fill-color);\n",
              "    }\n",
              "    90% {\n",
              "      border-color: transparent;\n",
              "      border-bottom-color: var(--fill-color);\n",
              "    }\n",
              "  }\n",
              "</style>\n",
              "\n",
              "      <script>\n",
              "        async function quickchart(key) {\n",
              "          const quickchartButtonEl =\n",
              "            document.querySelector('#' + key + ' button');\n",
              "          quickchartButtonEl.disabled = true;  // To prevent multiple clicks.\n",
              "          quickchartButtonEl.classList.add('colab-df-spinner');\n",
              "          try {\n",
              "            const charts = await google.colab.kernel.invokeFunction(\n",
              "                'suggestCharts', [key], {});\n",
              "          } catch (error) {\n",
              "            console.error('Error during call to suggestCharts:', error);\n",
              "          }\n",
              "          quickchartButtonEl.classList.remove('colab-df-spinner');\n",
              "          quickchartButtonEl.classList.add('colab-df-quickchart-complete');\n",
              "        }\n",
              "        (() => {\n",
              "          let quickchartButtonEl =\n",
              "            document.querySelector('#df-4f09d7ee-7b47-4ccb-85b8-d8435e59ae5c button');\n",
              "          quickchartButtonEl.style.display =\n",
              "            google.colab.kernel.accessAllowed ? 'block' : 'none';\n",
              "        })();\n",
              "      </script>\n",
              "    </div>\n",
              "\n",
              "    </div>\n",
              "  </div>\n"
            ],
            "application/vnd.google.colaboratory.intrinsic+json": {
              "type": "dataframe",
              "summary": "{\n  \"name\": \"df\",\n  \"rows\": 2,\n  \"fields\": [\n    {\n      \"column\": \"text\",\n      \"properties\": {\n        \"dtype\": \"string\",\n        \"num_unique_values\": 2,\n        \"samples\": [\n          \"Maldives and Srilanka are gaining popularity in terms of low budget vacation places\",\n          \"Exciting vacation destinations for your next trip\"\n        ],\n        \"semantic_type\": \"\",\n        \"description\": \"\"\n      }\n    },\n    {\n      \"column\": \"category\",\n      \"properties\": {\n        \"dtype\": \"string\",\n        \"num_unique_values\": 1,\n        \"samples\": [\n          \"Travel\"\n        ],\n        \"semantic_type\": \"\",\n        \"description\": \"\"\n      }\n    }\n  ]\n}"
            }
          },
          "metadata": {},
          "execution_count": 107
        }
      ]
    },
    {
      "cell_type": "code",
      "source": [
        "#RetrievalQAWithSourcesChain\n",
        "#use Map-reduce method for not combining all the chunks as that will exceed limit\n"
      ],
      "metadata": {
        "id": "hNZWDVB1e99U"
      },
      "execution_count": null,
      "outputs": []
    }
  ]
}