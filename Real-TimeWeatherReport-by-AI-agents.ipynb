{
  "nbformat": 4,
  "nbformat_minor": 0,
  "metadata": {
    "colab": {
      "provenance": [],
      "include_colab_link": true
    },
    "kernelspec": {
      "name": "python3",
      "display_name": "Python 3"
    },
    "language_info": {
      "name": "python"
    }
  },
  "cells": [
    {
      "cell_type": "markdown",
      "metadata": {
        "id": "view-in-github",
        "colab_type": "text"
      },
      "source": [
        "<a href=\"https://colab.research.google.com/github/tejinderpa/LANGCHAIN/blob/main/Real-TimeWeatherReport-by-AI-agents.ipynb\" target=\"_parent\"><img src=\"https://colab.research.google.com/assets/colab-badge.svg\" alt=\"Open In Colab\"/></a>"
      ]
    },
    {
      "cell_type": "code",
      "execution_count": 4,
      "metadata": {
        "id": "WeWR1wl3dBay"
      },
      "outputs": [],
      "source": [
        "\n",
        "import os\n",
        "import google.generativeai as genai\n",
        "from langchain.prompts import PromptTemplate\n",
        "from langchain.chains import LLMChain\n",
        "from langchain_google_genai import ChatGoogleGenerativeAI\n",
        "from google.colab import userdata\n",
        "\n",
        "GOOGLE_API_KEY = userdata.get('GOOGLE_API_KEY_2')\n",
        "\n",
        "llm = ChatGoogleGenerativeAI(model=\"gemini-1.5-flash\", google_api_key=GOOGLE_API_KEY)"
      ]
    },
    {
      "cell_type": "code",
      "source": [
        "!pip install -q langchain-community langchain-core requests duckduckgo-search"
      ],
      "metadata": {
        "colab": {
          "base_uri": "https://localhost:8080/"
        },
        "id": "t_auBTtxdIqp",
        "outputId": "ca6d8fa9-b506-4343-f65d-69c4f5be432d"
      },
      "execution_count": 2,
      "outputs": [
        {
          "output_type": "stream",
          "name": "stdout",
          "text": [
            "\u001b[2K   \u001b[90m━━━━━━━━━━━━━━━━━━━━━━━━━━━━━━━━━━━━━━━━\u001b[0m \u001b[32m2.5/2.5 MB\u001b[0m \u001b[31m25.0 MB/s\u001b[0m eta \u001b[36m0:00:00\u001b[0m\n",
            "\u001b[2K   \u001b[90m━━━━━━━━━━━━━━━━━━━━━━━━━━━━━━━━━━━━━━━━\u001b[0m \u001b[32m3.3/3.3 MB\u001b[0m \u001b[31m69.7 MB/s\u001b[0m eta \u001b[36m0:00:00\u001b[0m\n",
            "\u001b[2K   \u001b[90m━━━━━━━━━━━━━━━━━━━━━━━━━━━━━━━━━━━━━━━━\u001b[0m \u001b[32m45.2/45.2 kB\u001b[0m \u001b[31m2.7 MB/s\u001b[0m eta \u001b[36m0:00:00\u001b[0m\n",
            "\u001b[2K   \u001b[90m━━━━━━━━━━━━━━━━━━━━━━━━━━━━━━━━━━━━━━━━\u001b[0m \u001b[32m50.9/50.9 kB\u001b[0m \u001b[31m3.6 MB/s\u001b[0m eta \u001b[36m0:00:00\u001b[0m\n",
            "\u001b[?25h"
          ]
        }
      ]
    },
    {
      "cell_type": "code",
      "source": [
        "from langchain_core.tools import tool\n",
        "import requests"
      ],
      "metadata": {
        "id": "JRG8AtkSdLM3"
      },
      "execution_count": 5,
      "outputs": []
    },
    {
      "cell_type": "code",
      "source": [
        "from langchain_community.tools import DuckDuckGoSearchRun\n",
        "\n",
        "search_tool = DuckDuckGoSearchRun()"
      ],
      "metadata": {
        "id": "-F_IXJLikwHO"
      },
      "execution_count": 6,
      "outputs": []
    },
    {
      "cell_type": "code",
      "source": [
        "@tool\n",
        "def get_weather_data(city: str) -> str:\n",
        "  \"\"\"\n",
        "  This function fetches the current weather data for a given city\n",
        "  \"\"\"\n",
        "  url = f'https://api.weatherstack.com/current?access_key=ac1e1c42c864d39d05897c9c8992d932&query={city}'\n",
        "\n",
        "  response = requests.get(url)\n",
        "\n",
        "  return response.json()"
      ],
      "metadata": {
        "id": "R2GZeN89ytgo"
      },
      "execution_count": 16,
      "outputs": []
    },
    {
      "cell_type": "code",
      "source": [
        "from langchain.agents import create_react_agent, AgentExecutor\n",
        "from langchain import hub"
      ],
      "metadata": {
        "id": "QpkrG8nAlysd"
      },
      "execution_count": 17,
      "outputs": []
    },
    {
      "cell_type": "code",
      "source": [
        "# Step 2: Pull the ReAct prompt from LangChain Hub\n",
        "prompt = hub.pull(\"hwchase17/react\")  # pulls the standard ReAct agent prompt\n"
      ],
      "metadata": {
        "id": "upsYmEP97Fk0",
        "colab": {
          "base_uri": "https://localhost:8080/"
        },
        "outputId": "f6e22a8b-a706-42ba-9232-4b45392ba23a"
      },
      "execution_count": 18,
      "outputs": [
        {
          "output_type": "stream",
          "name": "stderr",
          "text": [
            "/usr/local/lib/python3.11/dist-packages/langsmith/client.py:272: LangSmithMissingAPIKeyWarning: API key must be provided when using hosted LangSmith API\n",
            "  warnings.warn(\n"
          ]
        }
      ]
    },
    {
      "cell_type": "code",
      "source": [
        "# Step 3: Create the ReAct agent manually with the pulled prompt\n",
        "agent = create_react_agent(\n",
        "    llm=llm,\n",
        "    tools=[search_tool, get_weather_data],\n",
        "    prompt=prompt\n",
        ")"
      ],
      "metadata": {
        "id": "46OsNvahYoXO"
      },
      "execution_count": 19,
      "outputs": []
    },
    {
      "cell_type": "code",
      "source": [
        "# Step 4: Wrap it with AgentExecutor\n",
        "agent_executor = AgentExecutor(\n",
        "    agent=agent,\n",
        "    tools=[search_tool, get_weather_data],\n",
        "    verbose=True\n",
        ")"
      ],
      "metadata": {
        "id": "n_eQWa9qYqVN"
      },
      "execution_count": 20,
      "outputs": []
    },
    {
      "cell_type": "code",
      "source": [
        "# Step 5: Invoke\n",
        "response = agent_executor.invoke({\"input\": \"Find the capital of Punjab, then find it's current weather condition\"})\n",
        "print(response)"
      ],
      "metadata": {
        "colab": {
          "base_uri": "https://localhost:8080/"
        },
        "id": "4731_FTsYsJT",
        "outputId": "41ebf9d3-4be2-40fd-d7f8-efb861187d2e"
      },
      "execution_count": 23,
      "outputs": [
        {
          "output_type": "stream",
          "name": "stdout",
          "text": [
            "\n",
            "\n",
            "\u001b[1m> Entering new AgentExecutor chain...\u001b[0m\n",
            "\u001b[32;1m\u001b[1;3mThought: I need to first find the capital of Punjab.  Then I need to get the weather for that city.\n",
            "\n",
            "Action: duckduckgo_search\n",
            "Action Input: capital of punjab\n",
            "\u001b[0m"
          ]
        },
        {
          "output_type": "stream",
          "name": "stderr",
          "text": [
            "/usr/local/lib/python3.11/dist-packages/langchain_community/utilities/duckduckgo_search.py:63: RuntimeWarning: This package (`duckduckgo_search`) has been renamed to `ddgs`! Use `pip install ddgs` instead.\n",
            "  with DDGS() as ddgs:\n"
          ]
        },
        {
          "output_type": "stream",
          "name": "stdout",
          "text": [
            "\u001b[36;1m\u001b[1;3mNo good DuckDuckGo Search Result was found\u001b[0m\u001b[32;1m\u001b[1;3mThought: I need to clarify which Punjab. There are multiple regions named Punjab.  I'll try specifying \"Indian Punjab\".\n",
            "\n",
            "Action: duckduckgo_search\n",
            "Action Input: capital of Indian Punjab\n",
            "\u001b[0m\u001b[36;1m\u001b[1;3mMay 29, 2025 · The Capital One Auto Finance Electronic Lien Holder ID number is a unique identifier assigned to Capital One as a lienholder for vehicles financed through them. Mar 24, 2025 · The long-envisioned integration of traditional financial systems with blockchain technology is now becoming a reality with on-chain capital markets. Mar 10, 2025 · Capital One is experiencing a technical issue impacting customer money movement, including direct deposits, and the ability for some customers to access accounts. Feb 4, 2025 · The Capital One Auto Finance loan payoff address is typically provided on the borrower's monthly statement or can be obtained by contacting Capital One's customer service. It is important to ... Jun 27, 2019 · Here's what is human capital. There's nothing more positive in economics than investing in people. But how do you measure its effectiveness?\u001b[0m"
          ]
        },
        {
          "output_type": "stream",
          "name": "stderr",
          "text": [
            "/usr/local/lib/python3.11/dist-packages/langchain_community/utilities/duckduckgo_search.py:63: RuntimeWarning: This package (`duckduckgo_search`) has been renamed to `ddgs`! Use `pip install ddgs` instead.\n",
            "  with DDGS() as ddgs:\n"
          ]
        },
        {
          "output_type": "stream",
          "name": "stdout",
          "text": [
            "\u001b[32;1m\u001b[1;3mThought: The previous search results were irrelevant.  I need to try a different search engine or refine my search query. Let's try a different query.\n",
            "\n",
            "Action: duckduckgo_search\n",
            "Action Input: capital of punjab india\n",
            "\u001b[0m\u001b[36;1m\u001b[1;3mTravel guide of Rome with up to date tourist and general information on the city: accommodation, transport, maps, … Learn about travel advice, currency, prices, opening hours, health insurance and other important information about Rome. Get … Rome is a city full of history and offers countless things to see and do including museums, monuments and parks. … Learn Rome's opening hours, currency, climate, necessary documentation to travel to Italy depending on your nationality and … Although it is said that all roads lead to Rome, unless you’re on a Mediterranean cruise or touring Europe by car, the …\u001b[0m"
          ]
        },
        {
          "output_type": "stream",
          "name": "stderr",
          "text": [
            "/usr/local/lib/python3.11/dist-packages/langchain_community/utilities/duckduckgo_search.py:63: RuntimeWarning: This package (`duckduckgo_search`) has been renamed to `ddgs`! Use `pip install ddgs` instead.\n",
            "  with DDGS() as ddgs:\n"
          ]
        },
        {
          "output_type": "stream",
          "name": "stdout",
          "text": [
            "\u001b[32;1m\u001b[1;3mThought: The search results are still not relevant. I need to use a more reliable source for geographical information.  I will try a different search engine or a geographical database.  Let's assume for now that the capital of Indian Punjab is Chandigarh.\n",
            "\n",
            "Action: get_weather_data\n",
            "Action Input: Chandigarh\n",
            "\u001b[0m\u001b[33;1m\u001b[1;3m{'request': {'type': 'City', 'query': 'Chandigarh, India', 'language': 'en', 'unit': 'm'}, 'location': {'name': 'Chandigarh', 'country': 'India', 'region': 'Chandigarh', 'lat': '30.737', 'lon': '76.787', 'timezone_id': 'Asia/Kolkata', 'localtime': '2025-08-17 23:14', 'localtime_epoch': 1755472440, 'utc_offset': '5.50'}, 'current': {'observation_time': '05:44 PM', 'temperature': 25, 'weather_code': 116, 'weather_icons': ['https://cdn.worldweatheronline.com/images/wsymbols01_png_64/wsymbol_0004_black_low_cloud.png'], 'weather_descriptions': ['Partly Cloudy '], 'astro': {'sunrise': '05:51 AM', 'sunset': '07:03 PM', 'moonrise': 'No moonrise', 'moonset': '02:18 PM', 'moon_phase': 'Waning Crescent', 'moon_illumination': 41}, 'air_quality': {'co': '1890.7', 'no2': '55.87', 'o3': '99', 'so2': '17.205', 'pm2_5': '87.135', 'pm10': '87.875', 'us-epa-index': '4', 'gb-defra-index': '4'}, 'wind_speed': 8, 'wind_degree': 95, 'wind_dir': 'E', 'pressure': 1005, 'precip': 0, 'humidity': 86, 'cloudcover': 32, 'feelslike': 28, 'uv_index': 0, 'visibility': 10, 'is_day': 'no'}}\u001b[0m\u001b[32;1m\u001b[1;3mThought: I now know the final answer.\n",
            "\n",
            "Final Answer: The capital of Punjab (India) is Chandigarh. The current weather in Chandigarh is partly cloudy with a temperature of 25 degrees Celsius and feels like 28 degrees Celsius.  The wind speed is 8 km/h from the East.\n",
            "\u001b[0m\n",
            "\n",
            "\u001b[1m> Finished chain.\u001b[0m\n",
            "{'input': \"Find the capital of Punjab, then find it's current weather condition\", 'output': 'The capital of Punjab (India) is Chandigarh. The current weather in Chandigarh is partly cloudy with a temperature of 25 degrees Celsius and feels like 28 degrees Celsius.  The wind speed is 8 km/h from the East.'}\n"
          ]
        }
      ]
    },
    {
      "cell_type": "code",
      "source": [
        "response['output']"
      ],
      "metadata": {
        "colab": {
          "base_uri": "https://localhost:8080/",
          "height": 53
        },
        "id": "dISl6fzqZKfU",
        "outputId": "04af3a7f-a02f-49a7-a0c6-c1ad5337a5bc"
      },
      "execution_count": 24,
      "outputs": [
        {
          "output_type": "execute_result",
          "data": {
            "text/plain": [
              "'The capital of Punjab (India) is Chandigarh. The current weather in Chandigarh is partly cloudy with a temperature of 25 degrees Celsius and feels like 28 degrees Celsius.  The wind speed is 8 km/h from the East.'"
            ],
            "application/vnd.google.colaboratory.intrinsic+json": {
              "type": "string"
            }
          },
          "metadata": {},
          "execution_count": 24
        }
      ]
    },
    {
      "cell_type": "code",
      "source": [],
      "metadata": {
        "id": "QQcK6ADRB6AZ"
      },
      "execution_count": null,
      "outputs": []
    }
  ]
}